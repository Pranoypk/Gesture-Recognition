{
 "cells": [
  {
   "cell_type": "markdown",
   "metadata": {
    "id": "A4uWlKobzCqe"
   },
   "source": [
    "# Gesture Recognition\n",
    "In this group project, you are going to build a 3D Conv model that will be able to predict the 5 gestures correctly. Please import the following libraries to get started."
   ]
  },
  {
   "cell_type": "code",
   "execution_count": null,
   "metadata": {
    "colab": {
     "base_uri": "https://localhost:8080/"
    },
    "executionInfo": {
     "elapsed": 19275,
     "status": "ok",
     "timestamp": 1639469482554,
     "user": {
      "displayName": "Rajesh Kumar",
      "photoUrl": "https://lh3.googleusercontent.com/a-/AOh14Gj1g2_gr6swv8LrV37ZSsSVoMBTlC5xpstWf7djDA=s64",
      "userId": "08705855997000983605"
     },
     "user_tz": -330
    },
    "id": "z10lQzJH3BG5",
    "outputId": "6932e42b-ab32-4f2a-9c6b-914764e731b7"
   },
   "outputs": [
    {
     "name": "stdout",
     "output_type": "stream",
     "text": [
      "Mounted at /content/drive\n"
     ]
    }
   ],
   "source": [
    "from google.colab import drive\n",
    "drive.mount('/content/drive')"
   ]
  },
  {
   "cell_type": "code",
   "execution_count": null,
   "metadata": {
    "id": "i4xILsEXh2At"
   },
   "outputs": [],
   "source": [
    "#Copy the contents from Google drive to local path in colab\n",
    "#!cp -r '/content/drive/MyDrive/Project_data' '/content/sample_data/Project_data'"
   ]
  },
  {
   "cell_type": "code",
   "execution_count": null,
   "metadata": {
    "colab": {
     "base_uri": "https://localhost:8080/"
    },
    "executionInfo": {
     "elapsed": 18,
     "status": "ok",
     "timestamp": 1639476491318,
     "user": {
      "displayName": "Rajesh Kumar",
      "photoUrl": "https://lh3.googleusercontent.com/a-/AOh14Gj1g2_gr6swv8LrV37ZSsSVoMBTlC5xpstWf7djDA=s64",
      "userId": "08705855997000983605"
     },
     "user_tz": -330
    },
    "id": "RTiet3thoYPM",
    "outputId": "8d3340d0-3bea-4125-9570-dde047abe3dc"
   },
   "outputs": [
    {
     "name": "stdout",
     "output_type": "stream",
     "text": [
      "Tue Dec 14 10:08:11 2021       \n",
      "+-----------------------------------------------------------------------------+\n",
      "| NVIDIA-SMI 495.44       Driver Version: 460.32.03    CUDA Version: 11.2     |\n",
      "|-------------------------------+----------------------+----------------------+\n",
      "| GPU  Name        Persistence-M| Bus-Id        Disp.A | Volatile Uncorr. ECC |\n",
      "| Fan  Temp  Perf  Pwr:Usage/Cap|         Memory-Usage | GPU-Util  Compute M. |\n",
      "|                               |                      |               MIG M. |\n",
      "|===============================+======================+======================|\n",
      "|   0  Tesla P100-PCIE...  Off  | 00000000:00:04.0 Off |                    0 |\n",
      "| N/A   39C    P0    26W / 250W |      0MiB / 16280MiB |      0%      Default |\n",
      "|                               |                      |                  N/A |\n",
      "+-------------------------------+----------------------+----------------------+\n",
      "                                                                               \n",
      "+-----------------------------------------------------------------------------+\n",
      "| Processes:                                                                  |\n",
      "|  GPU   GI   CI        PID   Type   Process name                  GPU Memory |\n",
      "|        ID   ID                                                   Usage      |\n",
      "|=============================================================================|\n",
      "|  No running processes found                                                 |\n",
      "+-----------------------------------------------------------------------------+\n"
     ]
    }
   ],
   "source": [
    "gpu_info = !nvidia-smi\n",
    "gpu_info = '\\n'.join(gpu_info)\n",
    "if gpu_info.find('failed') >= 0:\n",
    "  print('Not connected to a GPU')\n",
    "else:\n",
    "  print(gpu_info)"
   ]
  },
  {
   "cell_type": "code",
   "execution_count": null,
   "metadata": {
    "id": "5M4fK77MzCqm"
   },
   "outputs": [],
   "source": [
    "import numpy as np\n",
    "import pandas as pd\n",
    "import datetime\n",
    "import os"
   ]
  },
  {
   "cell_type": "code",
   "execution_count": null,
   "metadata": {
    "id": "QcwPItBeNES5"
   },
   "outputs": [],
   "source": [
    "import cv2"
   ]
  },
  {
   "cell_type": "code",
   "execution_count": null,
   "metadata": {
    "id": "qr3ooVyxq0Ua"
   },
   "outputs": [],
   "source": [
    "from keras.models import Sequential, Model\n",
    "from keras.layers import Dense, GRU, Flatten, TimeDistributed, Flatten, BatchNormalization, Activation, Dropout\n",
    "from keras.layers.convolutional import Conv3D, MaxPooling3D, Conv2D, MaxPooling2D\n",
    "from keras.layers.recurrent import LSTM\n",
    "from keras.regularizers import l2\n",
    "from keras.callbacks import ModelCheckpoint, ReduceLROnPlateau, EarlyStopping\n",
    "from tensorflow.keras import optimizers"
   ]
  },
  {
   "cell_type": "code",
   "execution_count": null,
   "metadata": {
    "id": "-a0TLtfjlKyX"
   },
   "outputs": [],
   "source": [
    "import matplotlib.pyplot as plt\n",
    "% matplotlib inline"
   ]
  },
  {
   "cell_type": "code",
   "execution_count": null,
   "metadata": {
    "id": "Ifwib3LZzCqr"
   },
   "outputs": [],
   "source": [
    "# We set the random seed so that the results don't vary drastically.\n",
    "np.random.seed(30)\n",
    "import random as rn\n",
    "rn.seed(30)\n",
    "from keras import backend as K\n",
    "import tensorflow as tf\n",
    "tf.random.set_seed(30)"
   ]
  },
  {
   "cell_type": "code",
   "execution_count": null,
   "metadata": {
    "id": "x01zj0pIzCqu"
   },
   "outputs": [],
   "source": [
    "# In this block, you read the folder names for training and validation.\n",
    "# You also set the `batch_size` here. Note that you set the batch size in such a way that you are able to use the GPU in full capacity.\n",
    "# You keep increasing the batch size until the machine throws an error.\n",
    "\n",
    "#gdrive path\n",
    "#train_doc = np.random.permutation(open('/content/drive/My Drive/Project_data/train.csv').readlines())\n",
    "#val_doc = np.random.permutation(open('/content/drive/My Drive/Project_data/val.csv').readlines())\n",
    "\n",
    "#local path\n",
    "train_doc = np.random.permutation(open('/content/sample_data/Project_data/train.csv').readlines())\n",
    "val_doc = np.random.permutation(open('/content/sample_data/Project_data/val.csv').readlines())"
   ]
  },
  {
   "cell_type": "code",
   "execution_count": null,
   "metadata": {
    "id": "w3AjBYtnusA-"
   },
   "outputs": [],
   "source": [
    "# Create a save path for saving the best models during each run with different parameters\n",
    "save_path = '/content/drive/My Drive/Colab Notebooks/gesture/'\n",
    "if not os.path.exists(save_path):\n",
    "  os.mkdir(save_path)\n",
    "\n",
    "save_path = '/content/drive/My Drive/Colab Notebooks/gesture/best_model/'\n",
    "if not os.path.exists(save_path):\n",
    "  os.mkdir(save_path)"
   ]
  },
  {
   "cell_type": "markdown",
   "metadata": {
    "id": "fVLpzLfOzCqv"
   },
   "source": [
    "## Generator\n",
    "This is one of the most important part of the code. The overall structure of the generator has been given."
   ]
  },
  {
   "cell_type": "code",
   "execution_count": null,
   "metadata": {
    "id": "ffE0miShzCqx"
   },
   "outputs": [],
   "source": [
    "#  In the generator, you are going to preprocess the images as you have images of 2 different dimensions as well as create a batch of video frames. \n",
    "#  You have to experiment with `img_idx`, `y`,`z` and normalization such that you get high accuracy.\n",
    "def generator(source_path, folder_list, batch_size,resize_ht,resize_wd):\n",
    "    print( 'Source path = ', source_path, '; batch size =', batch_size)\n",
    "    #print('folder_list = ', folder_list)\n",
    "    #create a list of image numbers you want to use for a particular video\n",
    "    img_idx = [0,1,2,4,6,8,10,12,14,16,18,20,22,24,26,27,28,29]\n",
    "    while True:\n",
    "        t = np.random.permutation(folder_list)\n",
    "        # calculate the number of batches\n",
    "        num_batches = int(len(t)/batch_size)\n",
    "        # we iterate over the number of batches\n",
    "        for batch in range(num_batches): \n",
    "            # x is the number of images you use for each video, (y,z) is the final size of the input images and 3 is the number of channels RGB\n",
    "            batch_data = np.zeros((batch_size,18,resize_ht,resize_wd,3)) \n",
    "            # batch_labels is the one hot representation of the output\n",
    "            batch_labels = np.zeros((batch_size,5)) \n",
    "            # iterate over the batch_size\n",
    "            for folder in range(batch_size): \n",
    "                # read all the images in the folder\n",
    "                imgs = os.listdir(source_path+'/'+ t[folder + (batch*batch_size)].split(';')[0]) \n",
    "                #  Iterate iver the frames/images of a folder to read them in\n",
    "                for idx,item in enumerate(img_idx): \n",
    "                    image = cv2.imread(source_path+'/'+ t[folder + (batch*batch_size)].strip().split(';')[0]+'/'+imgs[item]).astype(np.float32)\n",
    "                    \n",
    "                    #crop the images and resize them. Note that the images are of 2 different shape \n",
    "                    #and the conv3D will throw error if the inputs in a batch have different shapes\n",
    "                    #if image.shape[1] == 160:\n",
    "                    #    image = cv2.resize(image[:,20:140,:],(resize_ht,resize_wd)).astype(np.float32)\n",
    "                    #else:\n",
    "                    #    image = cv2.resize(image,(resize_ht,resize_wd)).astype(np.float32)\n",
    "                    image = cv2.resize(image,(resize_ht,resize_wd)).astype(np.float32)\n",
    "\n",
    "                    #normalise and feed in the image\n",
    "                    batch_data[folder,idx,:,:,0] = image[:,:,0] - 104\n",
    "                    batch_data[folder,idx,:,:,1] = image[:,:,1] - 117\n",
    "                    batch_data[folder,idx,:,:,2] = image[:,:,2] - 123\n",
    "                    \n",
    "                batch_labels[folder, int(t[folder + (batch*batch_size)].strip().split(';')[2])] = 1\n",
    "            #you yield the batch_data and the batch_labels, remember what does yield do\n",
    "            yield batch_data, batch_labels \n",
    "\n",
    "        \n",
    "        # write the code for the remaining data points which are left after full batches\n",
    "        if (len(t)%batch_size) != 0:\n",
    "            batch_data = np.zeros((len(t)%batch_size,len(img_idx),resize_ht,resize_wd,3))\n",
    "            batch_labels = np.zeros((len(t)%batch_size,5))\n",
    "            for folder in range(len(t)%batch_size):\n",
    "                imgs = os.listdir(source_path+'/'+ t[folder + (num_batches*batch_size)].split(';')[0])\n",
    "                for idx,item in enumerate(img_idx):\n",
    "                    image = cv2.imread(source_path+'/'+ t[folder + (num_batches*batch_size)].strip().split(';')[0]+'/'+imgs[item]).astype(np.float32)\n",
    "                    #if image.shape[1] == 160:\n",
    "                    #    image = cv2.resize(image[:,20:140,:],(resize_ht,resize_wd)).astype(np.float32)\n",
    "                    #else:\n",
    "                    #    image = cv2.resize(image,(resize_ht,resize_wd)).astype(np.float32)\n",
    "                    image = cv2.resize(image,(resize_ht,resize_wd)).astype(np.float32)\n",
    "\n",
    "                    batch_data[folder,idx,:,:,0] = image[:,:,0] - 104\n",
    "                    batch_data[folder,idx,:,:,1] = image[:,:,1] - 117\n",
    "                    batch_data[folder,idx,:,:,2] = image[:,:,2] - 123\n",
    "\n",
    "                batch_labels[folder, int(t[folder + (num_batches*batch_size)].strip().split(';')[2])] = 1\n",
    "\n",
    "            yield batch_data, batch_labels\n"
   ]
  },
  {
   "cell_type": "markdown",
   "metadata": {
    "id": "YUxzrvmKzCqz"
   },
   "source": [
    "Note here that a video is represented above in the generator as (number of images, height, width, number of channels). Take this into consideration while creating the model architecture."
   ]
  },
  {
   "cell_type": "code",
   "execution_count": null,
   "metadata": {
    "colab": {
     "base_uri": "https://localhost:8080/"
    },
    "executionInfo": {
     "elapsed": 364,
     "status": "ok",
     "timestamp": 1639476695576,
     "user": {
      "displayName": "Rajesh Kumar",
      "photoUrl": "https://lh3.googleusercontent.com/a-/AOh14Gj1g2_gr6swv8LrV37ZSsSVoMBTlC5xpstWf7djDA=s64",
      "userId": "08705855997000983605"
     },
     "user_tz": -330
    },
    "id": "sKFBX69izCq1",
    "outputId": "3205b8b5-e9dc-40d5-ef8b-3ed9ad1fb0cd"
   },
   "outputs": [
    {
     "name": "stdout",
     "output_type": "stream",
     "text": [
      "# training sequences = 663\n",
      "# validation sequences = 100\n"
     ]
    }
   ],
   "source": [
    "curr_dt_time = datetime.datetime.now()\n",
    "\n",
    "#gdrive path\n",
    "#train_path = '/content/drive/My Drive/Project_data/train'\n",
    "#val_path = '/content/drive/My Drive/Project_data/val'\n",
    "\n",
    "#local path\n",
    "train_path = '/content/sample_data/Project_data/train'\n",
    "val_path = '/content/sample_data/Project_data/val'\n",
    "\n",
    "num_train_sequences = len(train_doc)\n",
    "print('# training sequences =', num_train_sequences)\n",
    "num_val_sequences = len(val_doc)\n",
    "print('# validation sequences =', num_val_sequences)\n"
   ]
  },
  {
   "cell_type": "markdown",
   "metadata": {
    "id": "epV_aTvTzCq2"
   },
   "source": [
    "## Model\n",
    "Here you make the model using different functionalities that Keras provides. Remember to use `Conv3D` and `MaxPooling3D` and not `Conv2D` and `Maxpooling2D` for a 3D convolution model. You would want to use `TimeDistributed` while building a Conv2D + RNN model. Also remember that the last layer is the softmax. Design the network in such a way that the model is able to give good accuracy on the least number of parameters so that it can fit in the memory of the webcam."
   ]
  },
  {
   "cell_type": "code",
   "execution_count": null,
   "metadata": {
    "id": "RUp_1b-SzCq3"
   },
   "outputs": [],
   "source": [
    "# Model 1\n",
    "#\n",
    "# with size of the image as 84x84\n",
    "resize_ht = 84\n",
    "resize_wd = 84\n",
    "model_1 = Sequential()\n",
    "\n",
    "#Input Layer\n",
    "model_1.add(Conv3D(64,(3,3,3),padding='same',strides=(1,1,1),input_shape=(18,resize_ht,resize_wd,3)))\n",
    "model_1.add(BatchNormalization())\n",
    "model_1.add(Activation('relu'))\n",
    "model_1.add(MaxPooling3D(pool_size=(2,2,2),strides=(2,2,2)))\n",
    "\n",
    "#Hidden Layer\n",
    "model_1.add(Conv3D(128,(3,3,3),padding='same',strides=(1,1,1)))\n",
    "model_1.add(BatchNormalization())\n",
    "model_1.add(Activation('relu'))\n",
    "model_1.add(MaxPooling3D(pool_size=(2,2,2),strides=(2,2,2)))\n",
    "\n",
    "#Hidden Layer\n",
    "model_1.add(Conv3D(256,(3,3,3),padding='same',strides=(1,1,1)))\n",
    "model_1.add(BatchNormalization())\n",
    "model_1.add(Activation('relu'))\n",
    "model_1.add(MaxPooling3D(pool_size=(2,2,2),strides=(2,2,2)))\n",
    "\n",
    "#Hidden Layer\n",
    "model_1.add(Conv3D(512,(3,3,3),padding='same',strides=(1,1,1)))\n",
    "model_1.add(BatchNormalization())\n",
    "model_1.add(Activation('relu'))\n",
    "model_1.add(MaxPooling3D(pool_size=(2,2,2),strides=(2,2,2)))\n",
    "\n",
    "#Flatten\n",
    "model_1.add(Flatten())\n",
    "model_1.add(Dropout(0.5))\n",
    "\n",
    "#Fully Connected Layer\n",
    "model_1.add(Dense(512,activation='relu'))\n",
    "model_1.add(Dropout(0.5))\n",
    "\n",
    "#Final Output Layer\n",
    "model_1.add(Dense(5,activation='softmax'))\n"
   ]
  },
  {
   "cell_type": "markdown",
   "metadata": {
    "id": "bDH9chWRzCq5"
   },
   "source": [
    "Now that you have written the model, the next step is to `compile` the model. When you print the `summary` of the model, you'll see the total number of parameters you have to train."
   ]
  },
  {
   "cell_type": "code",
   "execution_count": null,
   "metadata": {
    "colab": {
     "base_uri": "https://localhost:8080/"
    },
    "executionInfo": {
     "elapsed": 362,
     "status": "ok",
     "timestamp": 1639476727509,
     "user": {
      "displayName": "Rajesh Kumar",
      "photoUrl": "https://lh3.googleusercontent.com/a-/AOh14Gj1g2_gr6swv8LrV37ZSsSVoMBTlC5xpstWf7djDA=s64",
      "userId": "08705855997000983605"
     },
     "user_tz": -330
    },
    "id": "wsJo-68azCq5",
    "outputId": "19dd686f-06ee-4f21-bf05-6401f76a1b57",
    "scrolled": true
   },
   "outputs": [
    {
     "name": "stdout",
     "output_type": "stream",
     "text": [
      "Model: \"sequential\"\n",
      "_________________________________________________________________\n",
      " Layer (type)                Output Shape              Param #   \n",
      "=================================================================\n",
      " conv3d (Conv3D)             (None, 18, 84, 84, 64)    5248      \n",
      "                                                                 \n",
      " batch_normalization (BatchN  (None, 18, 84, 84, 64)   256       \n",
      " ormalization)                                                   \n",
      "                                                                 \n",
      " activation (Activation)     (None, 18, 84, 84, 64)    0         \n",
      "                                                                 \n",
      " max_pooling3d (MaxPooling3D  (None, 9, 42, 42, 64)    0         \n",
      " )                                                               \n",
      "                                                                 \n",
      " conv3d_1 (Conv3D)           (None, 9, 42, 42, 128)    221312    \n",
      "                                                                 \n",
      " batch_normalization_1 (Batc  (None, 9, 42, 42, 128)   512       \n",
      " hNormalization)                                                 \n",
      "                                                                 \n",
      " activation_1 (Activation)   (None, 9, 42, 42, 128)    0         \n",
      "                                                                 \n",
      " max_pooling3d_1 (MaxPooling  (None, 4, 21, 21, 128)   0         \n",
      " 3D)                                                             \n",
      "                                                                 \n",
      " conv3d_2 (Conv3D)           (None, 4, 21, 21, 256)    884992    \n",
      "                                                                 \n",
      " batch_normalization_2 (Batc  (None, 4, 21, 21, 256)   1024      \n",
      " hNormalization)                                                 \n",
      "                                                                 \n",
      " activation_2 (Activation)   (None, 4, 21, 21, 256)    0         \n",
      "                                                                 \n",
      " max_pooling3d_2 (MaxPooling  (None, 2, 10, 10, 256)   0         \n",
      " 3D)                                                             \n",
      "                                                                 \n",
      " conv3d_3 (Conv3D)           (None, 2, 10, 10, 512)    3539456   \n",
      "                                                                 \n",
      " batch_normalization_3 (Batc  (None, 2, 10, 10, 512)   2048      \n",
      " hNormalization)                                                 \n",
      "                                                                 \n",
      " activation_3 (Activation)   (None, 2, 10, 10, 512)    0         \n",
      "                                                                 \n",
      " max_pooling3d_3 (MaxPooling  (None, 1, 5, 5, 512)     0         \n",
      " 3D)                                                             \n",
      "                                                                 \n",
      " flatten (Flatten)           (None, 12800)             0         \n",
      "                                                                 \n",
      " dropout (Dropout)           (None, 12800)             0         \n",
      "                                                                 \n",
      " dense (Dense)               (None, 512)               6554112   \n",
      "                                                                 \n",
      " dropout_1 (Dropout)         (None, 512)               0         \n",
      "                                                                 \n",
      " dense_1 (Dense)             (None, 5)                 2565      \n",
      "                                                                 \n",
      "=================================================================\n",
      "Total params: 11,211,525\n",
      "Trainable params: 11,209,605\n",
      "Non-trainable params: 1,920\n",
      "_________________________________________________________________\n",
      "None\n"
     ]
    }
   ],
   "source": [
    "# Set the optimizer parameters\n",
    "optimiser = optimizers.SGD(learning_rate=0.001,decay=1e-6,momentum=0.7,nesterov=True)\n",
    "\n",
    "#Compile the model. Capture the accuracy metrics\n",
    "model_1.compile(optimizer=optimiser, loss='categorical_crossentropy', metrics=['categorical_accuracy'])\n",
    "\n",
    "# Check the model parameters\n",
    "print (model_1.summary())"
   ]
  },
  {
   "cell_type": "markdown",
   "metadata": {
    "id": "DhfkfAMNzCq6"
   },
   "source": [
    "Let us create the `train_generator` and the `val_generator` which will be used in `.fit`."
   ]
  },
  {
   "cell_type": "code",
   "execution_count": null,
   "metadata": {
    "colab": {
     "base_uri": "https://localhost:8080/"
    },
    "executionInfo": {
     "elapsed": 356,
     "status": "ok",
     "timestamp": 1639476741298,
     "user": {
      "displayName": "Rajesh Kumar",
      "photoUrl": "https://lh3.googleusercontent.com/a-/AOh14Gj1g2_gr6swv8LrV37ZSsSVoMBTlC5xpstWf7djDA=s64",
      "userId": "08705855997000983605"
     },
     "user_tz": -330
    },
    "id": "DuNV1DhTzCq7",
    "outputId": "2dfd461a-07f9-49a4-894b-afae86c69daa"
   },
   "outputs": [
    {
     "name": "stdout",
     "output_type": "stream",
     "text": [
      "# epochs = 30\n",
      "# batch_size = 32\n"
     ]
    }
   ],
   "source": [
    "# choose the number of epochs\n",
    "num_epochs = 30\n",
    "print ('# epochs =', num_epochs)\n",
    "# Choose the batch size\n",
    "batch_size = 32\n",
    "print('# batch_size =',batch_size)\n",
    "\n",
    "# Call the generator function for train and validation folders\n",
    "train_generator = generator(train_path, train_doc, batch_size,resize_ht,resize_wd)\n",
    "val_generator = generator(val_path, val_doc, batch_size,resize_ht,resize_wd)"
   ]
  },
  {
   "cell_type": "code",
   "execution_count": null,
   "metadata": {
    "id": "Fr9yymGSzCq8"
   },
   "outputs": [],
   "source": [
    "# Pathname for saving the best model during each run\n",
    "model_name = save_path + 'model_1' + '_' + str(datetime.datetime.now()).replace(' ','').replace(':','_') + '/'\n",
    "    \n",
    "if not os.path.exists(model_name):\n",
    "    os.mkdir(model_name)\n",
    "\n",
    "\n",
    "filepath = model_name + 'model-{epoch:05d}-{loss:.5f}-{categorical_accuracy:.5f}-{val_loss:.5f}-{val_categorical_accuracy:.5f}.h5'\n",
    "\n",
    "# Checkpoints when to save the best model\n",
    "checkpoint = ModelCheckpoint(filepath, monitor='val_loss', verbose=1, save_best_only=True, save_weights_only=False, mode='auto', save_freq='epoch')\n",
    "\n",
    "# Reduce learning rate when a metric has stopped improving till learning_rate=0.00001\n",
    "LR = ReduceLROnPlateau(monitor='val_loss', factor=0.5, patience=2, verbose=1, mode='min', min_delta=0.0001, cooldown=0, min_lr=0.00001)\n",
    "\n",
    "# Early stopping if there is no improvement in validation loss for 12 consecutive epochs\n",
    "earlystop = EarlyStopping(monitor='val_loss',min_delta=0,patience=12,verbose=1)\n",
    "callbacks_list = [checkpoint, LR, earlystop]\n",
    "#callbacks_list = [checkpoint, LR]"
   ]
  },
  {
   "cell_type": "code",
   "execution_count": null,
   "metadata": {
    "id": "9t5iLAskzCq8"
   },
   "outputs": [],
   "source": [
    "#The `steps_per_epoch` and `validation_steps` are used by `.fit()` to decide the number of next() calls it need to make.\n",
    "if (num_train_sequences%batch_size) == 0:\n",
    "    steps_per_epoch = int(num_train_sequences/batch_size)\n",
    "else:\n",
    "    steps_per_epoch = (num_train_sequences//batch_size) + 1\n",
    "\n",
    "if (num_val_sequences%batch_size) == 0:\n",
    "    validation_step_cnt = int(num_val_sequences/batch_size)\n",
    "else:\n",
    "    validation_step_cnt = (num_val_sequences//batch_size) + 1"
   ]
  },
  {
   "cell_type": "markdown",
   "metadata": {
    "id": "fxOpW__rzCq9"
   },
   "source": [
    "Let us now fit the model. This will start training the model and with the help of the checkpoints, you'll be able to save the model at the end of each epoch."
   ]
  },
  {
   "cell_type": "code",
   "execution_count": null,
   "metadata": {
    "colab": {
     "base_uri": "https://localhost:8080/"
    },
    "executionInfo": {
     "elapsed": 719257,
     "status": "ok",
     "timestamp": 1639477486733,
     "user": {
      "displayName": "Rajesh Kumar",
      "photoUrl": "https://lh3.googleusercontent.com/a-/AOh14Gj1g2_gr6swv8LrV37ZSsSVoMBTlC5xpstWf7djDA=s64",
      "userId": "08705855997000983605"
     },
     "user_tz": -330
    },
    "id": "EIR0s2ahzCq9",
    "outputId": "7b3af0ac-e766-4c60-875c-97a8db80381d"
   },
   "outputs": [
    {
     "name": "stdout",
     "output_type": "stream",
     "text": [
      "Source path =  /content/sample_data/Project_data/train ; batch size = 32\n",
      "Epoch 1/30\n",
      "21/21 [==============================] - ETA: 0s - loss: 3.0874 - categorical_accuracy: 0.3348Source path =  /content/sample_data/Project_data/val ; batch size = 32\n",
      "\n",
      "Epoch 00001: val_loss improved from inf to 7.59542, saving model to /content/drive/My Drive/Colab Notebooks/gesture/best_model/model_1_2021-12-1410_12_30.987809/model-00001-3.08741-0.33484-7.59542-0.23000.h5\n",
      "21/21 [==============================] - 34s 1s/step - loss: 3.0874 - categorical_accuracy: 0.3348 - val_loss: 7.5954 - val_categorical_accuracy: 0.2300 - lr: 0.0010\n",
      "Epoch 2/30\n",
      "21/21 [==============================] - ETA: 0s - loss: 1.6971 - categorical_accuracy: 0.4314\n",
      "Epoch 00002: val_loss improved from 7.59542 to 5.12654, saving model to /content/drive/My Drive/Colab Notebooks/gesture/best_model/model_1_2021-12-1410_12_30.987809/model-00002-1.69707-0.43137-5.12654-0.19000.h5\n",
      "21/21 [==============================] - 25s 1s/step - loss: 1.6971 - categorical_accuracy: 0.4314 - val_loss: 5.1265 - val_categorical_accuracy: 0.1900 - lr: 0.0010\n",
      "Epoch 3/30\n",
      "21/21 [==============================] - ETA: 0s - loss: 1.2450 - categorical_accuracy: 0.5098\n",
      "Epoch 00003: val_loss improved from 5.12654 to 3.34403, saving model to /content/drive/My Drive/Colab Notebooks/gesture/best_model/model_1_2021-12-1410_12_30.987809/model-00003-1.24502-0.50980-3.34403-0.28000.h5\n",
      "21/21 [==============================] - 24s 1s/step - loss: 1.2450 - categorical_accuracy: 0.5098 - val_loss: 3.3440 - val_categorical_accuracy: 0.2800 - lr: 0.0010\n",
      "Epoch 4/30\n",
      "21/21 [==============================] - ETA: 0s - loss: 1.1026 - categorical_accuracy: 0.5581\n",
      "Epoch 00004: val_loss did not improve from 3.34403\n",
      "21/21 [==============================] - 23s 1s/step - loss: 1.1026 - categorical_accuracy: 0.5581 - val_loss: 3.4680 - val_categorical_accuracy: 0.2400 - lr: 0.0010\n",
      "Epoch 5/30\n",
      "21/21 [==============================] - ETA: 0s - loss: 1.0797 - categorical_accuracy: 0.5867\n",
      "Epoch 00005: val_loss improved from 3.34403 to 2.08452, saving model to /content/drive/My Drive/Colab Notebooks/gesture/best_model/model_1_2021-12-1410_12_30.987809/model-00005-1.07967-0.58673-2.08452-0.26000.h5\n",
      "21/21 [==============================] - 24s 1s/step - loss: 1.0797 - categorical_accuracy: 0.5867 - val_loss: 2.0845 - val_categorical_accuracy: 0.2600 - lr: 0.0010\n",
      "Epoch 6/30\n",
      "21/21 [==============================] - ETA: 0s - loss: 0.9758 - categorical_accuracy: 0.6078\n",
      "Epoch 00006: val_loss improved from 2.08452 to 1.68868, saving model to /content/drive/My Drive/Colab Notebooks/gesture/best_model/model_1_2021-12-1410_12_30.987809/model-00006-0.97579-0.60784-1.68868-0.28000.h5\n",
      "21/21 [==============================] - 24s 1s/step - loss: 0.9758 - categorical_accuracy: 0.6078 - val_loss: 1.6887 - val_categorical_accuracy: 0.2800 - lr: 0.0010\n",
      "Epoch 7/30\n",
      "21/21 [==============================] - ETA: 0s - loss: 0.9045 - categorical_accuracy: 0.6365\n",
      "Epoch 00007: val_loss improved from 1.68868 to 1.18815, saving model to /content/drive/My Drive/Colab Notebooks/gesture/best_model/model_1_2021-12-1410_12_30.987809/model-00007-0.90448-0.63650-1.18815-0.48000.h5\n",
      "21/21 [==============================] - 25s 1s/step - loss: 0.9045 - categorical_accuracy: 0.6365 - val_loss: 1.1882 - val_categorical_accuracy: 0.4800 - lr: 0.0010\n",
      "Epoch 8/30\n",
      "21/21 [==============================] - ETA: 0s - loss: 0.9296 - categorical_accuracy: 0.6350\n",
      "Epoch 00008: val_loss improved from 1.18815 to 1.04890, saving model to /content/drive/My Drive/Colab Notebooks/gesture/best_model/model_1_2021-12-1410_12_30.987809/model-00008-0.92959-0.63499-1.04890-0.59000.h5\n",
      "21/21 [==============================] - 24s 1s/step - loss: 0.9296 - categorical_accuracy: 0.6350 - val_loss: 1.0489 - val_categorical_accuracy: 0.5900 - lr: 0.0010\n",
      "Epoch 9/30\n",
      "21/21 [==============================] - ETA: 0s - loss: 0.8878 - categorical_accuracy: 0.6591\n",
      "Epoch 00009: val_loss improved from 1.04890 to 1.01083, saving model to /content/drive/My Drive/Colab Notebooks/gesture/best_model/model_1_2021-12-1410_12_30.987809/model-00009-0.88783-0.65913-1.01083-0.60000.h5\n",
      "21/21 [==============================] - 24s 1s/step - loss: 0.8878 - categorical_accuracy: 0.6591 - val_loss: 1.0108 - val_categorical_accuracy: 0.6000 - lr: 0.0010\n",
      "Epoch 10/30\n",
      "21/21 [==============================] - ETA: 0s - loss: 0.7788 - categorical_accuracy: 0.7074\n",
      "Epoch 00010: val_loss improved from 1.01083 to 0.76522, saving model to /content/drive/My Drive/Colab Notebooks/gesture/best_model/model_1_2021-12-1410_12_30.987809/model-00010-0.77879-0.70739-0.76522-0.73000.h5\n",
      "21/21 [==============================] - 24s 1s/step - loss: 0.7788 - categorical_accuracy: 0.7074 - val_loss: 0.7652 - val_categorical_accuracy: 0.7300 - lr: 0.0010\n",
      "Epoch 11/30\n",
      "21/21 [==============================] - ETA: 0s - loss: 0.7264 - categorical_accuracy: 0.7285\n",
      "Epoch 00011: val_loss did not improve from 0.76522\n",
      "21/21 [==============================] - 24s 1s/step - loss: 0.7264 - categorical_accuracy: 0.7285 - val_loss: 0.7808 - val_categorical_accuracy: 0.6500 - lr: 0.0010\n",
      "Epoch 12/30\n",
      "21/21 [==============================] - ETA: 0s - loss: 0.7020 - categorical_accuracy: 0.6953\n",
      "Epoch 00012: val_loss improved from 0.76522 to 0.72862, saving model to /content/drive/My Drive/Colab Notebooks/gesture/best_model/model_1_2021-12-1410_12_30.987809/model-00012-0.70201-0.69532-0.72862-0.69000.h5\n",
      "21/21 [==============================] - 23s 1s/step - loss: 0.7020 - categorical_accuracy: 0.6953 - val_loss: 0.7286 - val_categorical_accuracy: 0.6900 - lr: 0.0010\n",
      "Epoch 13/30\n",
      "21/21 [==============================] - ETA: 0s - loss: 0.6343 - categorical_accuracy: 0.7496\n",
      "Epoch 00013: val_loss improved from 0.72862 to 0.68285, saving model to /content/drive/My Drive/Colab Notebooks/gesture/best_model/model_1_2021-12-1410_12_30.987809/model-00013-0.63433-0.74962-0.68285-0.72000.h5\n",
      "21/21 [==============================] - 23s 1s/step - loss: 0.6343 - categorical_accuracy: 0.7496 - val_loss: 0.6829 - val_categorical_accuracy: 0.7200 - lr: 0.0010\n",
      "Epoch 14/30\n",
      "21/21 [==============================] - ETA: 0s - loss: 0.6188 - categorical_accuracy: 0.7617\n",
      "Epoch 00014: val_loss improved from 0.68285 to 0.55039, saving model to /content/drive/My Drive/Colab Notebooks/gesture/best_model/model_1_2021-12-1410_12_30.987809/model-00014-0.61882-0.76169-0.55039-0.81000.h5\n",
      "21/21 [==============================] - 24s 1s/step - loss: 0.6188 - categorical_accuracy: 0.7617 - val_loss: 0.5504 - val_categorical_accuracy: 0.8100 - lr: 0.0010\n",
      "Epoch 15/30\n",
      "21/21 [==============================] - ETA: 0s - loss: 0.5965 - categorical_accuracy: 0.7662\n",
      "Epoch 00015: val_loss did not improve from 0.55039\n",
      "21/21 [==============================] - 24s 1s/step - loss: 0.5965 - categorical_accuracy: 0.7662 - val_loss: 0.6362 - val_categorical_accuracy: 0.7900 - lr: 0.0010\n",
      "Epoch 16/30\n",
      "21/21 [==============================] - ETA: 0s - loss: 0.5744 - categorical_accuracy: 0.7843\n",
      "Epoch 00016: val_loss did not improve from 0.55039\n",
      "\n",
      "Epoch 00016: ReduceLROnPlateau reducing learning rate to 0.0005000000237487257.\n",
      "21/21 [==============================] - 22s 1s/step - loss: 0.5744 - categorical_accuracy: 0.7843 - val_loss: 0.5573 - val_categorical_accuracy: 0.8600 - lr: 0.0010\n",
      "Epoch 17/30\n",
      "21/21 [==============================] - ETA: 0s - loss: 0.4988 - categorical_accuracy: 0.8084\n",
      "Epoch 00017: val_loss improved from 0.55039 to 0.54437, saving model to /content/drive/My Drive/Colab Notebooks/gesture/best_model/model_1_2021-12-1410_12_30.987809/model-00017-0.49880-0.80845-0.54437-0.82000.h5\n",
      "21/21 [==============================] - 24s 1s/step - loss: 0.4988 - categorical_accuracy: 0.8084 - val_loss: 0.5444 - val_categorical_accuracy: 0.8200 - lr: 5.0000e-04\n",
      "Epoch 18/30\n",
      "21/21 [==============================] - ETA: 0s - loss: 0.4807 - categorical_accuracy: 0.8281\n",
      "Epoch 00018: val_loss improved from 0.54437 to 0.53586, saving model to /content/drive/My Drive/Colab Notebooks/gesture/best_model/model_1_2021-12-1410_12_30.987809/model-00018-0.48072-0.82805-0.53586-0.82000.h5\n",
      "21/21 [==============================] - 24s 1s/step - loss: 0.4807 - categorical_accuracy: 0.8281 - val_loss: 0.5359 - val_categorical_accuracy: 0.8200 - lr: 5.0000e-04\n",
      "Epoch 19/30\n",
      "21/21 [==============================] - ETA: 0s - loss: 0.4412 - categorical_accuracy: 0.8220\n",
      "Epoch 00019: val_loss did not improve from 0.53586\n",
      "21/21 [==============================] - 24s 1s/step - loss: 0.4412 - categorical_accuracy: 0.8220 - val_loss: 0.6012 - val_categorical_accuracy: 0.7600 - lr: 5.0000e-04\n",
      "Epoch 20/30\n",
      "21/21 [==============================] - ETA: 0s - loss: 0.4435 - categorical_accuracy: 0.8281\n",
      "Epoch 00020: val_loss did not improve from 0.53586\n",
      "\n",
      "Epoch 00020: ReduceLROnPlateau reducing learning rate to 0.0002500000118743628.\n",
      "21/21 [==============================] - 23s 1s/step - loss: 0.4435 - categorical_accuracy: 0.8281 - val_loss: 0.5380 - val_categorical_accuracy: 0.8000 - lr: 5.0000e-04\n",
      "Epoch 21/30\n",
      "21/21 [==============================] - ETA: 0s - loss: 0.3699 - categorical_accuracy: 0.8522\n",
      "Epoch 00021: val_loss improved from 0.53586 to 0.49584, saving model to /content/drive/My Drive/Colab Notebooks/gesture/best_model/model_1_2021-12-1410_12_30.987809/model-00021-0.36992-0.85219-0.49584-0.84000.h5\n",
      "21/21 [==============================] - 24s 1s/step - loss: 0.3699 - categorical_accuracy: 0.8522 - val_loss: 0.4958 - val_categorical_accuracy: 0.8400 - lr: 2.5000e-04\n",
      "Epoch 22/30\n",
      "21/21 [==============================] - ETA: 0s - loss: 0.4420 - categorical_accuracy: 0.8296\n",
      "Epoch 00022: val_loss improved from 0.49584 to 0.46846, saving model to /content/drive/My Drive/Colab Notebooks/gesture/best_model/model_1_2021-12-1410_12_30.987809/model-00022-0.44201-0.82956-0.46846-0.83000.h5\n",
      "21/21 [==============================] - 24s 1s/step - loss: 0.4420 - categorical_accuracy: 0.8296 - val_loss: 0.4685 - val_categorical_accuracy: 0.8300 - lr: 2.5000e-04\n",
      "Epoch 23/30\n",
      "21/21 [==============================] - ETA: 0s - loss: 0.3899 - categorical_accuracy: 0.8688\n",
      "Epoch 00023: val_loss improved from 0.46846 to 0.39198, saving model to /content/drive/My Drive/Colab Notebooks/gesture/best_model/model_1_2021-12-1410_12_30.987809/model-00023-0.38988-0.86878-0.39198-0.89000.h5\n",
      "21/21 [==============================] - 24s 1s/step - loss: 0.3899 - categorical_accuracy: 0.8688 - val_loss: 0.3920 - val_categorical_accuracy: 0.8900 - lr: 2.5000e-04\n",
      "Epoch 24/30\n",
      "21/21 [==============================] - ETA: 0s - loss: 0.4011 - categorical_accuracy: 0.8446\n",
      "Epoch 00024: val_loss did not improve from 0.39198\n",
      "21/21 [==============================] - 22s 1s/step - loss: 0.4011 - categorical_accuracy: 0.8446 - val_loss: 0.5216 - val_categorical_accuracy: 0.8500 - lr: 2.5000e-04\n",
      "Epoch 25/30\n",
      "21/21 [==============================] - ETA: 0s - loss: 0.3540 - categorical_accuracy: 0.8597\n",
      "Epoch 00025: val_loss did not improve from 0.39198\n",
      "\n",
      "Epoch 00025: ReduceLROnPlateau reducing learning rate to 0.0001250000059371814.\n",
      "21/21 [==============================] - 23s 1s/step - loss: 0.3540 - categorical_accuracy: 0.8597 - val_loss: 0.4759 - val_categorical_accuracy: 0.8400 - lr: 2.5000e-04\n",
      "Epoch 26/30\n",
      "21/21 [==============================] - ETA: 0s - loss: 0.3599 - categorical_accuracy: 0.8643\n",
      "Epoch 00026: val_loss did not improve from 0.39198\n",
      "21/21 [==============================] - 23s 1s/step - loss: 0.3599 - categorical_accuracy: 0.8643 - val_loss: 0.4567 - val_categorical_accuracy: 0.8600 - lr: 1.2500e-04\n",
      "Epoch 27/30\n",
      "21/21 [==============================] - ETA: 0s - loss: 0.3775 - categorical_accuracy: 0.8507\n",
      "Epoch 00027: val_loss did not improve from 0.39198\n",
      "\n",
      "Epoch 00027: ReduceLROnPlateau reducing learning rate to 6.25000029685907e-05.\n",
      "21/21 [==============================] - 24s 1s/step - loss: 0.3775 - categorical_accuracy: 0.8507 - val_loss: 0.4543 - val_categorical_accuracy: 0.8600 - lr: 1.2500e-04\n",
      "Epoch 28/30\n",
      "21/21 [==============================] - ETA: 0s - loss: 0.3368 - categorical_accuracy: 0.8778\n",
      "Epoch 00028: val_loss did not improve from 0.39198\n",
      "21/21 [==============================] - 22s 1s/step - loss: 0.3368 - categorical_accuracy: 0.8778 - val_loss: 0.4730 - val_categorical_accuracy: 0.8300 - lr: 6.2500e-05\n",
      "Epoch 29/30\n",
      "21/21 [==============================] - ETA: 0s - loss: 0.3085 - categorical_accuracy: 0.8899\n",
      "Epoch 00029: val_loss did not improve from 0.39198\n",
      "\n",
      "Epoch 00029: ReduceLROnPlateau reducing learning rate to 3.125000148429535e-05.\n",
      "21/21 [==============================] - 23s 1s/step - loss: 0.3085 - categorical_accuracy: 0.8899 - val_loss: 0.4729 - val_categorical_accuracy: 0.8600 - lr: 6.2500e-05\n",
      "Epoch 30/30\n",
      "21/21 [==============================] - ETA: 0s - loss: 0.3675 - categorical_accuracy: 0.8673\n",
      "Epoch 00030: val_loss improved from 0.39198 to 0.29465, saving model to /content/drive/My Drive/Colab Notebooks/gesture/best_model/model_1_2021-12-1410_12_30.987809/model-00030-0.36755-0.86727-0.29465-0.91000.h5\n",
      "21/21 [==============================] - 24s 1s/step - loss: 0.3675 - categorical_accuracy: 0.8673 - val_loss: 0.2947 - val_categorical_accuracy: 0.9100 - lr: 3.1250e-05\n"
     ]
    }
   ],
   "source": [
    "# Fit the model to start training\n",
    "history_1=model_1.fit(train_generator, steps_per_epoch=steps_per_epoch, epochs=num_epochs, verbose=1, \n",
    "                    callbacks=callbacks_list, validation_data=val_generator, \n",
    "                    validation_steps=validation_step_cnt, class_weight=None, workers=1, initial_epoch=0)"
   ]
  },
  {
   "cell_type": "code",
   "execution_count": null,
   "metadata": {
    "colab": {
     "base_uri": "https://localhost:8080/",
     "height": 283
    },
    "executionInfo": {
     "elapsed": 1326,
     "status": "ok",
     "timestamp": 1639478010491,
     "user": {
      "displayName": "Rajesh Kumar",
      "photoUrl": "https://lh3.googleusercontent.com/a-/AOh14Gj1g2_gr6swv8LrV37ZSsSVoMBTlC5xpstWf7djDA=s64",
      "userId": "08705855997000983605"
     },
     "user_tz": -330
    },
    "id": "AEDHdSEmzCq9",
    "outputId": "50fd8644-792a-40b7-e413-48e2227d335c"
   },
   "outputs": [
    {
     "data": {
      "text/plain": [
       "<matplotlib.legend.Legend at 0x7fa01c383910>"
      ]
     },
     "execution_count": 19,
     "metadata": {},
     "output_type": "execute_result"
    },
    {
     "data": {
      "image/png": "[encoded data removed]",
      "text/plain": [
       "<Figure size 1080x288 with 2 Axes>"
      ]
     },
     "metadata": {
      "needs_background": "light"
     },
     "output_type": "display_data"
    }
   ],
   "source": [
    "# Plot the graphs for loss, validation loss, accuracy and validation accuracy\n",
    "fig, axes = plt.subplots(nrows=1, ncols=2, figsize=(15,4))\n",
    "axes[0].plot(history_1.history['loss'])   \n",
    "axes[0].plot(history_1.history['val_loss'])\n",
    "axes[0].legend(['loss','val_loss'])\n",
    "axes[1].plot(history_1.history['categorical_accuracy'])   \n",
    "axes[1].plot(history_1.history['val_categorical_accuracy'])\n",
    "axes[1].legend(['categorical_accuracy','val_categorical_accuracy'])"
   ]
  },
  {
   "cell_type": "markdown",
   "metadata": {
    "id": "ZlenJdGVrC99"
   },
   "source": [
    "# Model 2"
   ]
  },
  {
   "cell_type": "code",
   "execution_count": null,
   "metadata": {
    "id": "SH7Mz6KLmAZu"
   },
   "outputs": [],
   "source": [
    "# Model -2\n",
    "resize_ht = 140\n",
    "resize_wd = 140\n",
    "\n",
    "model_2 = Sequential()\n",
    "\n",
    "#Input Layer\n",
    "model_2.add(Conv3D(32,(3,3,3),padding='same',strides=(1,1,1),input_shape=(18,resize_ht,resize_wd,3)))\n",
    "model_2.add(BatchNormalization())\n",
    "model_2.add(Activation('relu'))\n",
    "model_2.add(MaxPooling3D(pool_size=(2,2,2),strides=(2,2,2)))\n",
    "\n",
    "#Hidden Layer\n",
    "model_2.add(Conv3D(64,(3,3,3),padding='same',strides=(1,1,1)))\n",
    "model_2.add(BatchNormalization())\n",
    "model_2.add(Activation('relu'))\n",
    "model_2.add(MaxPooling3D(pool_size=(2,2,2),strides=(2,2,2)))\n",
    "\n",
    "#Hidden Layer\n",
    "model_2.add(Conv3D(128,(3,3,3),padding='same',strides=(1,1,1)))\n",
    "model_2.add(BatchNormalization())\n",
    "model_2.add(Activation('relu'))\n",
    "model_2.add(MaxPooling3D(pool_size=(2,2,2),strides=(2,2,2)))\n",
    "\n",
    "#Hidden Layer\n",
    "model_2.add(Conv3D(256,(3,3,3),padding='same',strides=(1,1,1)))\n",
    "model_2.add(BatchNormalization())\n",
    "model_2.add(Activation('relu'))\n",
    "model_2.add(MaxPooling3D(pool_size=(2,2,2),strides=(2,2,2)))\n",
    "\n",
    "#Flatten layer\n",
    "model_2.add(Flatten())\n",
    "model_2.add(Dropout(0.5))\n",
    "\n",
    "# Fully Connected layer\n",
    "model_2.add(Dense(256,activation='relu'))\n",
    "model_2.add(Dropout(0.5))\n",
    "\n",
    "# Final Output layer\n",
    "model_2.add(Dense(5,activation='softmax'))\n"
   ]
  },
  {
   "cell_type": "code",
   "execution_count": null,
   "metadata": {
    "colab": {
     "base_uri": "https://localhost:8080/"
    },
    "executionInfo": {
     "elapsed": 398,
     "status": "ok",
     "timestamp": 1639478063180,
     "user": {
      "displayName": "Rajesh Kumar",
      "photoUrl": "https://lh3.googleusercontent.com/a-/AOh14Gj1g2_gr6swv8LrV37ZSsSVoMBTlC5xpstWf7djDA=s64",
      "userId": "08705855997000983605"
     },
     "user_tz": -330
    },
    "id": "fSrHiAgpufh-",
    "outputId": "9e58a6e8-3fc9-4fe8-c94a-bf34c0f69177"
   },
   "outputs": [
    {
     "name": "stdout",
     "output_type": "stream",
     "text": [
      "Model: \"sequential_1\"\n",
      "_________________________________________________________________\n",
      " Layer (type)                Output Shape              Param #   \n",
      "=================================================================\n",
      " conv3d_4 (Conv3D)           (None, 18, 140, 140, 32)  2624      \n",
      "                                                                 \n",
      " batch_normalization_4 (Batc  (None, 18, 140, 140, 32)  128      \n",
      " hNormalization)                                                 \n",
      "                                                                 \n",
      " activation_4 (Activation)   (None, 18, 140, 140, 32)  0         \n",
      "                                                                 \n",
      " max_pooling3d_4 (MaxPooling  (None, 9, 70, 70, 32)    0         \n",
      " 3D)                                                             \n",
      "                                                                 \n",
      " conv3d_5 (Conv3D)           (None, 9, 70, 70, 64)     55360     \n",
      "                                                                 \n",
      " batch_normalization_5 (Batc  (None, 9, 70, 70, 64)    256       \n",
      " hNormalization)                                                 \n",
      "                                                                 \n",
      " activation_5 (Activation)   (None, 9, 70, 70, 64)     0         \n",
      "                                                                 \n",
      " max_pooling3d_5 (MaxPooling  (None, 4, 35, 35, 64)    0         \n",
      " 3D)                                                             \n",
      "                                                                 \n",
      " conv3d_6 (Conv3D)           (None, 4, 35, 35, 128)    221312    \n",
      "                                                                 \n",
      " batch_normalization_6 (Batc  (None, 4, 35, 35, 128)   512       \n",
      " hNormalization)                                                 \n",
      "                                                                 \n",
      " activation_6 (Activation)   (None, 4, 35, 35, 128)    0         \n",
      "                                                                 \n",
      " max_pooling3d_6 (MaxPooling  (None, 2, 17, 17, 128)   0         \n",
      " 3D)                                                             \n",
      "                                                                 \n",
      " conv3d_7 (Conv3D)           (None, 2, 17, 17, 256)    884992    \n",
      "                                                                 \n",
      " batch_normalization_7 (Batc  (None, 2, 17, 17, 256)   1024      \n",
      " hNormalization)                                                 \n",
      "                                                                 \n",
      " activation_7 (Activation)   (None, 2, 17, 17, 256)    0         \n",
      "                                                                 \n",
      " max_pooling3d_7 (MaxPooling  (None, 1, 8, 8, 256)     0         \n",
      " 3D)                                                             \n",
      "                                                                 \n",
      " flatten_1 (Flatten)         (None, 16384)             0         \n",
      "                                                                 \n",
      " dropout_2 (Dropout)         (None, 16384)             0         \n",
      "                                                                 \n",
      " dense_2 (Dense)             (None, 256)               4194560   \n",
      "                                                                 \n",
      " dropout_3 (Dropout)         (None, 256)               0         \n",
      "                                                                 \n",
      " dense_3 (Dense)             (None, 5)                 1285      \n",
      "                                                                 \n",
      "=================================================================\n",
      "Total params: 5,362,053\n",
      "Trainable params: 5,361,093\n",
      "Non-trainable params: 960\n",
      "_________________________________________________________________\n",
      "None\n"
     ]
    },
    {
     "name": "stderr",
     "output_type": "stream",
     "text": [
      "/usr/local/lib/python3.7/dist-packages/keras/optimizer_v2/adam.py:105: UserWarning: The `lr` argument is deprecated, use `learning_rate` instead.\n",
      "  super(Adam, self).__init__(name, **kwargs)\n"
     ]
    }
   ],
   "source": [
    "#Lets see how ADAM optimizer performs\n",
    "optimiser = optimizers.Adam(lr=0.001)\n",
    "\n",
    "#Compile the model\n",
    "model_2.compile(optimizer=optimiser, loss='categorical_crossentropy', metrics=['categorical_accuracy'])\n",
    "\n",
    "# Check the model parameters\n",
    "print (model_2.summary())"
   ]
  },
  {
   "cell_type": "code",
   "execution_count": null,
   "metadata": {
    "id": "ScwfyThpuoDA"
   },
   "outputs": [],
   "source": [
    "# Batch size\n",
    "batch_size=25\n",
    "\n",
    "#Invoke the generator function for train and validation paths\n",
    "train_generator = generator(train_path, train_doc, batch_size,resize_ht,resize_wd)\n",
    "val_generator = generator(val_path, val_doc, batch_size,resize_ht,resize_wd)"
   ]
  },
  {
   "cell_type": "code",
   "execution_count": null,
   "metadata": {
    "id": "I0vcA5I5u8RF"
   },
   "outputs": [],
   "source": [
    "# Path and naming convention for saving the best model during the run\n",
    "model_name = save_path + 'model_2' + '_' + str(datetime.datetime.now()).replace(' ','').replace(':','_') + '/'\n",
    "    \n",
    "if not os.path.exists(model_name):\n",
    "    os.mkdir(model_name)\n",
    "        \n",
    "filepath = model_name + 'model-{epoch:05d}-{loss:.5f}-{categorical_accuracy:.5f}-{val_loss:.5f}-{val_categorical_accuracy:.5f}.h5'\n",
    "\n",
    "# Checkpoint parameters on when to save the best model\n",
    "checkpoint = ModelCheckpoint(filepath, monitor='val_loss', verbose=1, save_best_only=True, save_weights_only=False, mode='auto', save_freq='epoch')\n",
    "\n",
    "#Reduce learning rate when a metric has stopped improving.\n",
    "LR = ReduceLROnPlateau(monitor='val_loss', factor=0.5, patience=2, verbose=1, mode='min', min_delta=0.0001, cooldown=0, min_lr=0.00001)\n",
    "\n",
    "# Early stopping when there is no improvement in the metric - validation loss\n",
    "earlystop = EarlyStopping(monitor='val_loss',min_delta=0,patience=10,verbose=1)\n",
    "callbacks_list = [checkpoint, LR, earlystop]"
   ]
  },
  {
   "cell_type": "code",
   "execution_count": null,
   "metadata": {
    "id": "y9akIfd3vK62"
   },
   "outputs": [],
   "source": [
    "#The steps_per_epoch and validation_steps are used by fit_generator to decide the number of next() calls \n",
    "#it need to make.\n",
    "if (num_train_sequences%batch_size) == 0:\n",
    "    steps_per_epoch = int(num_train_sequences/batch_size)\n",
    "else:\n",
    "    steps_per_epoch = (num_train_sequences//batch_size) + 1\n",
    "\n",
    "if (num_val_sequences%batch_size) == 0:\n",
    "    validation_step_cnt = int(num_val_sequences/batch_size)\n",
    "else:\n",
    "    validation_step_cnt = (num_val_sequences//batch_size) + 1"
   ]
  },
  {
   "cell_type": "code",
   "execution_count": null,
   "metadata": {
    "colab": {
     "base_uri": "https://localhost:8080/"
    },
    "executionInfo": {
     "elapsed": 832898,
     "status": "ok",
     "timestamp": 1639479230891,
     "user": {
      "displayName": "Rajesh Kumar",
      "photoUrl": "https://lh3.googleusercontent.com/a-/AOh14Gj1g2_gr6swv8LrV37ZSsSVoMBTlC5xpstWf7djDA=s64",
      "userId": "08705855997000983605"
     },
     "user_tz": -330
    },
    "id": "hbWUjO1zvX9A",
    "outputId": "84e2d2bf-ac98-423d-b63f-daed032374ea"
   },
   "outputs": [
    {
     "name": "stdout",
     "output_type": "stream",
     "text": [
      "Source path =  /content/sample_data/Project_data/train ; batch size = 25\n",
      "Epoch 1/30\n",
      "27/27 [==============================] - ETA: 0s - loss: 7.8278 - categorical_accuracy: 0.3167Source path =  /content/sample_data/Project_data/val ; batch size = 25\n",
      "\n",
      "Epoch 00001: val_loss improved from inf to 280.50922, saving model to /content/drive/My Drive/Colab Notebooks/gesture/best_model/model_2_2021-12-1410_39_43.780138/model-00001-7.82782-0.31674-280.50922-0.23000.h5\n",
      "27/27 [==============================] - 30s 1s/step - loss: 7.8278 - categorical_accuracy: 0.3167 - val_loss: 280.5092 - val_categorical_accuracy: 0.2300 - lr: 0.0010\n",
      "Epoch 2/30\n",
      "27/27 [==============================] - ETA: 0s - loss: 1.5612 - categorical_accuracy: 0.3318\n",
      "Epoch 00002: val_loss improved from 280.50922 to 29.31895, saving model to /content/drive/My Drive/Colab Notebooks/gesture/best_model/model_2_2021-12-1410_39_43.780138/model-00002-1.56124-0.33183-29.31895-0.22000.h5\n",
      "27/27 [==============================] - 29s 1s/step - loss: 1.5612 - categorical_accuracy: 0.3318 - val_loss: 29.3190 - val_categorical_accuracy: 0.2200 - lr: 0.0010\n",
      "Epoch 3/30\n",
      "27/27 [==============================] - ETA: 0s - loss: 1.3740 - categorical_accuracy: 0.3725\n",
      "Epoch 00003: val_loss improved from 29.31895 to 10.50385, saving model to /content/drive/My Drive/Colab Notebooks/gesture/best_model/model_2_2021-12-1410_39_43.780138/model-00003-1.37397-0.37255-10.50385-0.21000.h5\n",
      "27/27 [==============================] - 29s 1s/step - loss: 1.3740 - categorical_accuracy: 0.3725 - val_loss: 10.5038 - val_categorical_accuracy: 0.2100 - lr: 0.0010\n",
      "Epoch 4/30\n",
      "27/27 [==============================] - ETA: 0s - loss: 1.3299 - categorical_accuracy: 0.4072\n",
      "Epoch 00004: val_loss improved from 10.50385 to 6.40629, saving model to /content/drive/My Drive/Colab Notebooks/gesture/best_model/model_2_2021-12-1410_39_43.780138/model-00004-1.32992-0.40724-6.40629-0.21000.h5\n",
      "27/27 [==============================] - 28s 1s/step - loss: 1.3299 - categorical_accuracy: 0.4072 - val_loss: 6.4063 - val_categorical_accuracy: 0.2100 - lr: 0.0010\n",
      "Epoch 5/30\n",
      "27/27 [==============================] - ETA: 0s - loss: 1.3040 - categorical_accuracy: 0.3952\n",
      "Epoch 00005: val_loss improved from 6.40629 to 3.14196, saving model to /content/drive/My Drive/Colab Notebooks/gesture/best_model/model_2_2021-12-1410_39_43.780138/model-00005-1.30395-0.39517-3.14196-0.25000.h5\n",
      "27/27 [==============================] - 29s 1s/step - loss: 1.3040 - categorical_accuracy: 0.3952 - val_loss: 3.1420 - val_categorical_accuracy: 0.2500 - lr: 0.0010\n",
      "Epoch 6/30\n",
      "27/27 [==============================] - ETA: 0s - loss: 1.2544 - categorical_accuracy: 0.4087\n",
      "Epoch 00006: val_loss improved from 3.14196 to 2.12270, saving model to /content/drive/My Drive/Colab Notebooks/gesture/best_model/model_2_2021-12-1410_39_43.780138/model-00006-1.25437-0.40875-2.12270-0.34000.h5\n",
      "27/27 [==============================] - 29s 1s/step - loss: 1.2544 - categorical_accuracy: 0.4087 - val_loss: 2.1227 - val_categorical_accuracy: 0.3400 - lr: 0.0010\n",
      "Epoch 7/30\n",
      "27/27 [==============================] - ETA: 0s - loss: 1.2612 - categorical_accuracy: 0.4480\n",
      "Epoch 00007: val_loss improved from 2.12270 to 1.37336, saving model to /content/drive/My Drive/Colab Notebooks/gesture/best_model/model_2_2021-12-1410_39_43.780138/model-00007-1.26115-0.44796-1.37336-0.38000.h5\n",
      "27/27 [==============================] - 27s 1s/step - loss: 1.2612 - categorical_accuracy: 0.4480 - val_loss: 1.3734 - val_categorical_accuracy: 0.3800 - lr: 0.0010\n",
      "Epoch 8/30\n",
      "27/27 [==============================] - ETA: 0s - loss: 1.2232 - categorical_accuracy: 0.4449\n",
      "Epoch 00008: val_loss improved from 1.37336 to 1.30777, saving model to /content/drive/My Drive/Colab Notebooks/gesture/best_model/model_2_2021-12-1410_39_43.780138/model-00008-1.22323-0.44495-1.30777-0.42000.h5\n",
      "27/27 [==============================] - 28s 1s/step - loss: 1.2232 - categorical_accuracy: 0.4449 - val_loss: 1.3078 - val_categorical_accuracy: 0.4200 - lr: 0.0010\n",
      "Epoch 9/30\n",
      "27/27 [==============================] - ETA: 0s - loss: 1.1844 - categorical_accuracy: 0.4525\n",
      "Epoch 00009: val_loss improved from 1.30777 to 1.20140, saving model to /content/drive/My Drive/Colab Notebooks/gesture/best_model/model_2_2021-12-1410_39_43.780138/model-00009-1.18439-0.45249-1.20140-0.46000.h5\n",
      "27/27 [==============================] - 28s 1s/step - loss: 1.1844 - categorical_accuracy: 0.4525 - val_loss: 1.2014 - val_categorical_accuracy: 0.4600 - lr: 0.0010\n",
      "Epoch 10/30\n",
      "27/27 [==============================] - ETA: 0s - loss: 1.1919 - categorical_accuracy: 0.4721\n",
      "Epoch 00010: val_loss improved from 1.20140 to 1.18281, saving model to /content/drive/My Drive/Colab Notebooks/gesture/best_model/model_2_2021-12-1410_39_43.780138/model-00010-1.19188-0.47210-1.18281-0.50000.h5\n",
      "27/27 [==============================] - 28s 1s/step - loss: 1.1919 - categorical_accuracy: 0.4721 - val_loss: 1.1828 - val_categorical_accuracy: 0.5000 - lr: 0.0010\n",
      "Epoch 11/30\n",
      "27/27 [==============================] - ETA: 0s - loss: 1.1381 - categorical_accuracy: 0.4525\n",
      "Epoch 00011: val_loss improved from 1.18281 to 1.08043, saving model to /content/drive/My Drive/Colab Notebooks/gesture/best_model/model_2_2021-12-1410_39_43.780138/model-00011-1.13812-0.45249-1.08043-0.58000.h5\n",
      "27/27 [==============================] - 28s 1s/step - loss: 1.1381 - categorical_accuracy: 0.4525 - val_loss: 1.0804 - val_categorical_accuracy: 0.5800 - lr: 0.0010\n",
      "Epoch 12/30\n",
      "27/27 [==============================] - ETA: 0s - loss: 1.1512 - categorical_accuracy: 0.4434\n",
      "Epoch 00012: val_loss did not improve from 1.08043\n",
      "27/27 [==============================] - 27s 1s/step - loss: 1.1512 - categorical_accuracy: 0.4434 - val_loss: 1.1932 - val_categorical_accuracy: 0.4800 - lr: 0.0010\n",
      "Epoch 13/30\n",
      "27/27 [==============================] - ETA: 0s - loss: 1.1583 - categorical_accuracy: 0.4721\n",
      "Epoch 00013: val_loss did not improve from 1.08043\n",
      "\n",
      "Epoch 00013: ReduceLROnPlateau reducing learning rate to 0.0005000000237487257.\n",
      "27/27 [==============================] - 27s 1s/step - loss: 1.1583 - categorical_accuracy: 0.4721 - val_loss: 1.4707 - val_categorical_accuracy: 0.3800 - lr: 0.0010\n",
      "Epoch 14/30\n",
      "27/27 [==============================] - ETA: 0s - loss: 1.0754 - categorical_accuracy: 0.5158\n",
      "Epoch 00014: val_loss did not improve from 1.08043\n",
      "27/27 [==============================] - 27s 1s/step - loss: 1.0754 - categorical_accuracy: 0.5158 - val_loss: 1.7678 - val_categorical_accuracy: 0.3300 - lr: 5.0000e-04\n",
      "Epoch 15/30\n",
      "27/27 [==============================] - ETA: 0s - loss: 1.0974 - categorical_accuracy: 0.4947\n",
      "Epoch 00015: val_loss improved from 1.08043 to 0.98594, saving model to /content/drive/My Drive/Colab Notebooks/gesture/best_model/model_2_2021-12-1410_39_43.780138/model-00015-1.09736-0.49472-0.98594-0.61000.h5\n",
      "27/27 [==============================] - 27s 1s/step - loss: 1.0974 - categorical_accuracy: 0.4947 - val_loss: 0.9859 - val_categorical_accuracy: 0.6100 - lr: 5.0000e-04\n",
      "Epoch 16/30\n",
      "27/27 [==============================] - ETA: 0s - loss: 1.0509 - categorical_accuracy: 0.5415\n",
      "Epoch 00016: val_loss did not improve from 0.98594\n",
      "27/27 [==============================] - 27s 1s/step - loss: 1.0509 - categorical_accuracy: 0.5415 - val_loss: 1.2397 - val_categorical_accuracy: 0.4700 - lr: 5.0000e-04\n",
      "Epoch 17/30\n",
      "27/27 [==============================] - ETA: 0s - loss: 1.0356 - categorical_accuracy: 0.5324\n",
      "Epoch 00017: val_loss did not improve from 0.98594\n",
      "\n",
      "Epoch 00017: ReduceLROnPlateau reducing learning rate to 0.0002500000118743628.\n",
      "27/27 [==============================] - 27s 1s/step - loss: 1.0356 - categorical_accuracy: 0.5324 - val_loss: 1.0346 - val_categorical_accuracy: 0.5800 - lr: 5.0000e-04\n",
      "Epoch 18/30\n",
      "27/27 [==============================] - ETA: 0s - loss: 1.0133 - categorical_accuracy: 0.5400\n",
      "Epoch 00018: val_loss did not improve from 0.98594\n",
      "27/27 [==============================] - 27s 1s/step - loss: 1.0133 - categorical_accuracy: 0.5400 - val_loss: 1.0694 - val_categorical_accuracy: 0.4900 - lr: 2.5000e-04\n",
      "Epoch 19/30\n",
      "27/27 [==============================] - ETA: 0s - loss: 0.9823 - categorical_accuracy: 0.5837\n",
      "Epoch 00019: val_loss did not improve from 0.98594\n",
      "\n",
      "Epoch 00019: ReduceLROnPlateau reducing learning rate to 0.0001250000059371814.\n",
      "27/27 [==============================] - 27s 1s/step - loss: 0.9823 - categorical_accuracy: 0.5837 - val_loss: 1.1959 - val_categorical_accuracy: 0.5500 - lr: 2.5000e-04\n",
      "Epoch 20/30\n",
      "27/27 [==============================] - ETA: 0s - loss: 0.9790 - categorical_accuracy: 0.5445\n",
      "Epoch 00020: val_loss did not improve from 0.98594\n",
      "27/27 [==============================] - 27s 1s/step - loss: 0.9790 - categorical_accuracy: 0.5445 - val_loss: 1.1255 - val_categorical_accuracy: 0.5100 - lr: 1.2500e-04\n",
      "Epoch 21/30\n",
      "27/27 [==============================] - ETA: 0s - loss: 0.9395 - categorical_accuracy: 0.5747\n",
      "Epoch 00021: val_loss did not improve from 0.98594\n",
      "\n",
      "Epoch 00021: ReduceLROnPlateau reducing learning rate to 6.25000029685907e-05.\n",
      "27/27 [==============================] - 27s 1s/step - loss: 0.9395 - categorical_accuracy: 0.5747 - val_loss: 1.1727 - val_categorical_accuracy: 0.5800 - lr: 1.2500e-04\n",
      "Epoch 22/30\n",
      "27/27 [==============================] - ETA: 0s - loss: 0.9221 - categorical_accuracy: 0.6033\n",
      "Epoch 00022: val_loss did not improve from 0.98594\n",
      "27/27 [==============================] - 27s 1s/step - loss: 0.9221 - categorical_accuracy: 0.6033 - val_loss: 1.0894 - val_categorical_accuracy: 0.5500 - lr: 6.2500e-05\n",
      "Epoch 23/30\n",
      "27/27 [==============================] - ETA: 0s - loss: 0.9170 - categorical_accuracy: 0.6078\n",
      "Epoch 00023: val_loss improved from 0.98594 to 0.98433, saving model to /content/drive/My Drive/Colab Notebooks/gesture/best_model/model_2_2021-12-1410_39_43.780138/model-00023-0.91703-0.60784-0.98433-0.69000.h5\n",
      "27/27 [==============================] - 28s 1s/step - loss: 0.9170 - categorical_accuracy: 0.6078 - val_loss: 0.9843 - val_categorical_accuracy: 0.6900 - lr: 6.2500e-05\n",
      "Epoch 24/30\n",
      "27/27 [==============================] - ETA: 0s - loss: 0.8962 - categorical_accuracy: 0.6154\n",
      "Epoch 00024: val_loss improved from 0.98433 to 0.85812, saving model to /content/drive/My Drive/Colab Notebooks/gesture/best_model/model_2_2021-12-1410_39_43.780138/model-00024-0.89619-0.61538-0.85812-0.68000.h5\n",
      "27/27 [==============================] - 27s 1s/step - loss: 0.8962 - categorical_accuracy: 0.6154 - val_loss: 0.8581 - val_categorical_accuracy: 0.6800 - lr: 6.2500e-05\n",
      "Epoch 25/30\n",
      "27/27 [==============================] - ETA: 0s - loss: 0.8732 - categorical_accuracy: 0.6259\n",
      "Epoch 00025: val_loss did not improve from 0.85812\n",
      "27/27 [==============================] - 27s 1s/step - loss: 0.8732 - categorical_accuracy: 0.6259 - val_loss: 0.8784 - val_categorical_accuracy: 0.6700 - lr: 6.2500e-05\n",
      "Epoch 26/30\n",
      "27/27 [==============================] - ETA: 0s - loss: 0.8658 - categorical_accuracy: 0.6275\n",
      "Epoch 00026: val_loss did not improve from 0.85812\n",
      "\n",
      "Epoch 00026: ReduceLROnPlateau reducing learning rate to 3.125000148429535e-05.\n",
      "27/27 [==============================] - 28s 1s/step - loss: 0.8658 - categorical_accuracy: 0.6275 - val_loss: 0.8686 - val_categorical_accuracy: 0.6600 - lr: 6.2500e-05\n",
      "Epoch 27/30\n",
      "27/27 [==============================] - ETA: 0s - loss: 0.8939 - categorical_accuracy: 0.6063\n",
      "Epoch 00027: val_loss improved from 0.85812 to 0.82111, saving model to /content/drive/My Drive/Colab Notebooks/gesture/best_model/model_2_2021-12-1410_39_43.780138/model-00027-0.89386-0.60633-0.82111-0.66000.h5\n",
      "27/27 [==============================] - 27s 1s/step - loss: 0.8939 - categorical_accuracy: 0.6063 - val_loss: 0.8211 - val_categorical_accuracy: 0.6600 - lr: 3.1250e-05\n",
      "Epoch 28/30\n",
      "27/27 [==============================] - ETA: 0s - loss: 0.8886 - categorical_accuracy: 0.5988\n",
      "Epoch 00028: val_loss did not improve from 0.82111\n",
      "27/27 [==============================] - 28s 1s/step - loss: 0.8886 - categorical_accuracy: 0.5988 - val_loss: 0.8464 - val_categorical_accuracy: 0.6500 - lr: 3.1250e-05\n",
      "Epoch 29/30\n",
      "27/27 [==============================] - ETA: 0s - loss: 0.8625 - categorical_accuracy: 0.6199\n",
      "Epoch 00029: val_loss improved from 0.82111 to 0.78624, saving model to /content/drive/My Drive/Colab Notebooks/gesture/best_model/model_2_2021-12-1410_39_43.780138/model-00029-0.86254-0.61991-0.78624-0.71000.h5\n",
      "27/27 [==============================] - 28s 1s/step - loss: 0.8625 - categorical_accuracy: 0.6199 - val_loss: 0.7862 - val_categorical_accuracy: 0.7100 - lr: 3.1250e-05\n",
      "Epoch 30/30\n",
      "27/27 [==============================] - ETA: 0s - loss: 0.8699 - categorical_accuracy: 0.6169\n",
      "Epoch 00030: val_loss improved from 0.78624 to 0.75866, saving model to /content/drive/My Drive/Colab Notebooks/gesture/best_model/model_2_2021-12-1410_39_43.780138/model-00030-0.86990-0.61689-0.75866-0.73000.h5\n",
      "27/27 [==============================] - 28s 1s/step - loss: 0.8699 - categorical_accuracy: 0.6169 - val_loss: 0.7587 - val_categorical_accuracy: 0.7300 - lr: 3.1250e-05\n"
     ]
    }
   ],
   "source": [
    "# fit the model using the parameters set\n",
    "history_2=model_2.fit(train_generator, steps_per_epoch=steps_per_epoch, epochs=num_epochs, verbose=1, \n",
    "                    callbacks=callbacks_list, validation_data=val_generator, \n",
    "                    validation_steps=validation_step_cnt, class_weight=None, workers=1, initial_epoch=0)"
   ]
  },
  {
   "cell_type": "code",
   "execution_count": null,
   "metadata": {
    "colab": {
     "base_uri": "https://localhost:8080/",
     "height": 283
    },
    "executionInfo": {
     "elapsed": 1374,
     "status": "ok",
     "timestamp": 1639479439434,
     "user": {
      "displayName": "Rajesh Kumar",
      "photoUrl": "https://lh3.googleusercontent.com/a-/AOh14Gj1g2_gr6swv8LrV37ZSsSVoMBTlC5xpstWf7djDA=s64",
      "userId": "08705855997000983605"
     },
     "user_tz": -330
    },
    "id": "YDTkrOVsvwFS",
    "outputId": "97f76a11-d96a-4c22-f880-4f1e1d148698"
   },
   "outputs": [
    {
     "data": {
      "text/plain": [
       "<matplotlib.legend.Legend at 0x7fa09029b6d0>"
      ]
     },
     "execution_count": 26,
     "metadata": {},
     "output_type": "execute_result"
    },
    {
     "data": {
      "image/png": "[encoded data removed]",
      "text/plain": [
       "<Figure size 1080x288 with 2 Axes>"
      ]
     },
     "metadata": {
      "needs_background": "light"
     },
     "output_type": "display_data"
    }
   ],
   "source": [
    "# Plot the graphs for loss, validation loss, accuracy and validation accuracy of the latest model\n",
    "fig, axes = plt.subplots(nrows=1, ncols=2, figsize=(15,4))\n",
    "axes[0].plot(history_2.history['loss'])   \n",
    "axes[0].plot(history_2.history['val_loss'])\n",
    "axes[0].legend(['loss','val_loss'])\n",
    "axes[1].plot(history_2.history['categorical_accuracy'])   \n",
    "axes[1].plot(history_2.history['val_categorical_accuracy'])\n",
    "axes[1].legend(['categorical_accuracy','val_categorical_accuracy'])"
   ]
  },
  {
   "cell_type": "markdown",
   "metadata": {
    "id": "ZmKhk_xo8QYm"
   },
   "source": [
    "# Model 3"
   ]
  },
  {
   "cell_type": "code",
   "execution_count": null,
   "metadata": {
    "id": "lyAYlDyd8PkL"
   },
   "outputs": [],
   "source": [
    "# Model -3 \n",
    "resize_ht = 100\n",
    "resize_wd = 100\n",
    "model_3 = Sequential()\n",
    "\n",
    "#Input Layer\n",
    "model_3.add(Conv3D(32,(3,3,3),padding='same',strides=(1,1,1),input_shape=(18,resize_ht,resize_wd,3)))\n",
    "model_3.add(BatchNormalization())\n",
    "model_3.add(Activation('relu'))\n",
    "model_3.add(MaxPooling3D(pool_size=(2,2,2),strides=(2,2,2)))\n",
    "\n",
    "# Hidden Layer\n",
    "model_3.add(Conv3D(64,(3,3,3),padding='same',strides=(1,1,1)))\n",
    "model_3.add(BatchNormalization())\n",
    "model_3.add(Activation('relu'))\n",
    "model_3.add(MaxPooling3D(pool_size=(2,2,2),strides=(2,2,2)))\n",
    "\n",
    "# Hidden Layer\n",
    "model_3.add(Conv3D(128,(3,3,3),padding='same',strides=(1,1,1)))\n",
    "model_3.add(BatchNormalization())\n",
    "model_3.add(Activation('relu'))\n",
    "model_3.add(MaxPooling3D(pool_size=(2,2,2),strides=(2,2,2)))\n",
    "\n",
    "#Hidden layer\n",
    "model_3.add(Conv3D(256,(3,3,3),padding='same',strides=(1,1,1)))\n",
    "model_3.add(BatchNormalization())\n",
    "model_3.add(Activation('relu'))\n",
    "model_3.add(MaxPooling3D(pool_size=(2,2,2),strides=(2,2,2)))\n",
    "\n",
    "#Flatten layer\n",
    "model_3.add(Flatten())\n",
    "model_3.add(Dropout(0.5))\n",
    "\n",
    "#Fully connected layer\n",
    "model_3.add(Dense(256,activation='relu'))\n",
    "model_3.add(Dropout(0.5))\n",
    "\n",
    "# Final output layer - softmax\n",
    "model_3.add(Dense(5,activation='softmax'))\n"
   ]
  },
  {
   "cell_type": "code",
   "execution_count": null,
   "metadata": {
    "colab": {
     "base_uri": "https://localhost:8080/"
    },
    "executionInfo": {
     "elapsed": 398,
     "status": "ok",
     "timestamp": 1639479478815,
     "user": {
      "displayName": "Rajesh Kumar",
      "photoUrl": "https://lh3.googleusercontent.com/a-/AOh14Gj1g2_gr6swv8LrV37ZSsSVoMBTlC5xpstWf7djDA=s64",
      "userId": "08705855997000983605"
     },
     "user_tz": -330
    },
    "id": "oVqJ6QAb8Z_w",
    "outputId": "6d550370-15e8-47f8-9eb4-701de3541bd9"
   },
   "outputs": [
    {
     "name": "stdout",
     "output_type": "stream",
     "text": [
      "Model: \"sequential_2\"\n",
      "_________________________________________________________________\n",
      " Layer (type)                Output Shape              Param #   \n",
      "=================================================================\n",
      " conv3d_8 (Conv3D)           (None, 18, 100, 100, 32)  2624      \n",
      "                                                                 \n",
      " batch_normalization_8 (Batc  (None, 18, 100, 100, 32)  128      \n",
      " hNormalization)                                                 \n",
      "                                                                 \n",
      " activation_8 (Activation)   (None, 18, 100, 100, 32)  0         \n",
      "                                                                 \n",
      " max_pooling3d_8 (MaxPooling  (None, 9, 50, 50, 32)    0         \n",
      " 3D)                                                             \n",
      "                                                                 \n",
      " conv3d_9 (Conv3D)           (None, 9, 50, 50, 64)     55360     \n",
      "                                                                 \n",
      " batch_normalization_9 (Batc  (None, 9, 50, 50, 64)    256       \n",
      " hNormalization)                                                 \n",
      "                                                                 \n",
      " activation_9 (Activation)   (None, 9, 50, 50, 64)     0         \n",
      "                                                                 \n",
      " max_pooling3d_9 (MaxPooling  (None, 4, 25, 25, 64)    0         \n",
      " 3D)                                                             \n",
      "                                                                 \n",
      " conv3d_10 (Conv3D)          (None, 4, 25, 25, 128)    221312    \n",
      "                                                                 \n",
      " batch_normalization_10 (Bat  (None, 4, 25, 25, 128)   512       \n",
      " chNormalization)                                                \n",
      "                                                                 \n",
      " activation_10 (Activation)  (None, 4, 25, 25, 128)    0         \n",
      "                                                                 \n",
      " max_pooling3d_10 (MaxPoolin  (None, 2, 12, 12, 128)   0         \n",
      " g3D)                                                            \n",
      "                                                                 \n",
      " conv3d_11 (Conv3D)          (None, 2, 12, 12, 256)    884992    \n",
      "                                                                 \n",
      " batch_normalization_11 (Bat  (None, 2, 12, 12, 256)   1024      \n",
      " chNormalization)                                                \n",
      "                                                                 \n",
      " activation_11 (Activation)  (None, 2, 12, 12, 256)    0         \n",
      "                                                                 \n",
      " max_pooling3d_11 (MaxPoolin  (None, 1, 6, 6, 256)     0         \n",
      " g3D)                                                            \n",
      "                                                                 \n",
      " flatten_2 (Flatten)         (None, 9216)              0         \n",
      "                                                                 \n",
      " dropout_4 (Dropout)         (None, 9216)              0         \n",
      "                                                                 \n",
      " dense_4 (Dense)             (None, 256)               2359552   \n",
      "                                                                 \n",
      " dropout_5 (Dropout)         (None, 256)               0         \n",
      "                                                                 \n",
      " dense_5 (Dense)             (None, 5)                 1285      \n",
      "                                                                 \n",
      "=================================================================\n",
      "Total params: 3,527,045\n",
      "Trainable params: 3,526,085\n",
      "Non-trainable params: 960\n",
      "_________________________________________________________________\n",
      "None\n"
     ]
    },
    {
     "name": "stderr",
     "output_type": "stream",
     "text": [
      "/usr/local/lib/python3.7/dist-packages/keras/optimizer_v2/adam.py:105: UserWarning: The `lr` argument is deprecated, use `learning_rate` instead.\n",
      "  super(Adam, self).__init__(name, **kwargs)\n"
     ]
    }
   ],
   "source": [
    "# Adam optimizer\n",
    "optimiser = optimizers.Adam(lr=0.001)\n",
    "\n",
    "# Compile the model\n",
    "model_3.compile(optimizer=optimiser, loss='categorical_crossentropy', metrics=['categorical_accuracy'])\n",
    "\n",
    "# Check the model parameters\n",
    "print (model_3.summary())"
   ]
  },
  {
   "cell_type": "code",
   "execution_count": null,
   "metadata": {
    "id": "hAbZpgjN8h1k"
   },
   "outputs": [],
   "source": [
    "#batch size\n",
    "batch_size=30\n",
    "\n",
    "# call the generator function for train and validation paths\n",
    "train_generator = generator(train_path, train_doc, batch_size,resize_ht,resize_wd)\n",
    "val_generator = generator(val_path, val_doc, batch_size,resize_ht,resize_wd)"
   ]
  },
  {
   "cell_type": "code",
   "execution_count": null,
   "metadata": {
    "id": "aqCYz3iq8sWH"
   },
   "outputs": [],
   "source": [
    "# create the naming convention for saving the best model during the run\n",
    "model_name = save_path + 'model_3' + '_' + str(datetime.datetime.now()).replace(' ','').replace(':','_') + '/'\n",
    "    \n",
    "if not os.path.exists(model_name):\n",
    "    os.mkdir(model_name)\n",
    "        \n",
    "filepath = model_name + 'model-{epoch:05d}-{loss:.5f}-{categorical_accuracy:.5f}-{val_loss:.5f}-{val_categorical_accuracy:.5f}.h5'\n",
    "\n",
    "# checkpoint parameters on when to save the model during each epoch\n",
    "checkpoint = ModelCheckpoint(filepath, monitor='val_loss', verbose=1, save_best_only=True, save_weights_only=False, mode='auto', save_freq='epoch')\n",
    "\n",
    "#Reduce learning rate when a metric has stopped improving.\n",
    "LR = ReduceLROnPlateau(monitor='val_loss', factor=0.5, patience=2, verbose=1, mode='min', min_delta=0.0001, cooldown=0, min_lr=0.00001)\n",
    "\n",
    "#earlystop = EarlyStopping(monitor='val_loss',min_delta=0,patience=10,verbose=1)\n",
    "callbacks_list = [checkpoint, LR]"
   ]
  },
  {
   "cell_type": "code",
   "execution_count": null,
   "metadata": {
    "id": "HYwPUtgm8yWA"
   },
   "outputs": [],
   "source": [
    "#The steps_per_epoch and validation_steps are used by fit_generator to decide the number of next() calls \n",
    "#it need to make.\n",
    "if (num_train_sequences%batch_size) == 0:\n",
    "    steps_per_epoch = int(num_train_sequences/batch_size)\n",
    "else:\n",
    "    steps_per_epoch = (num_train_sequences//batch_size) + 1\n",
    "\n",
    "if (num_val_sequences%batch_size) == 0:\n",
    "    validation_step_cnt = int(num_val_sequences/batch_size)\n",
    "else:\n",
    "    validation_step_cnt = (num_val_sequences//batch_size) + 1"
   ]
  },
  {
   "cell_type": "code",
   "execution_count": null,
   "metadata": {
    "colab": {
     "base_uri": "https://localhost:8080/"
    },
    "executionInfo": {
     "elapsed": 729315,
     "status": "ok",
     "timestamp": 1639480233067,
     "user": {
      "displayName": "Rajesh Kumar",
      "photoUrl": "https://lh3.googleusercontent.com/a-/AOh14Gj1g2_gr6swv8LrV37ZSsSVoMBTlC5xpstWf7djDA=s64",
      "userId": "08705855997000983605"
     },
     "user_tz": -330
    },
    "id": "yd0nmXRr841T",
    "outputId": "7dce7f50-73a3-41ef-c8a1-c7ffefeb24ae"
   },
   "outputs": [
    {
     "name": "stdout",
     "output_type": "stream",
     "text": [
      "Source path =  /content/sample_data/Project_data/train ; batch size = 30\n",
      "Epoch 1/30\n",
      "23/23 [==============================] - ETA: 0s - loss: 4.5595 - categorical_accuracy: 0.3092Source path =  /content/sample_data/Project_data/val ; batch size = 30\n",
      "\n",
      "Epoch 00001: val_loss improved from inf to 147.16617, saving model to /content/drive/My Drive/Colab Notebooks/gesture/best_model/model_3_2021-12-1410_58_13.320966/model-00001-4.55950-0.30920-147.16617-0.23000.h5\n",
      "23/23 [==============================] - 25s 1s/step - loss: 4.5595 - categorical_accuracy: 0.3092 - val_loss: 147.1662 - val_categorical_accuracy: 0.2300 - lr: 0.0010\n",
      "Epoch 2/30\n",
      "22/23 [===========================>..] - ETA: 0s - loss: 1.4075 - categorical_accuracy: 0.3894\n",
      "Epoch 00002: val_loss improved from 147.16617 to 31.27704, saving model to /content/drive/My Drive/Colab Notebooks/gesture/best_model/model_3_2021-12-1410_58_13.320966/model-00002-1.40637-0.39065-31.27704-0.20000.h5\n",
      "23/23 [==============================] - 25s 1s/step - loss: 1.4064 - categorical_accuracy: 0.3906 - val_loss: 31.2770 - val_categorical_accuracy: 0.2000 - lr: 0.0010\n",
      "Epoch 3/30\n",
      "22/23 [===========================>..] - ETA: 0s - loss: 1.3218 - categorical_accuracy: 0.3955\n",
      "Epoch 00003: val_loss improved from 31.27704 to 15.36266, saving model to /content/drive/My Drive/Colab Notebooks/gesture/best_model/model_3_2021-12-1410_58_13.320966/model-00003-1.32074-0.39819-15.36266-0.27000.h5\n",
      "23/23 [==============================] - 25s 1s/step - loss: 1.3207 - categorical_accuracy: 0.3982 - val_loss: 15.3627 - val_categorical_accuracy: 0.2700 - lr: 0.0010\n",
      "Epoch 4/30\n",
      "22/23 [===========================>..] - ETA: 0s - loss: 1.2563 - categorical_accuracy: 0.4273\n",
      "Epoch 00004: val_loss improved from 15.36266 to 9.86270, saving model to /content/drive/My Drive/Colab Notebooks/gesture/best_model/model_3_2021-12-1410_58_13.320966/model-00004-1.25895-0.42836-9.86270-0.24000.h5\n",
      "23/23 [==============================] - 24s 1s/step - loss: 1.2589 - categorical_accuracy: 0.4284 - val_loss: 9.8627 - val_categorical_accuracy: 0.2400 - lr: 0.0010\n",
      "Epoch 5/30\n",
      "22/23 [===========================>..] - ETA: 0s - loss: 1.2459 - categorical_accuracy: 0.4379\n",
      "Epoch 00005: val_loss improved from 9.86270 to 4.06541, saving model to /content/drive/My Drive/Colab Notebooks/gesture/best_model/model_3_2021-12-1410_58_13.320966/model-00005-1.24431-0.43891-4.06541-0.24000.h5\n",
      "23/23 [==============================] - 24s 1s/step - loss: 1.2443 - categorical_accuracy: 0.4389 - val_loss: 4.0654 - val_categorical_accuracy: 0.2400 - lr: 0.0010\n",
      "Epoch 6/30\n",
      "22/23 [===========================>..] - ETA: 0s - loss: 1.2362 - categorical_accuracy: 0.4212\n",
      "Epoch 00006: val_loss improved from 4.06541 to 2.19342, saving model to /content/drive/My Drive/Colab Notebooks/gesture/best_model/model_3_2021-12-1410_58_13.320966/model-00006-1.23570-0.42232-2.19342-0.29000.h5\n",
      "23/23 [==============================] - 25s 1s/step - loss: 1.2357 - categorical_accuracy: 0.4223 - val_loss: 2.1934 - val_categorical_accuracy: 0.2900 - lr: 0.0010\n",
      "Epoch 7/30\n",
      "22/23 [===========================>..] - ETA: 0s - loss: 1.1599 - categorical_accuracy: 0.4955\n",
      "Epoch 00007: val_loss improved from 2.19342 to 1.35117, saving model to /content/drive/My Drive/Colab Notebooks/gesture/best_model/model_3_2021-12-1410_58_13.320966/model-00007-1.15900-0.49774-1.35117-0.41000.h5\n",
      "23/23 [==============================] - 24s 1s/step - loss: 1.1590 - categorical_accuracy: 0.4977 - val_loss: 1.3512 - val_categorical_accuracy: 0.4100 - lr: 0.0010\n",
      "Epoch 8/30\n",
      "22/23 [===========================>..] - ETA: 0s - loss: 1.2028 - categorical_accuracy: 0.4758\n",
      "Epoch 00008: val_loss improved from 1.35117 to 1.22817, saving model to /content/drive/My Drive/Colab Notebooks/gesture/best_model/model_3_2021-12-1410_58_13.320966/model-00008-1.20047-0.47813-1.22817-0.49000.h5\n",
      "23/23 [==============================] - 24s 1s/step - loss: 1.2005 - categorical_accuracy: 0.4781 - val_loss: 1.2282 - val_categorical_accuracy: 0.4900 - lr: 0.0010\n",
      "Epoch 9/30\n",
      "22/23 [===========================>..] - ETA: 0s - loss: 1.1268 - categorical_accuracy: 0.4864\n",
      "Epoch 00009: val_loss improved from 1.22817 to 1.13355, saving model to /content/drive/My Drive/Colab Notebooks/gesture/best_model/model_3_2021-12-1410_58_13.320966/model-00009-1.12909-0.48416-1.13355-0.48000.h5\n",
      "23/23 [==============================] - 24s 1s/step - loss: 1.1291 - categorical_accuracy: 0.4842 - val_loss: 1.1336 - val_categorical_accuracy: 0.4800 - lr: 0.0010\n",
      "Epoch 10/30\n",
      "22/23 [===========================>..] - ETA: 0s - loss: 1.0811 - categorical_accuracy: 0.4924\n",
      "Epoch 00010: val_loss improved from 1.13355 to 1.10474, saving model to /content/drive/My Drive/Colab Notebooks/gesture/best_model/model_3_2021-12-1410_58_13.320966/model-00010-1.08045-0.49321-1.10474-0.49000.h5\n",
      "23/23 [==============================] - 25s 1s/step - loss: 1.0805 - categorical_accuracy: 0.4932 - val_loss: 1.1047 - val_categorical_accuracy: 0.4900 - lr: 0.0010\n",
      "Epoch 11/30\n",
      "22/23 [===========================>..] - ETA: 0s - loss: 1.0724 - categorical_accuracy: 0.5045\n",
      "Epoch 00011: val_loss did not improve from 1.10474\n",
      "23/23 [==============================] - 25s 1s/step - loss: 1.0723 - categorical_accuracy: 0.5038 - val_loss: 1.6458 - val_categorical_accuracy: 0.3100 - lr: 0.0010\n",
      "Epoch 12/30\n",
      "22/23 [===========================>..] - ETA: 0s - loss: 1.1023 - categorical_accuracy: 0.4742\n",
      "Epoch 00012: val_loss did not improve from 1.10474\n",
      "\n",
      "Epoch 00012: ReduceLROnPlateau reducing learning rate to 0.0005000000237487257.\n",
      "23/23 [==============================] - 24s 1s/step - loss: 1.1020 - categorical_accuracy: 0.4736 - val_loss: 1.1308 - val_categorical_accuracy: 0.5200 - lr: 0.0010\n",
      "Epoch 13/30\n",
      "22/23 [===========================>..] - ETA: 0s - loss: 1.0183 - categorical_accuracy: 0.5288\n",
      "Epoch 00013: val_loss improved from 1.10474 to 1.02971, saving model to /content/drive/My Drive/Colab Notebooks/gesture/best_model/model_3_2021-12-1410_58_13.320966/model-00013-1.02138-0.52790-1.02971-0.55000.h5\n",
      "23/23 [==============================] - 24s 1s/step - loss: 1.0214 - categorical_accuracy: 0.5279 - val_loss: 1.0297 - val_categorical_accuracy: 0.5500 - lr: 5.0000e-04\n",
      "Epoch 14/30\n",
      "22/23 [===========================>..] - ETA: 0s - loss: 1.0440 - categorical_accuracy: 0.5394\n",
      "Epoch 00014: val_loss improved from 1.02971 to 0.93431, saving model to /content/drive/My Drive/Colab Notebooks/gesture/best_model/model_3_2021-12-1410_58_13.320966/model-00014-1.04719-0.53695-0.93431-0.61000.h5\n",
      "23/23 [==============================] - 24s 1s/step - loss: 1.0472 - categorical_accuracy: 0.5370 - val_loss: 0.9343 - val_categorical_accuracy: 0.6100 - lr: 5.0000e-04\n",
      "Epoch 15/30\n",
      "22/23 [===========================>..] - ETA: 0s - loss: 0.9963 - categorical_accuracy: 0.5333\n",
      "Epoch 00015: val_loss improved from 0.93431 to 0.83960, saving model to /content/drive/My Drive/Colab Notebooks/gesture/best_model/model_3_2021-12-1410_58_13.320966/model-00015-1.00474-0.53243-0.83960-0.67000.h5\n",
      "23/23 [==============================] - 24s 1s/step - loss: 1.0047 - categorical_accuracy: 0.5324 - val_loss: 0.8396 - val_categorical_accuracy: 0.6700 - lr: 5.0000e-04\n",
      "Epoch 16/30\n",
      "22/23 [===========================>..] - ETA: 0s - loss: 1.0147 - categorical_accuracy: 0.5697\n",
      "Epoch 00016: val_loss did not improve from 0.83960\n",
      "23/23 [==============================] - 24s 1s/step - loss: 1.0155 - categorical_accuracy: 0.5686 - val_loss: 1.1253 - val_categorical_accuracy: 0.4800 - lr: 5.0000e-04\n",
      "Epoch 17/30\n",
      "22/23 [===========================>..] - ETA: 0s - loss: 0.9638 - categorical_accuracy: 0.5788\n",
      "Epoch 00017: val_loss did not improve from 0.83960\n",
      "\n",
      "Epoch 00017: ReduceLROnPlateau reducing learning rate to 0.0002500000118743628.\n",
      "23/23 [==============================] - 25s 1s/step - loss: 0.9630 - categorical_accuracy: 0.5792 - val_loss: 1.2899 - val_categorical_accuracy: 0.4600 - lr: 5.0000e-04\n",
      "Epoch 18/30\n",
      "22/23 [===========================>..] - ETA: 0s - loss: 0.9129 - categorical_accuracy: 0.5894\n",
      "Epoch 00018: val_loss did not improve from 0.83960\n",
      "23/23 [==============================] - 24s 1s/step - loss: 0.9122 - categorical_accuracy: 0.5913 - val_loss: 1.1709 - val_categorical_accuracy: 0.6500 - lr: 2.5000e-04\n",
      "Epoch 19/30\n",
      "22/23 [===========================>..] - ETA: 0s - loss: 0.8948 - categorical_accuracy: 0.5833\n",
      "Epoch 00019: val_loss improved from 0.83960 to 0.74695, saving model to /content/drive/My Drive/Colab Notebooks/gesture/best_model/model_3_2021-12-1410_58_13.320966/model-00019-0.89366-0.58371-0.74695-0.73000.h5\n",
      "23/23 [==============================] - 24s 1s/step - loss: 0.8937 - categorical_accuracy: 0.5837 - val_loss: 0.7469 - val_categorical_accuracy: 0.7300 - lr: 2.5000e-04\n",
      "Epoch 20/30\n",
      "22/23 [===========================>..] - ETA: 0s - loss: 0.8567 - categorical_accuracy: 0.6212\n",
      "Epoch 00020: val_loss did not improve from 0.74695\n",
      "23/23 [==============================] - 23s 1s/step - loss: 0.8559 - categorical_accuracy: 0.6214 - val_loss: 1.0107 - val_categorical_accuracy: 0.5800 - lr: 2.5000e-04\n",
      "Epoch 21/30\n",
      "22/23 [===========================>..] - ETA: 0s - loss: 0.8154 - categorical_accuracy: 0.6485\n",
      "Epoch 00021: val_loss did not improve from 0.74695\n",
      "\n",
      "Epoch 00021: ReduceLROnPlateau reducing learning rate to 0.0001250000059371814.\n",
      "23/23 [==============================] - 24s 1s/step - loss: 0.8152 - categorical_accuracy: 0.6486 - val_loss: 0.9330 - val_categorical_accuracy: 0.6000 - lr: 2.5000e-04\n",
      "Epoch 22/30\n",
      "22/23 [===========================>..] - ETA: 0s - loss: 0.7898 - categorical_accuracy: 0.6424\n",
      "Epoch 00022: val_loss did not improve from 0.74695\n",
      "23/23 [==============================] - 24s 1s/step - loss: 0.7938 - categorical_accuracy: 0.6410 - val_loss: 0.9255 - val_categorical_accuracy: 0.6400 - lr: 1.2500e-04\n",
      "Epoch 23/30\n",
      "22/23 [===========================>..] - ETA: 0s - loss: 0.7894 - categorical_accuracy: 0.6530\n",
      "Epoch 00023: val_loss did not improve from 0.74695\n",
      "\n",
      "Epoch 00023: ReduceLROnPlateau reducing learning rate to 6.25000029685907e-05.\n",
      "23/23 [==============================] - 24s 1s/step - loss: 0.7978 - categorical_accuracy: 0.6516 - val_loss: 0.7699 - val_categorical_accuracy: 0.7000 - lr: 1.2500e-04\n",
      "Epoch 24/30\n",
      "22/23 [===========================>..] - ETA: 0s - loss: 0.8194 - categorical_accuracy: 0.6303\n",
      "Epoch 00024: val_loss did not improve from 0.74695\n",
      "23/23 [==============================] - 23s 1s/step - loss: 0.8235 - categorical_accuracy: 0.6275 - val_loss: 0.7653 - val_categorical_accuracy: 0.6900 - lr: 6.2500e-05\n",
      "Epoch 25/30\n",
      "22/23 [===========================>..] - ETA: 0s - loss: 0.7475 - categorical_accuracy: 0.7076\n",
      "Epoch 00025: val_loss did not improve from 0.74695\n",
      "\n",
      "Epoch 00025: ReduceLROnPlateau reducing learning rate to 3.125000148429535e-05.\n",
      "23/23 [==============================] - 25s 1s/step - loss: 0.7493 - categorical_accuracy: 0.7059 - val_loss: 0.7850 - val_categorical_accuracy: 0.6800 - lr: 6.2500e-05\n",
      "Epoch 26/30\n",
      "22/23 [===========================>..] - ETA: 0s - loss: 0.7753 - categorical_accuracy: 0.6742\n",
      "Epoch 00026: val_loss did not improve from 0.74695\n",
      "23/23 [==============================] - 24s 1s/step - loss: 0.7764 - categorical_accuracy: 0.6742 - val_loss: 0.9198 - val_categorical_accuracy: 0.6200 - lr: 3.1250e-05\n",
      "Epoch 27/30\n",
      "22/23 [===========================>..] - ETA: 0s - loss: 0.7364 - categorical_accuracy: 0.6833\n",
      "Epoch 00027: val_loss improved from 0.74695 to 0.69731, saving model to /content/drive/My Drive/Colab Notebooks/gesture/best_model/model_3_2021-12-1410_58_13.320966/model-00027-0.73888-0.68326-0.69731-0.74000.h5\n",
      "23/23 [==============================] - 24s 1s/step - loss: 0.7389 - categorical_accuracy: 0.6833 - val_loss: 0.6973 - val_categorical_accuracy: 0.7400 - lr: 3.1250e-05\n",
      "Epoch 28/30\n",
      "22/23 [===========================>..] - ETA: 0s - loss: 0.7463 - categorical_accuracy: 0.6955\n",
      "Epoch 00028: val_loss did not improve from 0.69731\n",
      "23/23 [==============================] - 24s 1s/step - loss: 0.7532 - categorical_accuracy: 0.6938 - val_loss: 0.8932 - val_categorical_accuracy: 0.6800 - lr: 3.1250e-05\n",
      "Epoch 29/30\n",
      "22/23 [===========================>..] - ETA: 0s - loss: 0.7661 - categorical_accuracy: 0.6727\n",
      "Epoch 00029: val_loss did not improve from 0.69731\n",
      "\n",
      "Epoch 00029: ReduceLROnPlateau reducing learning rate to 1.5625000742147677e-05.\n",
      "23/23 [==============================] - 25s 1s/step - loss: 0.7653 - categorical_accuracy: 0.6727 - val_loss: 0.7186 - val_categorical_accuracy: 0.7200 - lr: 3.1250e-05\n",
      "Epoch 30/30\n",
      "22/23 [===========================>..] - ETA: 0s - loss: 0.7178 - categorical_accuracy: 0.7061\n",
      "Epoch 00030: val_loss did not improve from 0.69731\n",
      "23/23 [==============================] - 24s 1s/step - loss: 0.7213 - categorical_accuracy: 0.7059 - val_loss: 0.7931 - val_categorical_accuracy: 0.6900 - lr: 1.5625e-05\n"
     ]
    }
   ],
   "source": [
    "# fit the model as per the parameters set\n",
    "history_3=model_3.fit(train_generator, steps_per_epoch=steps_per_epoch, epochs=num_epochs, verbose=1, \n",
    "                    callbacks=callbacks_list, validation_data=val_generator, \n",
    "                    validation_steps=validation_step_cnt, class_weight=None, workers=1, initial_epoch=0)"
   ]
  },
  {
   "cell_type": "code",
   "execution_count": null,
   "metadata": {
    "colab": {
     "base_uri": "https://localhost:8080/",
     "height": 283
    },
    "executionInfo": {
     "elapsed": 603,
     "status": "ok",
     "timestamp": 1639480261462,
     "user": {
      "displayName": "Rajesh Kumar",
      "photoUrl": "https://lh3.googleusercontent.com/a-/AOh14Gj1g2_gr6swv8LrV37ZSsSVoMBTlC5xpstWf7djDA=s64",
      "userId": "08705855997000983605"
     },
     "user_tz": -330
    },
    "id": "yYGuFlVd85tk",
    "outputId": "e24eed7a-8d74-4b9c-aa21-7dfdfcd9188c"
   },
   "outputs": [
    {
     "data": {
      "text/plain": [
       "<matplotlib.legend.Legend at 0x7fa004ac0510>"
      ]
     },
     "execution_count": 33,
     "metadata": {},
     "output_type": "execute_result"
    },
    {
     "data": {
      "image/png": "[encoded data removed]",
      "text/plain": [
       "<Figure size 1080x288 with 2 Axes>"
      ]
     },
     "metadata": {
      "needs_background": "light"
     },
     "output_type": "display_data"
    }
   ],
   "source": [
    "# plot the graph on loss, validation loss, accuracy and validation accuracy\n",
    "fig, axes = plt.subplots(nrows=1, ncols=2, figsize=(15,4))\n",
    "axes[0].plot(history_3.history['loss'])   \n",
    "axes[0].plot(history_3.history['val_loss'])\n",
    "axes[0].legend(['loss','val_loss'])\n",
    "axes[1].plot(history_3.history['categorical_accuracy'])   \n",
    "axes[1].plot(history_3.history['val_categorical_accuracy'])\n",
    "axes[1].legend(['categorical_accuracy','val_categorical_accuracy'])"
   ]
  },
  {
   "cell_type": "markdown",
   "metadata": {
    "id": "6p4aAyZMOeTa"
   },
   "source": [
    "# Model 4"
   ]
  },
  {
   "cell_type": "code",
   "execution_count": null,
   "metadata": {
    "id": "SvSVeLSqI1zD"
   },
   "outputs": [],
   "source": [
    "# Model 4 - LSTM\n",
    "resize_ht = 100\n",
    "resize_wd = 100\n",
    "model_4 = Sequential()\n",
    "\n",
    "#Input layer\n",
    "model_4.add(TimeDistributed(Conv2D(16,(3,3),padding='same',activation='relu'),input_shape=(18,resize_ht,resize_wd,3)))\n",
    "model_4.add(TimeDistributed(BatchNormalization()))\n",
    "model_4.add(TimeDistributed(MaxPooling2D((2, 2))))\n",
    "\n",
    "# Hidden layer\n",
    "model_4.add(TimeDistributed(Conv2D(32,(3,3),padding='same',activation='relu')))\n",
    "model_4.add(TimeDistributed(BatchNormalization()))\n",
    "model_4.add(TimeDistributed(MaxPooling2D((2, 2))))\n",
    "\n",
    "# Hidden layer\n",
    "model_4.add(TimeDistributed(Conv2D(64,(3,3),padding='same',activation='relu')))\n",
    "model_4.add(TimeDistributed(BatchNormalization()))\n",
    "model_4.add(TimeDistributed(MaxPooling2D((2, 2))))\n",
    "\n",
    "# Hidden layer\n",
    "model_4.add(TimeDistributed(Conv2D(128,(3,3),padding='same',activation='relu')))\n",
    "model_4.add(TimeDistributed(BatchNormalization()))\n",
    "model_4.add(TimeDistributed(MaxPooling2D((2, 2))))\n",
    "\n",
    "#Flatten\n",
    "model_4.add(TimeDistributed(Flatten()))\n",
    "\n",
    "#LSTM layer\n",
    "model_4.add(LSTM(64))\n",
    "model_4.add(Dropout(0.2))\n",
    "\n",
    "#Fully Connected layer\n",
    "model_4.add(Dense(64,activation='relu'))\n",
    "\n",
    "model_4.add(Dropout(0.2))\n",
    "\n",
    "#Output layer\n",
    "model_4.add(Dense(5,activation='softmax'))\n"
   ]
  },
  {
   "cell_type": "code",
   "execution_count": null,
   "metadata": {
    "colab": {
     "base_uri": "https://localhost:8080/"
    },
    "executionInfo": {
     "elapsed": 346,
     "status": "ok",
     "timestamp": 1639480299005,
     "user": {
      "displayName": "Rajesh Kumar",
      "photoUrl": "https://lh3.googleusercontent.com/a-/AOh14Gj1g2_gr6swv8LrV37ZSsSVoMBTlC5xpstWf7djDA=s64",
      "userId": "08705855997000983605"
     },
     "user_tz": -330
    },
    "id": "n3_YfPQfI2x6",
    "outputId": "07b26811-2381-4c1d-fa2b-4f53c90cbba7"
   },
   "outputs": [
    {
     "name": "stdout",
     "output_type": "stream",
     "text": [
      "Model: \"sequential_3\"\n",
      "_________________________________________________________________\n",
      " Layer (type)                Output Shape              Param #   \n",
      "=================================================================\n",
      " time_distributed (TimeDistr  (None, 18, 100, 100, 16)  448      \n",
      " ibuted)                                                         \n",
      "                                                                 \n",
      " time_distributed_1 (TimeDis  (None, 18, 100, 100, 16)  64       \n",
      " tributed)                                                       \n",
      "                                                                 \n",
      " time_distributed_2 (TimeDis  (None, 18, 50, 50, 16)   0         \n",
      " tributed)                                                       \n",
      "                                                                 \n",
      " time_distributed_3 (TimeDis  (None, 18, 50, 50, 32)   4640      \n",
      " tributed)                                                       \n",
      "                                                                 \n",
      " time_distributed_4 (TimeDis  (None, 18, 50, 50, 32)   128       \n",
      " tributed)                                                       \n",
      "                                                                 \n",
      " time_distributed_5 (TimeDis  (None, 18, 25, 25, 32)   0         \n",
      " tributed)                                                       \n",
      "                                                                 \n",
      " time_distributed_6 (TimeDis  (None, 18, 25, 25, 64)   18496     \n",
      " tributed)                                                       \n",
      "                                                                 \n",
      " time_distributed_7 (TimeDis  (None, 18, 25, 25, 64)   256       \n",
      " tributed)                                                       \n",
      "                                                                 \n",
      " time_distributed_8 (TimeDis  (None, 18, 12, 12, 64)   0         \n",
      " tributed)                                                       \n",
      "                                                                 \n",
      " time_distributed_9 (TimeDis  (None, 18, 12, 12, 128)  73856     \n",
      " tributed)                                                       \n",
      "                                                                 \n",
      " time_distributed_10 (TimeDi  (None, 18, 12, 12, 128)  512       \n",
      " stributed)                                                      \n",
      "                                                                 \n",
      " time_distributed_11 (TimeDi  (None, 18, 6, 6, 128)    0         \n",
      " stributed)                                                      \n",
      "                                                                 \n",
      " time_distributed_12 (TimeDi  (None, 18, 4608)         0         \n",
      " stributed)                                                      \n",
      "                                                                 \n",
      " lstm (LSTM)                 (None, 64)                1196288   \n",
      "                                                                 \n",
      " dropout_6 (Dropout)         (None, 64)                0         \n",
      "                                                                 \n",
      " dense_6 (Dense)             (None, 64)                4160      \n",
      "                                                                 \n",
      " dropout_7 (Dropout)         (None, 64)                0         \n",
      "                                                                 \n",
      " dense_7 (Dense)             (None, 5)                 325       \n",
      "                                                                 \n",
      "=================================================================\n",
      "Total params: 1,299,173\n",
      "Trainable params: 1,298,693\n",
      "Non-trainable params: 480\n",
      "_________________________________________________________________\n",
      "None\n"
     ]
    }
   ],
   "source": [
    "# Adam optimizer with learning rate\n",
    "optimiser = optimizers.Adam(learning_rate=0.001)\n",
    "\n",
    "#Compile the model\n",
    "model_4.compile(optimizer=optimiser, loss='categorical_crossentropy', metrics=['categorical_accuracy'])\n",
    "\n",
    "#Check the model summary\n",
    "print (model_4.summary())"
   ]
  },
  {
   "cell_type": "code",
   "execution_count": null,
   "metadata": {
    "id": "cChDasUeI2z_"
   },
   "outputs": [],
   "source": [
    "# Invoke the generator for train and validation directories\n",
    "batch_size=30\n",
    "train_generator = generator(train_path, train_doc, batch_size,resize_ht,resize_wd)\n",
    "val_generator = generator(val_path, val_doc, batch_size,resize_ht,resize_wd)"
   ]
  },
  {
   "cell_type": "code",
   "execution_count": null,
   "metadata": {
    "id": "3TR6-npzI23c"
   },
   "outputs": [],
   "source": [
    "#Create path for saving the best model\n",
    "model_name = save_path + 'model_4' + '_' + str(datetime.datetime.now()).replace(' ','').replace(':','_') + '/'\n",
    "    \n",
    "if not os.path.exists(model_name):\n",
    "    os.mkdir(model_name)\n",
    "        \n",
    "filepath = model_name + 'model-{epoch:05d}-{loss:.5f}-{categorical_accuracy:.5f}-{val_loss:.5f}-{val_categorical_accuracy:.5f}.h5'\n",
    "\n",
    "# Set the checkpoint parameters for saving the best models during each run\n",
    "checkpoint = ModelCheckpoint(filepath, monitor='val_loss', verbose=1, save_best_only=True, save_weights_only=False, mode='auto', save_freq='epoch')\n",
    "\n",
    "#Reduce learning rate when a metric has stopped improving.\n",
    "LR = ReduceLROnPlateau(monitor='val_loss', factor=0.5, patience=2, verbose=1, mode='min', min_delta=0.0001, cooldown=0, min_lr=0.00001)\n",
    "\n",
    "#earlystop = EarlyStopping(monitor='val_loss',min_delta=0,patience=10,verbose=1)\n",
    "callbacks_list = [checkpoint, LR]"
   ]
  },
  {
   "cell_type": "code",
   "execution_count": null,
   "metadata": {
    "id": "04khbtjPI25y"
   },
   "outputs": [],
   "source": [
    "#The steps_per_epoch and validation_steps are used by fit_generator to decide the number of next() calls \n",
    "#it need to make.\n",
    "if (num_train_sequences%batch_size) == 0:\n",
    "    steps_per_epoch = int(num_train_sequences/batch_size)\n",
    "else:\n",
    "    steps_per_epoch = (num_train_sequences//batch_size) + 1\n",
    "\n",
    "if (num_val_sequences%batch_size) == 0:\n",
    "    validation_step_cnt = int(num_val_sequences/batch_size)\n",
    "else:\n",
    "    validation_step_cnt = (num_val_sequences//batch_size) + 1"
   ]
  },
  {
   "cell_type": "code",
   "execution_count": null,
   "metadata": {
    "colab": {
     "base_uri": "https://localhost:8080/"
    },
    "executionInfo": {
     "elapsed": 746756,
     "status": "ok",
     "timestamp": 1639481079694,
     "user": {
      "displayName": "Rajesh Kumar",
      "photoUrl": "https://lh3.googleusercontent.com/a-/AOh14Gj1g2_gr6swv8LrV37ZSsSVoMBTlC5xpstWf7djDA=s64",
      "userId": "08705855997000983605"
     },
     "user_tz": -330
    },
    "id": "i64fUa0CI29f",
    "outputId": "48f7a1ac-e457-432f-c306-e733434f449d"
   },
   "outputs": [
    {
     "name": "stdout",
     "output_type": "stream",
     "text": [
      "Source path =  /content/sample_data/Project_data/train ; batch size = 30\n",
      "Epoch 1/30\n",
      "23/23 [==============================] - ETA: 0s - loss: 1.5466 - categorical_accuracy: 0.3092Source path =  /content/sample_data/Project_data/val ; batch size = 30\n",
      "\n",
      "Epoch 00001: val_loss improved from inf to 1.71330, saving model to /content/drive/My Drive/Colab Notebooks/gesture/best_model/model_4_2021-12-1411_11_56.955008/model-00001-1.54657-0.30920-1.71330-0.23000.h5\n",
      "23/23 [==============================] - 29s 1s/step - loss: 1.5466 - categorical_accuracy: 0.3092 - val_loss: 1.7133 - val_categorical_accuracy: 0.2300 - lr: 0.0010\n",
      "Epoch 2/30\n",
      "23/23 [==============================] - ETA: 0s - loss: 1.3608 - categorical_accuracy: 0.4268\n",
      "Epoch 00002: val_loss did not improve from 1.71330\n",
      "23/23 [==============================] - 25s 1s/step - loss: 1.3608 - categorical_accuracy: 0.4268 - val_loss: 1.7721 - val_categorical_accuracy: 0.2600 - lr: 0.0010\n",
      "Epoch 3/30\n",
      "23/23 [==============================] - ETA: 0s - loss: 1.2469 - categorical_accuracy: 0.4736\n",
      "Epoch 00003: val_loss did not improve from 1.71330\n",
      "\n",
      "Epoch 00003: ReduceLROnPlateau reducing learning rate to 0.0005000000237487257.\n",
      "23/23 [==============================] - 26s 1s/step - loss: 1.2469 - categorical_accuracy: 0.4736 - val_loss: 1.8676 - val_categorical_accuracy: 0.2700 - lr: 0.0010\n",
      "Epoch 4/30\n",
      "23/23 [==============================] - ETA: 0s - loss: 1.0690 - categorical_accuracy: 0.5958\n",
      "Epoch 00004: val_loss improved from 1.71330 to 1.67413, saving model to /content/drive/My Drive/Colab Notebooks/gesture/best_model/model_4_2021-12-1411_11_56.955008/model-00004-1.06900-0.59578-1.67413-0.24000.h5\n",
      "23/23 [==============================] - 24s 1s/step - loss: 1.0690 - categorical_accuracy: 0.5958 - val_loss: 1.6741 - val_categorical_accuracy: 0.2400 - lr: 5.0000e-04\n",
      "Epoch 5/30\n",
      "23/23 [==============================] - ETA: 0s - loss: 0.9473 - categorical_accuracy: 0.6576\n",
      "Epoch 00005: val_loss improved from 1.67413 to 1.46414, saving model to /content/drive/My Drive/Colab Notebooks/gesture/best_model/model_4_2021-12-1411_11_56.955008/model-00005-0.94730-0.65762-1.46414-0.41000.h5\n",
      "23/23 [==============================] - 25s 1s/step - loss: 0.9473 - categorical_accuracy: 0.6576 - val_loss: 1.4641 - val_categorical_accuracy: 0.4100 - lr: 5.0000e-04\n",
      "Epoch 6/30\n",
      "23/23 [==============================] - ETA: 0s - loss: 0.8051 - categorical_accuracy: 0.7330\n",
      "Epoch 00006: val_loss improved from 1.46414 to 1.34091, saving model to /content/drive/My Drive/Colab Notebooks/gesture/best_model/model_4_2021-12-1411_11_56.955008/model-00006-0.80508-0.73303-1.34091-0.45000.h5\n",
      "23/23 [==============================] - 25s 1s/step - loss: 0.8051 - categorical_accuracy: 0.7330 - val_loss: 1.3409 - val_categorical_accuracy: 0.4500 - lr: 5.0000e-04\n",
      "Epoch 7/30\n",
      "23/23 [==============================] - ETA: 0s - loss: 0.7228 - categorical_accuracy: 0.7587\n",
      "Epoch 00007: val_loss improved from 1.34091 to 1.25552, saving model to /content/drive/My Drive/Colab Notebooks/gesture/best_model/model_4_2021-12-1411_11_56.955008/model-00007-0.72277-0.75867-1.25552-0.50000.h5\n",
      "23/23 [==============================] - 25s 1s/step - loss: 0.7228 - categorical_accuracy: 0.7587 - val_loss: 1.2555 - val_categorical_accuracy: 0.5000 - lr: 5.0000e-04\n",
      "Epoch 8/30\n",
      "23/23 [==============================] - ETA: 0s - loss: 0.6291 - categorical_accuracy: 0.8084\n",
      "Epoch 00008: val_loss improved from 1.25552 to 1.07888, saving model to /content/drive/My Drive/Colab Notebooks/gesture/best_model/model_4_2021-12-1411_11_56.955008/model-00008-0.62908-0.80845-1.07888-0.55000.h5\n",
      "23/23 [==============================] - 24s 1s/step - loss: 0.6291 - categorical_accuracy: 0.8084 - val_loss: 1.0789 - val_categorical_accuracy: 0.5500 - lr: 5.0000e-04\n",
      "Epoch 9/30\n",
      "23/23 [==============================] - ETA: 0s - loss: 0.5044 - categorical_accuracy: 0.8567\n",
      "Epoch 00009: val_loss improved from 1.07888 to 1.00219, saving model to /content/drive/My Drive/Colab Notebooks/gesture/best_model/model_4_2021-12-1411_11_56.955008/model-00009-0.50437-0.85671-1.00219-0.62000.h5\n",
      "23/23 [==============================] - 25s 1s/step - loss: 0.5044 - categorical_accuracy: 0.8567 - val_loss: 1.0022 - val_categorical_accuracy: 0.6200 - lr: 5.0000e-04\n",
      "Epoch 10/30\n",
      "23/23 [==============================] - ETA: 0s - loss: 0.4331 - categorical_accuracy: 0.8869\n",
      "Epoch 00010: val_loss improved from 1.00219 to 0.84925, saving model to /content/drive/My Drive/Colab Notebooks/gesture/best_model/model_4_2021-12-1411_11_56.955008/model-00010-0.43310-0.88688-0.84925-0.70000.h5\n",
      "23/23 [==============================] - 26s 1s/step - loss: 0.4331 - categorical_accuracy: 0.8869 - val_loss: 0.8493 - val_categorical_accuracy: 0.7000 - lr: 5.0000e-04\n",
      "Epoch 11/30\n",
      "23/23 [==============================] - ETA: 0s - loss: 0.3860 - categorical_accuracy: 0.8839\n",
      "Epoch 00011: val_loss did not improve from 0.84925\n",
      "23/23 [==============================] - 26s 1s/step - loss: 0.3860 - categorical_accuracy: 0.8839 - val_loss: 0.9299 - val_categorical_accuracy: 0.6600 - lr: 5.0000e-04\n",
      "Epoch 12/30\n",
      "23/23 [==============================] - ETA: 0s - loss: 0.3339 - categorical_accuracy: 0.9201\n",
      "Epoch 00012: val_loss improved from 0.84925 to 0.83979, saving model to /content/drive/My Drive/Colab Notebooks/gesture/best_model/model_4_2021-12-1411_11_56.955008/model-00012-0.33386-0.92006-0.83979-0.73000.h5\n",
      "23/23 [==============================] - 25s 1s/step - loss: 0.3339 - categorical_accuracy: 0.9201 - val_loss: 0.8398 - val_categorical_accuracy: 0.7300 - lr: 5.0000e-04\n",
      "Epoch 13/30\n",
      "23/23 [==============================] - ETA: 0s - loss: 0.3005 - categorical_accuracy: 0.9246\n",
      "Epoch 00013: val_loss improved from 0.83979 to 0.77861, saving model to /content/drive/My Drive/Colab Notebooks/gesture/best_model/model_4_2021-12-1411_11_56.955008/model-00013-0.30050-0.92459-0.77861-0.74000.h5\n",
      "23/23 [==============================] - 26s 1s/step - loss: 0.3005 - categorical_accuracy: 0.9246 - val_loss: 0.7786 - val_categorical_accuracy: 0.7400 - lr: 5.0000e-04\n",
      "Epoch 14/30\n",
      "23/23 [==============================] - ETA: 0s - loss: 0.3056 - categorical_accuracy: 0.9216\n",
      "Epoch 00014: val_loss did not improve from 0.77861\n",
      "23/23 [==============================] - 25s 1s/step - loss: 0.3056 - categorical_accuracy: 0.9216 - val_loss: 0.7818 - val_categorical_accuracy: 0.7100 - lr: 5.0000e-04\n",
      "Epoch 15/30\n",
      "23/23 [==============================] - ETA: 0s - loss: 0.2330 - categorical_accuracy: 0.9502\n",
      "Epoch 00015: val_loss did not improve from 0.77861\n",
      "\n",
      "Epoch 00015: ReduceLROnPlateau reducing learning rate to 0.0002500000118743628.\n",
      "23/23 [==============================] - 24s 1s/step - loss: 0.2330 - categorical_accuracy: 0.9502 - val_loss: 0.9101 - val_categorical_accuracy: 0.6500 - lr: 5.0000e-04\n",
      "Epoch 16/30\n",
      "23/23 [==============================] - ETA: 0s - loss: 0.1839 - categorical_accuracy: 0.9608\n",
      "Epoch 00016: val_loss improved from 0.77861 to 0.73481, saving model to /content/drive/My Drive/Colab Notebooks/gesture/best_model/model_4_2021-12-1411_11_56.955008/model-00016-0.18387-0.96078-0.73481-0.73000.h5\n",
      "23/23 [==============================] - 24s 1s/step - loss: 0.1839 - categorical_accuracy: 0.9608 - val_loss: 0.7348 - val_categorical_accuracy: 0.7300 - lr: 2.5000e-04\n",
      "Epoch 17/30\n",
      "23/23 [==============================] - ETA: 0s - loss: 0.1918 - categorical_accuracy: 0.9608\n",
      "Epoch 00017: val_loss did not improve from 0.73481\n",
      "23/23 [==============================] - 24s 1s/step - loss: 0.1918 - categorical_accuracy: 0.9608 - val_loss: 0.8480 - val_categorical_accuracy: 0.6700 - lr: 2.5000e-04\n",
      "Epoch 18/30\n",
      "23/23 [==============================] - ETA: 0s - loss: 0.1628 - categorical_accuracy: 0.9759\n",
      "Epoch 00018: val_loss did not improve from 0.73481\n",
      "\n",
      "Epoch 00018: ReduceLROnPlateau reducing learning rate to 0.0001250000059371814.\n",
      "23/23 [==============================] - 25s 1s/step - loss: 0.1628 - categorical_accuracy: 0.9759 - val_loss: 1.0253 - val_categorical_accuracy: 0.6000 - lr: 2.5000e-04\n",
      "Epoch 19/30\n",
      "23/23 [==============================] - ETA: 0s - loss: 0.1499 - categorical_accuracy: 0.9729\n",
      "Epoch 00019: val_loss did not improve from 0.73481\n",
      "23/23 [==============================] - 24s 1s/step - loss: 0.1499 - categorical_accuracy: 0.9729 - val_loss: 0.7960 - val_categorical_accuracy: 0.6500 - lr: 1.2500e-04\n",
      "Epoch 20/30\n",
      "23/23 [==============================] - ETA: 0s - loss: 0.1584 - categorical_accuracy: 0.9653\n",
      "Epoch 00020: val_loss did not improve from 0.73481\n",
      "\n",
      "Epoch 00020: ReduceLROnPlateau reducing learning rate to 6.25000029685907e-05.\n",
      "23/23 [==============================] - 23s 1s/step - loss: 0.1584 - categorical_accuracy: 0.9653 - val_loss: 0.8639 - val_categorical_accuracy: 0.6400 - lr: 1.2500e-04\n",
      "Epoch 21/30\n",
      "23/23 [==============================] - ETA: 0s - loss: 0.1277 - categorical_accuracy: 0.9804\n",
      "Epoch 00021: val_loss did not improve from 0.73481\n",
      "23/23 [==============================] - 24s 1s/step - loss: 0.1277 - categorical_accuracy: 0.9804 - val_loss: 0.7569 - val_categorical_accuracy: 0.6800 - lr: 6.2500e-05\n",
      "Epoch 22/30\n",
      "23/23 [==============================] - ETA: 0s - loss: 0.1188 - categorical_accuracy: 0.9804\n",
      "Epoch 00022: val_loss did not improve from 0.73481\n",
      "\n",
      "Epoch 00022: ReduceLROnPlateau reducing learning rate to 3.125000148429535e-05.\n",
      "23/23 [==============================] - 24s 1s/step - loss: 0.1188 - categorical_accuracy: 0.9804 - val_loss: 0.7514 - val_categorical_accuracy: 0.7100 - lr: 6.2500e-05\n",
      "Epoch 23/30\n",
      "23/23 [==============================] - ETA: 0s - loss: 0.1130 - categorical_accuracy: 0.9834\n",
      "Epoch 00023: val_loss did not improve from 0.73481\n",
      "23/23 [==============================] - 24s 1s/step - loss: 0.1130 - categorical_accuracy: 0.9834 - val_loss: 0.7809 - val_categorical_accuracy: 0.6800 - lr: 3.1250e-05\n",
      "Epoch 24/30\n",
      "23/23 [==============================] - ETA: 0s - loss: 0.1099 - categorical_accuracy: 0.9879\n",
      "Epoch 00024: val_loss did not improve from 0.73481\n",
      "\n",
      "Epoch 00024: ReduceLROnPlateau reducing learning rate to 1.5625000742147677e-05.\n",
      "23/23 [==============================] - 24s 1s/step - loss: 0.1099 - categorical_accuracy: 0.9879 - val_loss: 0.7619 - val_categorical_accuracy: 0.7000 - lr: 3.1250e-05\n",
      "Epoch 25/30\n",
      "23/23 [==============================] - ETA: 0s - loss: 0.0949 - categorical_accuracy: 0.9910\n",
      "Epoch 00025: val_loss did not improve from 0.73481\n",
      "23/23 [==============================] - 25s 1s/step - loss: 0.0949 - categorical_accuracy: 0.9910 - val_loss: 0.7684 - val_categorical_accuracy: 0.7100 - lr: 1.5625e-05\n",
      "Epoch 26/30\n",
      "23/23 [==============================] - ETA: 0s - loss: 0.1071 - categorical_accuracy: 0.9879\n",
      "Epoch 00026: val_loss improved from 0.73481 to 0.71864, saving model to /content/drive/My Drive/Colab Notebooks/gesture/best_model/model_4_2021-12-1411_11_56.955008/model-00026-0.10711-0.98793-0.71864-0.74000.h5\n",
      "23/23 [==============================] - 25s 1s/step - loss: 0.1071 - categorical_accuracy: 0.9879 - val_loss: 0.7186 - val_categorical_accuracy: 0.7400 - lr: 1.5625e-05\n",
      "Epoch 27/30\n",
      "23/23 [==============================] - ETA: 0s - loss: 0.1136 - categorical_accuracy: 0.9864\n",
      "Epoch 00027: val_loss did not improve from 0.71864\n",
      "23/23 [==============================] - 25s 1s/step - loss: 0.1136 - categorical_accuracy: 0.9864 - val_loss: 0.8106 - val_categorical_accuracy: 0.6700 - lr: 1.5625e-05\n",
      "Epoch 28/30\n",
      "23/23 [==============================] - ETA: 0s - loss: 0.1033 - categorical_accuracy: 0.9864\n",
      "Epoch 00028: val_loss improved from 0.71864 to 0.69903, saving model to /content/drive/My Drive/Colab Notebooks/gesture/best_model/model_4_2021-12-1411_11_56.955008/model-00028-0.10328-0.98643-0.69903-0.71000.h5\n",
      "23/23 [==============================] - 24s 1s/step - loss: 0.1033 - categorical_accuracy: 0.9864 - val_loss: 0.6990 - val_categorical_accuracy: 0.7100 - lr: 1.5625e-05\n",
      "Epoch 29/30\n",
      "23/23 [==============================] - ETA: 0s - loss: 0.1078 - categorical_accuracy: 0.9864\n",
      "Epoch 00029: val_loss did not improve from 0.69903\n",
      "23/23 [==============================] - 25s 1s/step - loss: 0.1078 - categorical_accuracy: 0.9864 - val_loss: 0.7544 - val_categorical_accuracy: 0.6800 - lr: 1.5625e-05\n",
      "Epoch 30/30\n",
      "23/23 [==============================] - ETA: 0s - loss: 0.1136 - categorical_accuracy: 0.9804\n",
      "Epoch 00030: val_loss improved from 0.69903 to 0.60137, saving model to /content/drive/My Drive/Colab Notebooks/gesture/best_model/model_4_2021-12-1411_11_56.955008/model-00030-0.11364-0.98039-0.60137-0.79000.h5\n",
      "23/23 [==============================] - 24s 1s/step - loss: 0.1136 - categorical_accuracy: 0.9804 - val_loss: 0.6014 - val_categorical_accuracy: 0.7900 - lr: 1.5625e-05\n"
     ]
    }
   ],
   "source": [
    "# Fit the model based on the parameters set\n",
    "history_4=model_4.fit(train_generator, steps_per_epoch=steps_per_epoch, epochs=num_epochs, verbose=1, \n",
    "                    callbacks=callbacks_list, validation_data=val_generator, \n",
    "                    validation_steps=validation_step_cnt, class_weight=None, workers=1, initial_epoch=0)"
   ]
  },
  {
   "cell_type": "code",
   "execution_count": null,
   "metadata": {
    "colab": {
     "base_uri": "https://localhost:8080/",
     "height": 283
    },
    "executionInfo": {
     "elapsed": 1192,
     "status": "ok",
     "timestamp": 1639481110589,
     "user": {
      "displayName": "Rajesh Kumar",
      "photoUrl": "https://lh3.googleusercontent.com/a-/AOh14Gj1g2_gr6swv8LrV37ZSsSVoMBTlC5xpstWf7djDA=s64",
      "userId": "08705855997000983605"
     },
     "user_tz": -330
    },
    "id": "CyykDHwjcM6A",
    "outputId": "505a87ff-5db8-4368-954d-4fba5a8fa47e"
   },
   "outputs": [
    {
     "data": {
      "text/plain": [
       "<matplotlib.legend.Legend at 0x7f9ff3a6cad0>"
      ]
     },
     "execution_count": 40,
     "metadata": {},
     "output_type": "execute_result"
    },
    {
     "data": {
      "image/png": "[encoded data removed]",
      "text/plain": [
       "<Figure size 1080x288 with 2 Axes>"
      ]
     },
     "metadata": {
      "needs_background": "light"
     },
     "output_type": "display_data"
    }
   ],
   "source": [
    "# Plot the graphs for loss, categorical_accuracy, val_loss, val_categorical_loss\n",
    "fig, axes = plt.subplots(nrows=1, ncols=2, figsize=(15,4))\n",
    "axes[0].plot(history_4.history['loss'])   \n",
    "axes[0].plot(history_4.history['val_loss'])\n",
    "axes[0].legend(['loss','val_loss'])\n",
    "axes[1].plot(history_4.history['categorical_accuracy'])   \n",
    "axes[1].plot(history_4.history['val_categorical_accuracy'])\n",
    "axes[1].legend(['categorical_accuracy','val_categorical_accuracy'])"
   ]
  },
  {
   "cell_type": "markdown",
   "metadata": {
    "id": "MdZDnGmhe3Ri"
   },
   "source": [
    "# Model 5"
   ]
  },
  {
   "cell_type": "code",
   "execution_count": null,
   "metadata": {
    "id": "qIUfdkEQcSOO"
   },
   "outputs": [],
   "source": [
    "# Model-5 GRU\n",
    "resize_ht = 100\n",
    "resize_wd = 100\n",
    "model_5 = Sequential()\n",
    "\n",
    "#Input layer\n",
    "model_5.add(TimeDistributed(Conv2D(16,(3,3),padding='same',activation='relu'),input_shape=(18,resize_ht,resize_wd,3)))\n",
    "model_5.add(TimeDistributed(BatchNormalization()))\n",
    "model_5.add(TimeDistributed(MaxPooling2D((2, 2))))\n",
    "\n",
    "#Hidden layer\n",
    "model_5.add(TimeDistributed(Conv2D(32,(3,3),padding='same',activation='relu')))\n",
    "model_5.add(TimeDistributed(BatchNormalization()))\n",
    "model_5.add(TimeDistributed(MaxPooling2D((2, 2))))\n",
    "\n",
    "#Hidden layer\n",
    "model_5.add(TimeDistributed(Conv2D(64,(3,3),padding='same',activation='relu')))\n",
    "model_5.add(TimeDistributed(BatchNormalization()))\n",
    "model_5.add(TimeDistributed(MaxPooling2D((2, 2))))\n",
    "\n",
    "#Hidden layer\n",
    "model_5.add(TimeDistributed(Conv2D(128,(3,3),padding='same',activation='relu')))\n",
    "model_5.add(TimeDistributed(BatchNormalization()))\n",
    "model_5.add(TimeDistributed(MaxPooling2D((2, 2))))\n",
    "\n",
    "#Flatten layer\n",
    "model_5.add(TimeDistributed(Flatten()))\n",
    "\n",
    "#GRU\n",
    "model_5.add(GRU(64))\n",
    "model_5.add(Dropout(0.2))\n",
    "\n",
    "#Fully conneced dense layer\n",
    "model_5.add(Dense(64,activation='relu'))\n",
    "model_5.add(Dropout(0.2))\n",
    "\n",
    "#Output layer\n",
    "model_5.add(Dense(5,activation='softmax'))\n"
   ]
  },
  {
   "cell_type": "code",
   "execution_count": null,
   "metadata": {
    "colab": {
     "base_uri": "https://localhost:8080/"
    },
    "executionInfo": {
     "elapsed": 353,
     "status": "ok",
     "timestamp": 1639481127469,
     "user": {
      "displayName": "Rajesh Kumar",
      "photoUrl": "https://lh3.googleusercontent.com/a-/AOh14Gj1g2_gr6swv8LrV37ZSsSVoMBTlC5xpstWf7djDA=s64",
      "userId": "08705855997000983605"
     },
     "user_tz": -330
    },
    "id": "yPPfX_U2cS3U",
    "outputId": "ef68fe63-47cb-41bc-8e20-465839683de9"
   },
   "outputs": [
    {
     "name": "stdout",
     "output_type": "stream",
     "text": [
      "Model: \"sequential_4\"\n",
      "_________________________________________________________________\n",
      " Layer (type)                Output Shape              Param #   \n",
      "=================================================================\n",
      " time_distributed_13 (TimeDi  (None, 18, 100, 100, 16)  448      \n",
      " stributed)                                                      \n",
      "                                                                 \n",
      " time_distributed_14 (TimeDi  (None, 18, 100, 100, 16)  64       \n",
      " stributed)                                                      \n",
      "                                                                 \n",
      " time_distributed_15 (TimeDi  (None, 18, 50, 50, 16)   0         \n",
      " stributed)                                                      \n",
      "                                                                 \n",
      " time_distributed_16 (TimeDi  (None, 18, 50, 50, 32)   4640      \n",
      " stributed)                                                      \n",
      "                                                                 \n",
      " time_distributed_17 (TimeDi  (None, 18, 50, 50, 32)   128       \n",
      " stributed)                                                      \n",
      "                                                                 \n",
      " time_distributed_18 (TimeDi  (None, 18, 25, 25, 32)   0         \n",
      " stributed)                                                      \n",
      "                                                                 \n",
      " time_distributed_19 (TimeDi  (None, 18, 25, 25, 64)   18496     \n",
      " stributed)                                                      \n",
      "                                                                 \n",
      " time_distributed_20 (TimeDi  (None, 18, 25, 25, 64)   256       \n",
      " stributed)                                                      \n",
      "                                                                 \n",
      " time_distributed_21 (TimeDi  (None, 18, 12, 12, 64)   0         \n",
      " stributed)                                                      \n",
      "                                                                 \n",
      " time_distributed_22 (TimeDi  (None, 18, 12, 12, 128)  73856     \n",
      " stributed)                                                      \n",
      "                                                                 \n",
      " time_distributed_23 (TimeDi  (None, 18, 12, 12, 128)  512       \n",
      " stributed)                                                      \n",
      "                                                                 \n",
      " time_distributed_24 (TimeDi  (None, 18, 6, 6, 128)    0         \n",
      " stributed)                                                      \n",
      "                                                                 \n",
      " time_distributed_25 (TimeDi  (None, 18, 4608)         0         \n",
      " stributed)                                                      \n",
      "                                                                 \n",
      " gru (GRU)                   (None, 64)                897408    \n",
      "                                                                 \n",
      " dropout_8 (Dropout)         (None, 64)                0         \n",
      "                                                                 \n",
      " dense_8 (Dense)             (None, 64)                4160      \n",
      "                                                                 \n",
      " dropout_9 (Dropout)         (None, 64)                0         \n",
      "                                                                 \n",
      " dense_9 (Dense)             (None, 5)                 325       \n",
      "                                                                 \n",
      "=================================================================\n",
      "Total params: 1,000,293\n",
      "Trainable params: 999,813\n",
      "Non-trainable params: 480\n",
      "_________________________________________________________________\n",
      "None\n"
     ]
    }
   ],
   "source": [
    "# Adam optimizer with learning rate parameter\n",
    "optimiser = optimizers.Adam(learning_rate=0.001)\n",
    "\n",
    "#compile the model\n",
    "model_5.compile(optimizer=optimiser, loss='categorical_crossentropy', metrics=['categorical_accuracy'])\n",
    "\n",
    "#check the summary of the model\n",
    "print (model_5.summary())"
   ]
  },
  {
   "cell_type": "code",
   "execution_count": null,
   "metadata": {
    "id": "RyAK46AwcS5u"
   },
   "outputs": [],
   "source": [
    "# Invoke the generator for train and validation directories\n",
    "batch_size=30\n",
    "train_generator = generator(train_path, train_doc, batch_size,resize_ht,resize_wd)\n",
    "val_generator = generator(val_path, val_doc, batch_size,resize_ht,resize_wd)"
   ]
  },
  {
   "cell_type": "code",
   "execution_count": null,
   "metadata": {
    "id": "SyMZXw8lcS9O"
   },
   "outputs": [],
   "source": [
    "#Create path for saving the best model\n",
    "model_name = save_path + 'model_5' + '_' + str(datetime.datetime.now()).replace(' ','').replace(':','_') + '/'\n",
    "    \n",
    "if not os.path.exists(model_name):\n",
    "    os.mkdir(model_name)\n",
    "        \n",
    "filepath = model_name + 'model-{epoch:05d}-{loss:.5f}-{categorical_accuracy:.5f}-{val_loss:.5f}-{val_categorical_accuracy:.5f}.h5'\n",
    "\n",
    "# Set the checkpoint parameters for saving the best models during each run\n",
    "checkpoint = ModelCheckpoint(filepath, monitor='val_loss', verbose=1, save_best_only=True, save_weights_only=False, mode='auto', save_freq='epoch')\n",
    "\n",
    "#Reduce learning rate when a metric has stopped improving.\n",
    "LR = ReduceLROnPlateau(monitor='val_loss', factor=0.5, patience=2, verbose=1, mode='min', min_delta=0.0001, cooldown=0, min_lr=0.00001)\n",
    "\n",
    "#earlystop = EarlyStopping(monitor='val_loss',min_delta=0,patience=10,verbose=1)\n",
    "callbacks_list = [checkpoint, LR]"
   ]
  },
  {
   "cell_type": "code",
   "execution_count": null,
   "metadata": {
    "id": "Zl6SgwdHg7zN"
   },
   "outputs": [],
   "source": [
    "#The steps_per_epoch and validation_steps are used by fit_generator to decide the number of next() calls \n",
    "#it need to make.\n",
    "if (num_train_sequences%batch_size) == 0:\n",
    "    steps_per_epoch = int(num_train_sequences/batch_size)\n",
    "else:\n",
    "    steps_per_epoch = (num_train_sequences//batch_size) + 1\n",
    "\n",
    "if (num_val_sequences%batch_size) == 0:\n",
    "    validation_step_cnt = int(num_val_sequences/batch_size)\n",
    "else:\n",
    "    validation_step_cnt = (num_val_sequences//batch_size) + 1"
   ]
  },
  {
   "cell_type": "code",
   "execution_count": null,
   "metadata": {
    "colab": {
     "base_uri": "https://localhost:8080/"
    },
    "executionInfo": {
     "elapsed": 731050,
     "status": "ok",
     "timestamp": 1639481891461,
     "user": {
      "displayName": "Rajesh Kumar",
      "photoUrl": "https://lh3.googleusercontent.com/a-/AOh14Gj1g2_gr6swv8LrV37ZSsSVoMBTlC5xpstWf7djDA=s64",
      "userId": "08705855997000983605"
     },
     "user_tz": -330
    },
    "id": "ffC4NNNShDi1",
    "outputId": "697b8f0c-7176-4141-9814-f0e2a74c6f4e"
   },
   "outputs": [
    {
     "name": "stdout",
     "output_type": "stream",
     "text": [
      "Source path =  /content/sample_data/Project_data/train ; batch size = 30\n",
      "Epoch 1/30\n",
      "23/23 [==============================] - ETA: 0s - loss: 1.4798 - categorical_accuracy: 0.3499Source path =  /content/sample_data/Project_data/val ; batch size = 30\n",
      "\n",
      "Epoch 00001: val_loss improved from inf to 1.85018, saving model to /content/drive/My Drive/Colab Notebooks/gesture/best_model/model_5_2021-12-1411_25_43.962527/model-00001-1.47976-0.34992-1.85018-0.23000.h5\n",
      "23/23 [==============================] - 27s 1s/step - loss: 1.4798 - categorical_accuracy: 0.3499 - val_loss: 1.8502 - val_categorical_accuracy: 0.2300 - lr: 0.0010\n",
      "Epoch 2/30\n",
      "22/23 [===========================>..] - ETA: 0s - loss: 1.1317 - categorical_accuracy: 0.5409\n",
      "Epoch 00002: val_loss did not improve from 1.85018\n",
      "23/23 [==============================] - 24s 1s/step - loss: 1.1335 - categorical_accuracy: 0.5400 - val_loss: 2.0181 - val_categorical_accuracy: 0.2500 - lr: 0.0010\n",
      "Epoch 3/30\n",
      "22/23 [===========================>..] - ETA: 0s - loss: 0.9649 - categorical_accuracy: 0.6394\n",
      "Epoch 00003: val_loss did not improve from 1.85018\n",
      "\n",
      "Epoch 00003: ReduceLROnPlateau reducing learning rate to 0.0005000000237487257.\n",
      "23/23 [==============================] - 25s 1s/step - loss: 0.9623 - categorical_accuracy: 0.6410 - val_loss: 2.0576 - val_categorical_accuracy: 0.1900 - lr: 0.0010\n",
      "Epoch 4/30\n",
      "22/23 [===========================>..] - ETA: 0s - loss: 0.8186 - categorical_accuracy: 0.7061\n",
      "Epoch 00004: val_loss did not improve from 1.85018\n",
      "23/23 [==============================] - 24s 1s/step - loss: 0.8175 - categorical_accuracy: 0.7074 - val_loss: 2.1238 - val_categorical_accuracy: 0.2900 - lr: 5.0000e-04\n",
      "Epoch 5/30\n",
      "22/23 [===========================>..] - ETA: 0s - loss: 0.6445 - categorical_accuracy: 0.7788\n",
      "Epoch 00005: val_loss did not improve from 1.85018\n",
      "\n",
      "Epoch 00005: ReduceLROnPlateau reducing learning rate to 0.0002500000118743628.\n",
      "23/23 [==============================] - 24s 1s/step - loss: 0.6475 - categorical_accuracy: 0.7768 - val_loss: 2.1450 - val_categorical_accuracy: 0.2900 - lr: 5.0000e-04\n",
      "Epoch 6/30\n",
      "22/23 [===========================>..] - ETA: 0s - loss: 0.5675 - categorical_accuracy: 0.8106\n",
      "Epoch 00006: val_loss improved from 1.85018 to 1.81975, saving model to /content/drive/My Drive/Colab Notebooks/gesture/best_model/model_5_2021-12-1411_25_43.962527/model-00006-0.56629-0.81146-1.81975-0.39000.h5\n",
      "23/23 [==============================] - 25s 1s/step - loss: 0.5663 - categorical_accuracy: 0.8115 - val_loss: 1.8197 - val_categorical_accuracy: 0.3900 - lr: 2.5000e-04\n",
      "Epoch 7/30\n",
      "22/23 [===========================>..] - ETA: 0s - loss: 0.5024 - categorical_accuracy: 0.8409\n",
      "Epoch 00007: val_loss improved from 1.81975 to 1.24639, saving model to /content/drive/My Drive/Colab Notebooks/gesture/best_model/model_5_2021-12-1411_25_43.962527/model-00007-0.50526-0.84012-1.24639-0.51000.h5\n",
      "23/23 [==============================] - 25s 1s/step - loss: 0.5053 - categorical_accuracy: 0.8401 - val_loss: 1.2464 - val_categorical_accuracy: 0.5100 - lr: 2.5000e-04\n",
      "Epoch 8/30\n",
      "23/23 [==============================] - ETA: 0s - loss: 0.4570 - categorical_accuracy: 0.8582\n",
      "Epoch 00008: val_loss improved from 1.24639 to 1.21354, saving model to /content/drive/My Drive/Colab Notebooks/gesture/best_model/model_5_2021-12-1411_25_43.962527/model-00008-0.45701-0.85822-1.21354-0.55000.h5\n",
      "23/23 [==============================] - 24s 1s/step - loss: 0.4570 - categorical_accuracy: 0.8582 - val_loss: 1.2135 - val_categorical_accuracy: 0.5500 - lr: 2.5000e-04\n",
      "Epoch 9/30\n",
      "22/23 [===========================>..] - ETA: 0s - loss: 0.4152 - categorical_accuracy: 0.8833\n",
      "Epoch 00009: val_loss improved from 1.21354 to 0.97100, saving model to /content/drive/My Drive/Colab Notebooks/gesture/best_model/model_5_2021-12-1411_25_43.962527/model-00009-0.41479-0.88386-0.97100-0.66000.h5\n",
      "23/23 [==============================] - 25s 1s/step - loss: 0.4148 - categorical_accuracy: 0.8839 - val_loss: 0.9710 - val_categorical_accuracy: 0.6600 - lr: 2.5000e-04\n",
      "Epoch 10/30\n",
      "22/23 [===========================>..] - ETA: 0s - loss: 0.3405 - categorical_accuracy: 0.8985\n",
      "Epoch 00010: val_loss improved from 0.97100 to 0.94867, saving model to /content/drive/My Drive/Colab Notebooks/gesture/best_model/model_5_2021-12-1411_25_43.962527/model-00010-0.34290-0.89744-0.94867-0.66000.h5\n",
      "23/23 [==============================] - 25s 1s/step - loss: 0.3429 - categorical_accuracy: 0.8974 - val_loss: 0.9487 - val_categorical_accuracy: 0.6600 - lr: 2.5000e-04\n",
      "Epoch 11/30\n",
      "22/23 [===========================>..] - ETA: 0s - loss: 0.3079 - categorical_accuracy: 0.9167\n",
      "Epoch 00011: val_loss improved from 0.94867 to 0.77886, saving model to /content/drive/My Drive/Colab Notebooks/gesture/best_model/model_5_2021-12-1411_25_43.962527/model-00011-0.30825-0.91554-0.77886-0.73000.h5\n",
      "23/23 [==============================] - 25s 1s/step - loss: 0.3082 - categorical_accuracy: 0.9155 - val_loss: 0.7789 - val_categorical_accuracy: 0.7300 - lr: 2.5000e-04\n",
      "Epoch 12/30\n",
      "23/23 [==============================] - ETA: 0s - loss: 0.2794 - categorical_accuracy: 0.9291\n",
      "Epoch 00012: val_loss improved from 0.77886 to 0.75728, saving model to /content/drive/My Drive/Colab Notebooks/gesture/best_model/model_5_2021-12-1411_25_43.962527/model-00012-0.27944-0.92911-0.75728-0.77000.h5\n",
      "23/23 [==============================] - 25s 1s/step - loss: 0.2794 - categorical_accuracy: 0.9291 - val_loss: 0.7573 - val_categorical_accuracy: 0.7700 - lr: 2.5000e-04\n",
      "Epoch 13/30\n",
      "22/23 [===========================>..] - ETA: 0s - loss: 0.2389 - categorical_accuracy: 0.9561\n",
      "Epoch 00013: val_loss did not improve from 0.75728\n",
      "23/23 [==============================] - 24s 1s/step - loss: 0.2385 - categorical_accuracy: 0.9563 - val_loss: 0.7596 - val_categorical_accuracy: 0.7500 - lr: 2.5000e-04\n",
      "Epoch 14/30\n",
      "22/23 [===========================>..] - ETA: 0s - loss: 0.1805 - categorical_accuracy: 0.9636\n",
      "Epoch 00014: val_loss did not improve from 0.75728\n",
      "\n",
      "Epoch 00014: ReduceLROnPlateau reducing learning rate to 0.0001250000059371814.\n",
      "23/23 [==============================] - 24s 1s/step - loss: 0.1801 - categorical_accuracy: 0.9638 - val_loss: 0.9170 - val_categorical_accuracy: 0.7200 - lr: 2.5000e-04\n",
      "Epoch 15/30\n",
      "22/23 [===========================>..] - ETA: 0s - loss: 0.1585 - categorical_accuracy: 0.9818\n",
      "Epoch 00015: val_loss improved from 0.75728 to 0.74409, saving model to /content/drive/My Drive/Colab Notebooks/gesture/best_model/model_5_2021-12-1411_25_43.962527/model-00015-0.15814-0.98190-0.74409-0.72000.h5\n",
      "23/23 [==============================] - 24s 1s/step - loss: 0.1581 - categorical_accuracy: 0.9819 - val_loss: 0.7441 - val_categorical_accuracy: 0.7200 - lr: 1.2500e-04\n",
      "Epoch 16/30\n",
      "22/23 [===========================>..] - ETA: 0s - loss: 0.1599 - categorical_accuracy: 0.9712\n",
      "Epoch 00016: val_loss improved from 0.74409 to 0.68493, saving model to /content/drive/My Drive/Colab Notebooks/gesture/best_model/model_5_2021-12-1411_25_43.962527/model-00016-0.15992-0.97134-0.68493-0.79000.h5\n",
      "23/23 [==============================] - 24s 1s/step - loss: 0.1599 - categorical_accuracy: 0.9713 - val_loss: 0.6849 - val_categorical_accuracy: 0.7900 - lr: 1.2500e-04\n",
      "Epoch 17/30\n",
      "23/23 [==============================] - ETA: 0s - loss: 0.1366 - categorical_accuracy: 0.9804\n",
      "Epoch 00017: val_loss did not improve from 0.68493\n",
      "23/23 [==============================] - 25s 1s/step - loss: 0.1366 - categorical_accuracy: 0.9804 - val_loss: 0.7339 - val_categorical_accuracy: 0.7200 - lr: 1.2500e-04\n",
      "Epoch 18/30\n",
      "22/23 [===========================>..] - ETA: 0s - loss: 0.1345 - categorical_accuracy: 0.9788\n",
      "Epoch 00018: val_loss did not improve from 0.68493\n",
      "\n",
      "Epoch 00018: ReduceLROnPlateau reducing learning rate to 6.25000029685907e-05.\n",
      "23/23 [==============================] - 24s 1s/step - loss: 0.1341 - categorical_accuracy: 0.9789 - val_loss: 0.7454 - val_categorical_accuracy: 0.6900 - lr: 1.2500e-04\n",
      "Epoch 19/30\n",
      "22/23 [===========================>..] - ETA: 0s - loss: 0.1267 - categorical_accuracy: 0.9833\n",
      "Epoch 00019: val_loss did not improve from 0.68493\n",
      "23/23 [==============================] - 25s 1s/step - loss: 0.1284 - categorical_accuracy: 0.9819 - val_loss: 0.8120 - val_categorical_accuracy: 0.7400 - lr: 6.2500e-05\n",
      "Epoch 20/30\n",
      "23/23 [==============================] - ETA: 0s - loss: 0.1086 - categorical_accuracy: 0.9894\n",
      "Epoch 00020: val_loss did not improve from 0.68493\n",
      "\n",
      "Epoch 00020: ReduceLROnPlateau reducing learning rate to 3.125000148429535e-05.\n",
      "23/23 [==============================] - 24s 1s/step - loss: 0.1086 - categorical_accuracy: 0.9894 - val_loss: 0.6916 - val_categorical_accuracy: 0.7300 - lr: 6.2500e-05\n",
      "Epoch 21/30\n",
      "22/23 [===========================>..] - ETA: 0s - loss: 0.1165 - categorical_accuracy: 0.9818\n",
      "Epoch 00021: val_loss did not improve from 0.68493\n",
      "23/23 [==============================] - 24s 1s/step - loss: 0.1170 - categorical_accuracy: 0.9819 - val_loss: 0.7554 - val_categorical_accuracy: 0.7100 - lr: 3.1250e-05\n",
      "Epoch 22/30\n",
      "22/23 [===========================>..] - ETA: 0s - loss: 0.1165 - categorical_accuracy: 0.9818\n",
      "Epoch 00022: val_loss improved from 0.68493 to 0.67616, saving model to /content/drive/My Drive/Colab Notebooks/gesture/best_model/model_5_2021-12-1411_25_43.962527/model-00022-0.11702-0.98190-0.67616-0.74000.h5\n",
      "23/23 [==============================] - 24s 1s/step - loss: 0.1170 - categorical_accuracy: 0.9819 - val_loss: 0.6762 - val_categorical_accuracy: 0.7400 - lr: 3.1250e-05\n",
      "Epoch 23/30\n",
      "22/23 [===========================>..] - ETA: 0s - loss: 0.0977 - categorical_accuracy: 0.9894\n",
      "Epoch 00023: val_loss did not improve from 0.67616\n",
      "23/23 [==============================] - 24s 1s/step - loss: 0.0974 - categorical_accuracy: 0.9894 - val_loss: 0.7943 - val_categorical_accuracy: 0.6800 - lr: 3.1250e-05\n",
      "Epoch 24/30\n",
      "23/23 [==============================] - ETA: 0s - loss: 0.1009 - categorical_accuracy: 0.9879\n",
      "Epoch 00024: val_loss did not improve from 0.67616\n",
      "\n",
      "Epoch 00024: ReduceLROnPlateau reducing learning rate to 1.5625000742147677e-05.\n",
      "23/23 [==============================] - 23s 1s/step - loss: 0.1009 - categorical_accuracy: 0.9879 - val_loss: 0.7334 - val_categorical_accuracy: 0.6900 - lr: 3.1250e-05\n",
      "Epoch 25/30\n",
      "22/23 [===========================>..] - ETA: 0s - loss: 0.1047 - categorical_accuracy: 0.9924\n",
      "Epoch 00025: val_loss did not improve from 0.67616\n",
      "23/23 [==============================] - 24s 1s/step - loss: 0.1044 - categorical_accuracy: 0.9925 - val_loss: 0.7399 - val_categorical_accuracy: 0.7000 - lr: 1.5625e-05\n",
      "Epoch 26/30\n",
      "22/23 [===========================>..] - ETA: 0s - loss: 0.1122 - categorical_accuracy: 0.9864\n",
      "Epoch 00026: val_loss did not improve from 0.67616\n",
      "\n",
      "Epoch 00026: ReduceLROnPlateau reducing learning rate to 1e-05.\n",
      "23/23 [==============================] - 24s 1s/step - loss: 0.1120 - categorical_accuracy: 0.9864 - val_loss: 0.7379 - val_categorical_accuracy: 0.7100 - lr: 1.5625e-05\n",
      "Epoch 27/30\n",
      "22/23 [===========================>..] - ETA: 0s - loss: 0.1007 - categorical_accuracy: 0.9879\n",
      "Epoch 00027: val_loss did not improve from 0.67616\n",
      "23/23 [==============================] - 24s 1s/step - loss: 0.1009 - categorical_accuracy: 0.9879 - val_loss: 0.7767 - val_categorical_accuracy: 0.7400 - lr: 1.0000e-05\n",
      "Epoch 28/30\n",
      "22/23 [===========================>..] - ETA: 0s - loss: 0.0950 - categorical_accuracy: 0.9924\n",
      "Epoch 00028: val_loss did not improve from 0.67616\n",
      "23/23 [==============================] - 23s 1s/step - loss: 0.0947 - categorical_accuracy: 0.9925 - val_loss: 0.7276 - val_categorical_accuracy: 0.7200 - lr: 1.0000e-05\n",
      "Epoch 29/30\n",
      "23/23 [==============================] - ETA: 0s - loss: 0.1116 - categorical_accuracy: 0.9759\n",
      "Epoch 00029: val_loss did not improve from 0.67616\n",
      "23/23 [==============================] - 24s 1s/step - loss: 0.1116 - categorical_accuracy: 0.9759 - val_loss: 0.7267 - val_categorical_accuracy: 0.7300 - lr: 1.0000e-05\n",
      "Epoch 30/30\n",
      "22/23 [===========================>..] - ETA: 0s - loss: 0.0929 - categorical_accuracy: 0.9879\n",
      "Epoch 00030: val_loss did not improve from 0.67616\n",
      "23/23 [==============================] - 24s 1s/step - loss: 0.0928 - categorical_accuracy: 0.9879 - val_loss: 0.7814 - val_categorical_accuracy: 0.6900 - lr: 1.0000e-05\n"
     ]
    }
   ],
   "source": [
    "# Fit the model based on the parameters set\n",
    "history_5=model_5.fit(train_generator, steps_per_epoch=steps_per_epoch, epochs=num_epochs, verbose=1, \n",
    "                    callbacks=callbacks_list, validation_data=val_generator, \n",
    "                    validation_steps=validation_step_cnt, class_weight=None, workers=1, initial_epoch=0)"
   ]
  },
  {
   "cell_type": "code",
   "execution_count": null,
   "metadata": {
    "colab": {
     "base_uri": "https://localhost:8080/",
     "height": 283
    },
    "executionInfo": {
     "elapsed": 1334,
     "status": "ok",
     "timestamp": 1639481954602,
     "user": {
      "displayName": "Rajesh Kumar",
      "photoUrl": "https://lh3.googleusercontent.com/a-/AOh14Gj1g2_gr6swv8LrV37ZSsSVoMBTlC5xpstWf7djDA=s64",
      "userId": "08705855997000983605"
     },
     "user_tz": -330
    },
    "id": "IDaZlu8ChEQx",
    "outputId": "cff57122-7a3d-4bd1-e82a-39cc8d972701"
   },
   "outputs": [
    {
     "data": {
      "text/plain": [
       "<matplotlib.legend.Legend at 0x7f9ff215a090>"
      ]
     },
     "execution_count": 47,
     "metadata": {},
     "output_type": "execute_result"
    },
    {
     "data": {
      "image/png": "[encoded data removed]",
      "text/plain": [
       "<Figure size 1080x288 with 2 Axes>"
      ]
     },
     "metadata": {
      "needs_background": "light"
     },
     "output_type": "display_data"
    }
   ],
   "source": [
    "# Plot the graphs for loss, categorical_accuracy, val_loss, val_categorical_loss\n",
    "fig, axes = plt.subplots(nrows=1, ncols=2, figsize=(15,4))\n",
    "axes[0].plot(history_5.history['loss'])   \n",
    "axes[0].plot(history_5.history['val_loss'])\n",
    "axes[0].legend(['loss','val_loss'])\n",
    "axes[1].plot(history_5.history['categorical_accuracy'])   \n",
    "axes[1].plot(history_5.history['val_categorical_accuracy'])\n",
    "axes[1].legend(['categorical_accuracy','val_categorical_accuracy'])"
   ]
  },
  {
   "cell_type": "markdown",
   "metadata": {
    "id": "3MGVi1e1kylF"
   },
   "source": [
    "# Model 6"
   ]
  },
  {
   "cell_type": "code",
   "execution_count": null,
   "metadata": {
    "id": "S5Z9NFVwkkDa"
   },
   "outputs": [],
   "source": [
    "# importing the MobileNet model due to it's lightweight architecture and high speed performance as compared \n",
    "# to other heavy-duty models like VGG16, Alexnet, InceptionV3 etc. \n",
    "\n",
    "from keras.applications import mobilenet"
   ]
  },
  {
   "cell_type": "code",
   "execution_count": null,
   "metadata": {
    "colab": {
     "base_uri": "https://localhost:8080/"
    },
    "executionInfo": {
     "elapsed": 1417,
     "status": "ok",
     "timestamp": 1639481966967,
     "user": {
      "displayName": "Rajesh Kumar",
      "photoUrl": "https://lh3.googleusercontent.com/a-/AOh14Gj1g2_gr6swv8LrV37ZSsSVoMBTlC5xpstWf7djDA=s64",
      "userId": "08705855997000983605"
     },
     "user_tz": -330
    },
    "id": "J5L6L0KRkkw4",
    "outputId": "b67ca385-cff5-40d2-fe5f-77385c622f69"
   },
   "outputs": [
    {
     "name": "stdout",
     "output_type": "stream",
     "text": [
      "WARNING:tensorflow:`input_shape` is undefined or non-square, or `rows` is not in [128, 160, 192, 224]. Weights for input shape (224, 224) will be loaded as the default.\n",
      "Downloading data from https://storage.googleapis.com/tensorflow/keras-applications/mobilenet/mobilenet_1_0_224_tf_no_top.h5\n",
      "17227776/17225924 [==============================] - 0s 0us/step\n",
      "17235968/17225924 [==============================] - 0s 0us/step\n"
     ]
    }
   ],
   "source": [
    "#Model-6 : Transfer Learning using MobileNet model\n",
    "resize_ht=120\n",
    "resize_wd=120\n",
    "model_6 = Sequential()\n",
    "\n",
    "#Input layer\n",
    "model_6.add(TimeDistributed(mobilenet.MobileNet(weights='imagenet',include_top=False),input_shape=(18,resize_ht,resize_wd,3)))\n",
    "\n",
    "# DO NOT train the mobilenet weights\n",
    "for layer in model_6.layers:\n",
    "  layer.trainable=False\n",
    "\n",
    "model_6.add(TimeDistributed(BatchNormalization()))\n",
    "model_6.add(TimeDistributed(MaxPooling2D((2,2))))\n",
    "#Flatten\n",
    "model_6.add(TimeDistributed(Flatten()))\n",
    "#LSTM\n",
    "model_6.add(LSTM(64))\n",
    "model_6.add(Dropout(0.2))\n",
    "#Fully connected layer\n",
    "model_6.add(Dense(64,activation='relu'))\n",
    "model_6.add(Dropout(0.2))\n",
    "#Output layer\n",
    "model_6.add(Dense(5,activation='softmax'))\n",
    "\n",
    "#Compile the model\n",
    "model_6.compile(optimizer=optimizers.Adam(),loss='categorical_crossentropy',metrics=['categorical_accuracy'])\n"
   ]
  },
  {
   "cell_type": "code",
   "execution_count": null,
   "metadata": {
    "colab": {
     "base_uri": "https://localhost:8080/"
    },
    "executionInfo": {
     "elapsed": 368,
     "status": "ok",
     "timestamp": 1639481974402,
     "user": {
      "displayName": "Rajesh Kumar",
      "photoUrl": "https://lh3.googleusercontent.com/a-/AOh14Gj1g2_gr6swv8LrV37ZSsSVoMBTlC5xpstWf7djDA=s64",
      "userId": "08705855997000983605"
     },
     "user_tz": -330
    },
    "id": "jFbIUHYvkkzR",
    "outputId": "494d65b3-2951-40f9-9d76-f802818b8921"
   },
   "outputs": [
    {
     "name": "stdout",
     "output_type": "stream",
     "text": [
      "Model: \"sequential_5\"\n",
      "_________________________________________________________________\n",
      " Layer (type)                Output Shape              Param #   \n",
      "=================================================================\n",
      " time_distributed_26 (TimeDi  (None, 18, 3, 3, 1024)   3228864   \n",
      " stributed)                                                      \n",
      "                                                                 \n",
      " time_distributed_27 (TimeDi  (None, 18, 3, 3, 1024)   4096      \n",
      " stributed)                                                      \n",
      "                                                                 \n",
      " time_distributed_28 (TimeDi  (None, 18, 1, 1, 1024)   0         \n",
      " stributed)                                                      \n",
      "                                                                 \n",
      " time_distributed_29 (TimeDi  (None, 18, 1024)         0         \n",
      " stributed)                                                      \n",
      "                                                                 \n",
      " lstm_1 (LSTM)               (None, 64)                278784    \n",
      "                                                                 \n",
      " dropout_10 (Dropout)        (None, 64)                0         \n",
      "                                                                 \n",
      " dense_10 (Dense)            (None, 64)                4160      \n",
      "                                                                 \n",
      " dropout_11 (Dropout)        (None, 64)                0         \n",
      "                                                                 \n",
      " dense_11 (Dense)            (None, 5)                 325       \n",
      "                                                                 \n",
      "=================================================================\n",
      "Total params: 3,516,229\n",
      "Trainable params: 285,317\n",
      "Non-trainable params: 3,230,912\n",
      "_________________________________________________________________\n"
     ]
    }
   ],
   "source": [
    "model_6.summary()"
   ]
  },
  {
   "cell_type": "code",
   "execution_count": null,
   "metadata": {
    "id": "dQIHxqyqkk2v"
   },
   "outputs": [],
   "source": [
    "# Invoke the generator for train and validation directories\n",
    "batch_size=30\n",
    "train_generator = generator(train_path, train_doc, batch_size,resize_ht,resize_wd)\n",
    "val_generator = generator(val_path, val_doc, batch_size,resize_ht,resize_wd)"
   ]
  },
  {
   "cell_type": "code",
   "execution_count": null,
   "metadata": {
    "id": "-t_JgyjWkk5l"
   },
   "outputs": [],
   "source": [
    "#Create path for saving the best model\n",
    "model_name = save_path + 'model_6' + '_' + str(datetime.datetime.now()).replace(' ','').replace(':','_') + '/'\n",
    "    \n",
    "if not os.path.exists(model_name):\n",
    "    os.mkdir(model_name)\n",
    "        \n",
    "filepath = model_name + 'model-{epoch:05d}-{loss:.5f}-{categorical_accuracy:.5f}-{val_loss:.5f}-{val_categorical_accuracy:.5f}.h5'\n",
    "\n",
    "# Set the checkpoint parameters for saving the best models during each run\n",
    "checkpoint = ModelCheckpoint(filepath, monitor='val_loss', verbose=1, save_best_only=True, save_weights_only=False, mode='auto', save_freq='epoch')\n",
    "\n",
    "#Reduce learning rate when a metric has stopped improving.\n",
    "LR = ReduceLROnPlateau(monitor='val_loss', factor=0.5, patience=2, verbose=1, mode='min', min_delta=0.0001, cooldown=0, min_lr=0.00001)\n",
    "\n",
    "#earlystop = EarlyStopping(monitor='val_loss',min_delta=0,patience=10,verbose=1)\n",
    "callbacks_list = [checkpoint, LR]"
   ]
  },
  {
   "cell_type": "code",
   "execution_count": null,
   "metadata": {
    "id": "Z5zRCxvXkk95"
   },
   "outputs": [],
   "source": [
    "#The steps_per_epoch and validation_steps are used by fit_generator to decide the number of next() calls \n",
    "#it need to make.\n",
    "if (num_train_sequences%batch_size) == 0:\n",
    "    steps_per_epoch = int(num_train_sequences/batch_size)\n",
    "else:\n",
    "    steps_per_epoch = (num_train_sequences//batch_size) + 1\n",
    "\n",
    "if (num_val_sequences%batch_size) == 0:\n",
    "    validation_step_cnt = int(num_val_sequences/batch_size)\n",
    "else:\n",
    "    validation_step_cnt = (num_val_sequences//batch_size) + 1"
   ]
  },
  {
   "cell_type": "code",
   "execution_count": null,
   "metadata": {
    "colab": {
     "base_uri": "https://localhost:8080/"
    },
    "executionInfo": {
     "elapsed": 806888,
     "status": "ok",
     "timestamp": 1639482804317,
     "user": {
      "displayName": "Rajesh Kumar",
      "photoUrl": "https://lh3.googleusercontent.com/a-/AOh14Gj1g2_gr6swv8LrV37ZSsSVoMBTlC5xpstWf7djDA=s64",
      "userId": "08705855997000983605"
     },
     "user_tz": -330
    },
    "id": "xr9ND0tYsZrB",
    "outputId": "0aad71a0-57e2-421d-dbaf-533975559500"
   },
   "outputs": [
    {
     "name": "stdout",
     "output_type": "stream",
     "text": [
      "Source path =  /content/sample_data/Project_data/train ; batch size = 30\n",
      "Epoch 1/30\n",
      "23/23 [==============================] - ETA: 0s - loss: 1.6054 - categorical_accuracy: 0.2443Source path =  /content/sample_data/Project_data/val ; batch size = 30\n",
      "\n",
      "Epoch 00001: val_loss improved from inf to 1.52780, saving model to /content/drive/My Drive/Colab Notebooks/gesture/best_model/model_6_2021-12-1411_39_46.121076/model-00001-1.60536-0.24434-1.52780-0.43000.h5\n",
      "23/23 [==============================] - 32s 1s/step - loss: 1.6054 - categorical_accuracy: 0.2443 - val_loss: 1.5278 - val_categorical_accuracy: 0.4300 - lr: 0.0010\n",
      "Epoch 2/30\n",
      "23/23 [==============================] - ETA: 0s - loss: 1.2996 - categorical_accuracy: 0.5264\n",
      "Epoch 00002: val_loss improved from 1.52780 to 1.46766, saving model to /content/drive/My Drive/Colab Notebooks/gesture/best_model/model_6_2021-12-1411_39_46.121076/model-00002-1.29962-0.52640-1.46766-0.38000.h5\n",
      "23/23 [==============================] - 26s 1s/step - loss: 1.2996 - categorical_accuracy: 0.5264 - val_loss: 1.4677 - val_categorical_accuracy: 0.3800 - lr: 0.0010\n",
      "Epoch 3/30\n",
      "23/23 [==============================] - ETA: 0s - loss: 1.0219 - categorical_accuracy: 0.6365\n",
      "Epoch 00003: val_loss improved from 1.46766 to 1.16642, saving model to /content/drive/My Drive/Colab Notebooks/gesture/best_model/model_6_2021-12-1411_39_46.121076/model-00003-1.02189-0.63650-1.16642-0.57000.h5\n",
      "23/23 [==============================] - 26s 1s/step - loss: 1.0219 - categorical_accuracy: 0.6365 - val_loss: 1.1664 - val_categorical_accuracy: 0.5700 - lr: 0.0010\n",
      "Epoch 4/30\n",
      "23/23 [==============================] - ETA: 0s - loss: 0.8070 - categorical_accuracy: 0.7330\n",
      "Epoch 00004: val_loss improved from 1.16642 to 1.05207, saving model to /content/drive/My Drive/Colab Notebooks/gesture/best_model/model_6_2021-12-1411_39_46.121076/model-00004-0.80698-0.73303-1.05207-0.64000.h5\n",
      "23/23 [==============================] - 26s 1s/step - loss: 0.8070 - categorical_accuracy: 0.7330 - val_loss: 1.0521 - val_categorical_accuracy: 0.6400 - lr: 0.0010\n",
      "Epoch 5/30\n",
      "23/23 [==============================] - ETA: 0s - loss: 0.5872 - categorical_accuracy: 0.8416\n",
      "Epoch 00005: val_loss did not improve from 1.05207\n",
      "23/23 [==============================] - 26s 1s/step - loss: 0.5872 - categorical_accuracy: 0.8416 - val_loss: 1.2008 - val_categorical_accuracy: 0.5400 - lr: 0.0010\n",
      "Epoch 6/30\n",
      "23/23 [==============================] - ETA: 0s - loss: 0.4333 - categorical_accuracy: 0.8808\n",
      "Epoch 00006: val_loss did not improve from 1.05207\n",
      "\n",
      "Epoch 00006: ReduceLROnPlateau reducing learning rate to 0.0005000000237487257.\n",
      "23/23 [==============================] - 25s 1s/step - loss: 0.4333 - categorical_accuracy: 0.8808 - val_loss: 1.2674 - val_categorical_accuracy: 0.5800 - lr: 0.0010\n",
      "Epoch 7/30\n",
      "23/23 [==============================] - ETA: 0s - loss: 0.2787 - categorical_accuracy: 0.9412\n",
      "Epoch 00007: val_loss did not improve from 1.05207\n",
      "23/23 [==============================] - 26s 1s/step - loss: 0.2787 - categorical_accuracy: 0.9412 - val_loss: 1.1289 - val_categorical_accuracy: 0.6000 - lr: 5.0000e-04\n",
      "Epoch 8/30\n",
      "23/23 [==============================] - ETA: 0s - loss: 0.2042 - categorical_accuracy: 0.9729\n",
      "Epoch 00008: val_loss did not improve from 1.05207\n",
      "\n",
      "Epoch 00008: ReduceLROnPlateau reducing learning rate to 0.0002500000118743628.\n",
      "23/23 [==============================] - 25s 1s/step - loss: 0.2042 - categorical_accuracy: 0.9729 - val_loss: 1.2322 - val_categorical_accuracy: 0.5300 - lr: 5.0000e-04\n",
      "Epoch 9/30\n",
      "23/23 [==============================] - ETA: 0s - loss: 0.1539 - categorical_accuracy: 0.9713\n",
      "Epoch 00009: val_loss did not improve from 1.05207\n",
      "23/23 [==============================] - 26s 1s/step - loss: 0.1539 - categorical_accuracy: 0.9713 - val_loss: 1.2779 - val_categorical_accuracy: 0.5400 - lr: 2.5000e-04\n",
      "Epoch 10/30\n",
      "23/23 [==============================] - ETA: 0s - loss: 0.1443 - categorical_accuracy: 0.9849\n",
      "Epoch 00010: val_loss did not improve from 1.05207\n",
      "\n",
      "Epoch 00010: ReduceLROnPlateau reducing learning rate to 0.0001250000059371814.\n",
      "23/23 [==============================] - 26s 1s/step - loss: 0.1443 - categorical_accuracy: 0.9849 - val_loss: 1.2428 - val_categorical_accuracy: 0.5500 - lr: 2.5000e-04\n",
      "Epoch 11/30\n",
      "23/23 [==============================] - ETA: 0s - loss: 0.1213 - categorical_accuracy: 0.9849\n",
      "Epoch 00011: val_loss did not improve from 1.05207\n",
      "23/23 [==============================] - 26s 1s/step - loss: 0.1213 - categorical_accuracy: 0.9849 - val_loss: 1.2505 - val_categorical_accuracy: 0.6000 - lr: 1.2500e-04\n",
      "Epoch 12/30\n",
      "23/23 [==============================] - ETA: 0s - loss: 0.1146 - categorical_accuracy: 0.9879\n",
      "Epoch 00012: val_loss did not improve from 1.05207\n",
      "\n",
      "Epoch 00012: ReduceLROnPlateau reducing learning rate to 6.25000029685907e-05.\n",
      "23/23 [==============================] - 25s 1s/step - loss: 0.1146 - categorical_accuracy: 0.9879 - val_loss: 1.2727 - val_categorical_accuracy: 0.5400 - lr: 1.2500e-04\n",
      "Epoch 13/30\n",
      "23/23 [==============================] - ETA: 0s - loss: 0.1006 - categorical_accuracy: 0.9910\n",
      "Epoch 00013: val_loss did not improve from 1.05207\n",
      "23/23 [==============================] - 26s 1s/step - loss: 0.1006 - categorical_accuracy: 0.9910 - val_loss: 1.2793 - val_categorical_accuracy: 0.5500 - lr: 6.2500e-05\n",
      "Epoch 14/30\n",
      "23/23 [==============================] - ETA: 0s - loss: 0.1063 - categorical_accuracy: 0.9940\n",
      "Epoch 00014: val_loss did not improve from 1.05207\n",
      "\n",
      "Epoch 00014: ReduceLROnPlateau reducing learning rate to 3.125000148429535e-05.\n",
      "23/23 [==============================] - 26s 1s/step - loss: 0.1063 - categorical_accuracy: 0.9940 - val_loss: 1.2403 - val_categorical_accuracy: 0.5700 - lr: 6.2500e-05\n",
      "Epoch 15/30\n",
      "23/23 [==============================] - ETA: 0s - loss: 0.1041 - categorical_accuracy: 0.9910\n",
      "Epoch 00015: val_loss did not improve from 1.05207\n",
      "23/23 [==============================] - 26s 1s/step - loss: 0.1041 - categorical_accuracy: 0.9910 - val_loss: 1.2427 - val_categorical_accuracy: 0.5700 - lr: 3.1250e-05\n",
      "Epoch 16/30\n",
      "23/23 [==============================] - ETA: 0s - loss: 0.0897 - categorical_accuracy: 0.9970\n",
      "Epoch 00016: val_loss did not improve from 1.05207\n",
      "\n",
      "Epoch 00016: ReduceLROnPlateau reducing learning rate to 1.5625000742147677e-05.\n",
      "23/23 [==============================] - 25s 1s/step - loss: 0.0897 - categorical_accuracy: 0.9970 - val_loss: 1.3159 - val_categorical_accuracy: 0.5400 - lr: 3.1250e-05\n",
      "Epoch 17/30\n",
      "23/23 [==============================] - ETA: 0s - loss: 0.0910 - categorical_accuracy: 0.9940\n",
      "Epoch 00017: val_loss did not improve from 1.05207\n",
      "23/23 [==============================] - 25s 1s/step - loss: 0.0910 - categorical_accuracy: 0.9940 - val_loss: 1.2750 - val_categorical_accuracy: 0.5500 - lr: 1.5625e-05\n",
      "Epoch 18/30\n",
      "23/23 [==============================] - ETA: 0s - loss: 0.0943 - categorical_accuracy: 0.9925\n",
      "Epoch 00018: val_loss did not improve from 1.05207\n",
      "\n",
      "Epoch 00018: ReduceLROnPlateau reducing learning rate to 1e-05.\n",
      "23/23 [==============================] - 25s 1s/step - loss: 0.0943 - categorical_accuracy: 0.9925 - val_loss: 1.2901 - val_categorical_accuracy: 0.5100 - lr: 1.5625e-05\n",
      "Epoch 19/30\n",
      "23/23 [==============================] - ETA: 0s - loss: 0.1038 - categorical_accuracy: 0.9864\n",
      "Epoch 00019: val_loss did not improve from 1.05207\n",
      "23/23 [==============================] - 26s 1s/step - loss: 0.1038 - categorical_accuracy: 0.9864 - val_loss: 1.2887 - val_categorical_accuracy: 0.5400 - lr: 1.0000e-05\n",
      "Epoch 20/30\n",
      "23/23 [==============================] - ETA: 0s - loss: 0.0880 - categorical_accuracy: 0.9940\n",
      "Epoch 00020: val_loss did not improve from 1.05207\n",
      "23/23 [==============================] - 25s 1s/step - loss: 0.0880 - categorical_accuracy: 0.9940 - val_loss: 1.3462 - val_categorical_accuracy: 0.5400 - lr: 1.0000e-05\n",
      "Epoch 21/30\n",
      "23/23 [==============================] - ETA: 0s - loss: 0.0963 - categorical_accuracy: 0.9925\n",
      "Epoch 00021: val_loss did not improve from 1.05207\n",
      "23/23 [==============================] - 26s 1s/step - loss: 0.0963 - categorical_accuracy: 0.9925 - val_loss: 1.2769 - val_categorical_accuracy: 0.5500 - lr: 1.0000e-05\n",
      "Epoch 22/30\n",
      "23/23 [==============================] - ETA: 0s - loss: 0.0857 - categorical_accuracy: 0.9940\n",
      "Epoch 00022: val_loss did not improve from 1.05207\n",
      "23/23 [==============================] - 26s 1s/step - loss: 0.0857 - categorical_accuracy: 0.9940 - val_loss: 1.3602 - val_categorical_accuracy: 0.5100 - lr: 1.0000e-05\n",
      "Epoch 23/30\n",
      "23/23 [==============================] - ETA: 0s - loss: 0.0912 - categorical_accuracy: 0.9940\n",
      "Epoch 00023: val_loss did not improve from 1.05207\n",
      "23/23 [==============================] - 26s 1s/step - loss: 0.0912 - categorical_accuracy: 0.9940 - val_loss: 1.2015 - val_categorical_accuracy: 0.5600 - lr: 1.0000e-05\n",
      "Epoch 24/30\n",
      "23/23 [==============================] - ETA: 0s - loss: 0.0853 - categorical_accuracy: 0.9940\n",
      "Epoch 00024: val_loss did not improve from 1.05207\n",
      "23/23 [==============================] - 25s 1s/step - loss: 0.0853 - categorical_accuracy: 0.9940 - val_loss: 1.2534 - val_categorical_accuracy: 0.5400 - lr: 1.0000e-05\n",
      "Epoch 25/30\n",
      "23/23 [==============================] - ETA: 0s - loss: 0.0907 - categorical_accuracy: 0.9879\n",
      "Epoch 00025: val_loss did not improve from 1.05207\n",
      "23/23 [==============================] - 25s 1s/step - loss: 0.0907 - categorical_accuracy: 0.9879 - val_loss: 1.2761 - val_categorical_accuracy: 0.5300 - lr: 1.0000e-05\n",
      "Epoch 26/30\n",
      "23/23 [==============================] - ETA: 0s - loss: 0.0976 - categorical_accuracy: 0.9864\n",
      "Epoch 00026: val_loss did not improve from 1.05207\n",
      "23/23 [==============================] - 26s 1s/step - loss: 0.0976 - categorical_accuracy: 0.9864 - val_loss: 1.3524 - val_categorical_accuracy: 0.5100 - lr: 1.0000e-05\n",
      "Epoch 27/30\n",
      "23/23 [==============================] - ETA: 0s - loss: 0.0852 - categorical_accuracy: 0.9925\n",
      "Epoch 00027: val_loss did not improve from 1.05207\n",
      "23/23 [==============================] - 26s 1s/step - loss: 0.0852 - categorical_accuracy: 0.9925 - val_loss: 1.2533 - val_categorical_accuracy: 0.5700 - lr: 1.0000e-05\n",
      "Epoch 28/30\n",
      "23/23 [==============================] - ETA: 0s - loss: 0.0916 - categorical_accuracy: 0.9955\n",
      "Epoch 00028: val_loss did not improve from 1.05207\n",
      "23/23 [==============================] - 25s 1s/step - loss: 0.0916 - categorical_accuracy: 0.9955 - val_loss: 1.4426 - val_categorical_accuracy: 0.4700 - lr: 1.0000e-05\n",
      "Epoch 29/30\n",
      "23/23 [==============================] - ETA: 0s - loss: 0.0909 - categorical_accuracy: 0.9910\n",
      "Epoch 00029: val_loss did not improve from 1.05207\n",
      "23/23 [==============================] - 26s 1s/step - loss: 0.0909 - categorical_accuracy: 0.9910 - val_loss: 1.2766 - val_categorical_accuracy: 0.5400 - lr: 1.0000e-05\n",
      "Epoch 30/30\n",
      "23/23 [==============================] - ETA: 0s - loss: 0.0876 - categorical_accuracy: 0.9894\n",
      "Epoch 00030: val_loss did not improve from 1.05207\n",
      "23/23 [==============================] - 27s 1s/step - loss: 0.0876 - categorical_accuracy: 0.9894 - val_loss: 1.3564 - val_categorical_accuracy: 0.5200 - lr: 1.0000e-05\n"
     ]
    }
   ],
   "source": [
    "# Fit the model based on the parameters set\n",
    "history_6=model_6.fit(train_generator, steps_per_epoch=steps_per_epoch, epochs=num_epochs, verbose=1, \n",
    "                    callbacks=callbacks_list, validation_data=val_generator, \n",
    "                    validation_steps=validation_step_cnt, class_weight=None, workers=1, initial_epoch=0)"
   ]
  },
  {
   "cell_type": "code",
   "execution_count": null,
   "metadata": {
    "colab": {
     "base_uri": "https://localhost:8080/",
     "height": 283
    },
    "executionInfo": {
     "elapsed": 607,
     "status": "ok",
     "timestamp": 1639483027511,
     "user": {
      "displayName": "Rajesh Kumar",
      "photoUrl": "https://lh3.googleusercontent.com/a-/AOh14Gj1g2_gr6swv8LrV37ZSsSVoMBTlC5xpstWf7djDA=s64",
      "userId": "08705855997000983605"
     },
     "user_tz": -330
    },
    "id": "kel3DFe0saL1",
    "outputId": "87f8654e-c669-4a51-e024-3dc183a1c9d0"
   },
   "outputs": [
    {
     "data": {
      "text/plain": [
       "<matplotlib.legend.Legend at 0x7f9bc5fc2a10>"
      ]
     },
     "execution_count": 55,
     "metadata": {},
     "output_type": "execute_result"
    },
    {
     "data": {
      "image/png": "[encoded data removed]",
      "text/plain": [
       "<Figure size 1080x288 with 2 Axes>"
      ]
     },
     "metadata": {
      "needs_background": "light"
     },
     "output_type": "display_data"
    }
   ],
   "source": [
    "# Plot the graphs for loss, categorical_accuracy, val_loss, val_categorical_loss\n",
    "fig, axes = plt.subplots(nrows=1, ncols=2, figsize=(15,4))\n",
    "axes[0].plot(history_6.history['loss'])   \n",
    "axes[0].plot(history_6.history['val_loss'])\n",
    "axes[0].legend(['loss','val_loss'])\n",
    "axes[1].plot(history_6.history['categorical_accuracy'])   \n",
    "axes[1].plot(history_6.history['val_categorical_accuracy'])\n",
    "axes[1].legend(['categorical_accuracy','val_categorical_accuracy'])"
   ]
  },
  {
   "cell_type": "markdown",
   "metadata": {
    "id": "LZdYujbwxlqR"
   },
   "source": [
    "# Model-7"
   ]
  },
  {
   "cell_type": "code",
   "execution_count": null,
   "metadata": {
    "colab": {
     "base_uri": "https://localhost:8080/"
    },
    "executionInfo": {
     "elapsed": 1173,
     "status": "ok",
     "timestamp": 1639483036161,
     "user": {
      "displayName": "Rajesh Kumar",
      "photoUrl": "https://lh3.googleusercontent.com/a-/AOh14Gj1g2_gr6swv8LrV37ZSsSVoMBTlC5xpstWf7djDA=s64",
      "userId": "08705855997000983605"
     },
     "user_tz": -330
    },
    "id": "lyYS6x0LsaOx",
    "outputId": "94320b10-037a-432a-9918-66f5b1a7cfe6"
   },
   "outputs": [
    {
     "name": "stdout",
     "output_type": "stream",
     "text": [
      "WARNING:tensorflow:`input_shape` is undefined or non-square, or `rows` is not in [128, 160, 192, 224]. Weights for input shape (224, 224) will be loaded as the default.\n"
     ]
    }
   ],
   "source": [
    "#Model-7 : Transfer Learning using MobileNet and by training the mobilenet weights\n",
    "resize_ht=160\n",
    "resize_wd=160\n",
    "model_7 = Sequential()\n",
    "\n",
    "#Input layer\n",
    "model_7.add(TimeDistributed(mobilenet.MobileNet(weights='imagenet',include_top=False),input_shape=(18,resize_ht,resize_wd,3)))\n",
    "\n",
    "# TRAIN the mobilenet weights\n",
    "#for layer in model_7.layers:\n",
    "#  layer.trainable=False\n",
    "\n",
    "model_7.add(TimeDistributed(BatchNormalization()))\n",
    "model_7.add(TimeDistributed(MaxPooling2D((2,2))))\n",
    "\n",
    "#Flatten\n",
    "model_7.add(TimeDistributed(Flatten()))\n",
    "\n",
    "#GRU\n",
    "model_7.add(GRU(64))\n",
    "model_7.add(Dropout(0.2))\n",
    "\n",
    "#Fully connected layer\n",
    "model_7.add(Dense(64,activation='relu'))\n",
    "model_7.add(Dropout(0.2))\n",
    "\n",
    "# Output layer\n",
    "model_7.add(Dense(5,activation='softmax'))\n",
    "\n",
    "#Compile the model\n",
    "model_7.compile(optimizer=optimizers.Adam(),loss='categorical_crossentropy',metrics=['categorical_accuracy'])\n"
   ]
  },
  {
   "cell_type": "code",
   "execution_count": null,
   "metadata": {
    "colab": {
     "base_uri": "https://localhost:8080/"
    },
    "executionInfo": {
     "elapsed": 388,
     "status": "ok",
     "timestamp": 1639483041204,
     "user": {
      "displayName": "Rajesh Kumar",
      "photoUrl": "https://lh3.googleusercontent.com/a-/AOh14Gj1g2_gr6swv8LrV37ZSsSVoMBTlC5xpstWf7djDA=s64",
      "userId": "08705855997000983605"
     },
     "user_tz": -330
    },
    "id": "T-RDXwUTsadS",
    "outputId": "1230e11d-e3e4-4b3a-a5d1-e89b77187010"
   },
   "outputs": [
    {
     "name": "stdout",
     "output_type": "stream",
     "text": [
      "Model: \"sequential_6\"\n",
      "_________________________________________________________________\n",
      " Layer (type)                Output Shape              Param #   \n",
      "=================================================================\n",
      " time_distributed_30 (TimeDi  (None, 18, 5, 5, 1024)   3228864   \n",
      " stributed)                                                      \n",
      "                                                                 \n",
      " time_distributed_31 (TimeDi  (None, 18, 5, 5, 1024)   4096      \n",
      " stributed)                                                      \n",
      "                                                                 \n",
      " time_distributed_32 (TimeDi  (None, 18, 2, 2, 1024)   0         \n",
      " stributed)                                                      \n",
      "                                                                 \n",
      " time_distributed_33 (TimeDi  (None, 18, 4096)         0         \n",
      " stributed)                                                      \n",
      "                                                                 \n",
      " gru_1 (GRU)                 (None, 64)                799104    \n",
      "                                                                 \n",
      " dropout_12 (Dropout)        (None, 64)                0         \n",
      "                                                                 \n",
      " dense_12 (Dense)            (None, 64)                4160      \n",
      "                                                                 \n",
      " dropout_13 (Dropout)        (None, 64)                0         \n",
      "                                                                 \n",
      " dense_13 (Dense)            (None, 5)                 325       \n",
      "                                                                 \n",
      "=================================================================\n",
      "Total params: 4,036,549\n",
      "Trainable params: 4,012,613\n",
      "Non-trainable params: 23,936\n",
      "_________________________________________________________________\n"
     ]
    }
   ],
   "source": [
    "#Check the model summary\n",
    "model_7.summary()"
   ]
  },
  {
   "cell_type": "code",
   "execution_count": null,
   "metadata": {
    "id": "PxPlGUppyKnM"
   },
   "outputs": [],
   "source": [
    "# Invoke the generator for train and validation directories\n",
    "batch_size=30\n",
    "train_generator = generator(train_path, train_doc, batch_size,resize_ht,resize_wd)\n",
    "val_generator = generator(val_path, val_doc, batch_size,resize_ht,resize_wd)"
   ]
  },
  {
   "cell_type": "code",
   "execution_count": null,
   "metadata": {
    "id": "9sKP7QrKyKpD"
   },
   "outputs": [],
   "source": [
    "#Create path for saving the best model\n",
    "model_name = save_path + 'model_7' + '_' + str(datetime.datetime.now()).replace(' ','').replace(':','_') + '/'\n",
    "    \n",
    "if not os.path.exists(model_name):\n",
    "    os.mkdir(model_name)\n",
    "        \n",
    "filepath = model_name + 'model-{epoch:05d}-{loss:.5f}-{categorical_accuracy:.5f}-{val_loss:.5f}-{val_categorical_accuracy:.5f}.h5'\n",
    "\n",
    "# Set the checkpoint parameters for saving the best models during each run\n",
    "checkpoint = ModelCheckpoint(filepath, monitor='val_loss', verbose=1, save_best_only=True, save_weights_only=False, mode='auto', save_freq='epoch')\n",
    "\n",
    "#Reduce learning rate when a metric has stopped improving.\n",
    "LR = ReduceLROnPlateau(monitor='val_loss', factor=0.5, patience=2, verbose=1, mode='min', min_delta=0.0001, cooldown=0, min_lr=0.00001)\n",
    "\n",
    "#earlystop = EarlyStopping(monitor='val_loss',min_delta=0,patience=10,verbose=1)\n",
    "callbacks_list = [checkpoint, LR]"
   ]
  },
  {
   "cell_type": "code",
   "execution_count": null,
   "metadata": {
    "id": "1ELjDYyzyKs5"
   },
   "outputs": [],
   "source": [
    "#The steps_per_epoch and validation_steps are used by fit_generator to decide the number of next() calls \n",
    "#it need to make.\n",
    "if (num_train_sequences%batch_size) == 0:\n",
    "    steps_per_epoch = int(num_train_sequences/batch_size)\n",
    "else:\n",
    "    steps_per_epoch = (num_train_sequences//batch_size) + 1\n",
    "\n",
    "if (num_val_sequences%batch_size) == 0:\n",
    "    validation_step_cnt = int(num_val_sequences/batch_size)\n",
    "else:\n",
    "    validation_step_cnt = (num_val_sequences//batch_size) + 1"
   ]
  },
  {
   "cell_type": "code",
   "execution_count": null,
   "metadata": {
    "colab": {
     "base_uri": "https://localhost:8080/"
    },
    "executionInfo": {
     "elapsed": 1080342,
     "status": "ok",
     "timestamp": 1639484140812,
     "user": {
      "displayName": "Rajesh Kumar",
      "photoUrl": "https://lh3.googleusercontent.com/a-/AOh14Gj1g2_gr6swv8LrV37ZSsSVoMBTlC5xpstWf7djDA=s64",
      "userId": "08705855997000983605"
     },
     "user_tz": -330
    },
    "id": "GEA49i1EyKvA",
    "outputId": "c1078487-7089-4bce-ea76-103e689ee1bc"
   },
   "outputs": [
    {
     "name": "stdout",
     "output_type": "stream",
     "text": [
      "Source path =  /content/sample_data/Project_data/train ; batch size = 30\n",
      "Epoch 1/30\n",
      "23/23 [==============================] - ETA: 0s - loss: 1.2163 - categorical_accuracy: 0.5204Source path =  /content/sample_data/Project_data/val ; batch size = 30\n",
      "\n",
      "Epoch 00001: val_loss improved from inf to 1.08458, saving model to /content/drive/My Drive/Colab Notebooks/gesture/best_model/model_7_2021-12-1411_57_30.968173/model-00001-1.21635-0.52036-1.08458-0.56000.h5\n",
      "23/23 [==============================] - 43s 2s/step - loss: 1.2163 - categorical_accuracy: 0.5204 - val_loss: 1.0846 - val_categorical_accuracy: 0.5600 - lr: 0.0010\n",
      "Epoch 2/30\n",
      "23/23 [==============================] - ETA: 0s - loss: 0.5518 - categorical_accuracy: 0.8084\n",
      "Epoch 00002: val_loss improved from 1.08458 to 0.97553, saving model to /content/drive/My Drive/Colab Notebooks/gesture/best_model/model_7_2021-12-1411_57_30.968173/model-00002-0.55180-0.80845-0.97553-0.59000.h5\n",
      "23/23 [==============================] - 36s 2s/step - loss: 0.5518 - categorical_accuracy: 0.8084 - val_loss: 0.9755 - val_categorical_accuracy: 0.5900 - lr: 0.0010\n",
      "Epoch 3/30\n",
      "23/23 [==============================] - ETA: 0s - loss: 0.3805 - categorical_accuracy: 0.8748\n",
      "Epoch 00003: val_loss improved from 0.97553 to 0.50361, saving model to /content/drive/My Drive/Colab Notebooks/gesture/best_model/model_7_2021-12-1411_57_30.968173/model-00003-0.38051-0.87481-0.50361-0.82000.h5\n",
      "23/23 [==============================] - 36s 2s/step - loss: 0.3805 - categorical_accuracy: 0.8748 - val_loss: 0.5036 - val_categorical_accuracy: 0.8200 - lr: 0.0010\n",
      "Epoch 4/30\n",
      "23/23 [==============================] - ETA: 0s - loss: 0.2650 - categorical_accuracy: 0.9276\n",
      "Epoch 00004: val_loss improved from 0.50361 to 0.42363, saving model to /content/drive/My Drive/Colab Notebooks/gesture/best_model/model_7_2021-12-1411_57_30.968173/model-00004-0.26498-0.92760-0.42363-0.82000.h5\n",
      "23/23 [==============================] - 36s 2s/step - loss: 0.2650 - categorical_accuracy: 0.9276 - val_loss: 0.4236 - val_categorical_accuracy: 0.8200 - lr: 0.0010\n",
      "Epoch 5/30\n",
      "23/23 [==============================] - ETA: 0s - loss: 0.2075 - categorical_accuracy: 0.9412\n",
      "Epoch 00005: val_loss improved from 0.42363 to 0.37079, saving model to /content/drive/My Drive/Colab Notebooks/gesture/best_model/model_7_2021-12-1411_57_30.968173/model-00005-0.20752-0.94118-0.37079-0.83000.h5\n",
      "23/23 [==============================] - 36s 2s/step - loss: 0.2075 - categorical_accuracy: 0.9412 - val_loss: 0.3708 - val_categorical_accuracy: 0.8300 - lr: 0.0010\n",
      "Epoch 6/30\n",
      "23/23 [==============================] - ETA: 0s - loss: 0.2275 - categorical_accuracy: 0.9231\n",
      "Epoch 00006: val_loss improved from 0.37079 to 0.36196, saving model to /content/drive/My Drive/Colab Notebooks/gesture/best_model/model_7_2021-12-1411_57_30.968173/model-00006-0.22755-0.92308-0.36196-0.85000.h5\n",
      "23/23 [==============================] - 37s 2s/step - loss: 0.2275 - categorical_accuracy: 0.9231 - val_loss: 0.3620 - val_categorical_accuracy: 0.8500 - lr: 0.0010\n",
      "Epoch 7/30\n",
      "23/23 [==============================] - ETA: 0s - loss: 0.3184 - categorical_accuracy: 0.8899\n",
      "Epoch 00007: val_loss improved from 0.36196 to 0.35051, saving model to /content/drive/My Drive/Colab Notebooks/gesture/best_model/model_7_2021-12-1411_57_30.968173/model-00007-0.31843-0.88989-0.35051-0.86000.h5\n",
      "23/23 [==============================] - 36s 2s/step - loss: 0.3184 - categorical_accuracy: 0.8899 - val_loss: 0.3505 - val_categorical_accuracy: 0.8600 - lr: 0.0010\n",
      "Epoch 8/30\n",
      "23/23 [==============================] - ETA: 0s - loss: 0.2867 - categorical_accuracy: 0.9140\n",
      "Epoch 00008: val_loss improved from 0.35051 to 0.27868, saving model to /content/drive/My Drive/Colab Notebooks/gesture/best_model/model_7_2021-12-1411_57_30.968173/model-00008-0.28674-0.91403-0.27868-0.89000.h5\n",
      "23/23 [==============================] - 35s 2s/step - loss: 0.2867 - categorical_accuracy: 0.9140 - val_loss: 0.2787 - val_categorical_accuracy: 0.8900 - lr: 0.0010\n",
      "Epoch 9/30\n",
      "23/23 [==============================] - ETA: 0s - loss: 0.2404 - categorical_accuracy: 0.9170\n",
      "Epoch 00009: val_loss did not improve from 0.27868\n",
      "23/23 [==============================] - 35s 2s/step - loss: 0.2404 - categorical_accuracy: 0.9170 - val_loss: 0.5068 - val_categorical_accuracy: 0.8200 - lr: 0.0010\n",
      "Epoch 10/30\n",
      "23/23 [==============================] - ETA: 0s - loss: 0.1792 - categorical_accuracy: 0.9487\n",
      "Epoch 00010: val_loss did not improve from 0.27868\n",
      "\n",
      "Epoch 00010: ReduceLROnPlateau reducing learning rate to 0.0005000000237487257.\n",
      "23/23 [==============================] - 36s 2s/step - loss: 0.1792 - categorical_accuracy: 0.9487 - val_loss: 0.7100 - val_categorical_accuracy: 0.8000 - lr: 0.0010\n",
      "Epoch 11/30\n",
      "23/23 [==============================] - ETA: 0s - loss: 0.1319 - categorical_accuracy: 0.9638\n",
      "Epoch 00011: val_loss did not improve from 0.27868\n",
      "23/23 [==============================] - 36s 2s/step - loss: 0.1319 - categorical_accuracy: 0.9638 - val_loss: 0.4258 - val_categorical_accuracy: 0.8500 - lr: 5.0000e-04\n",
      "Epoch 12/30\n",
      "23/23 [==============================] - ETA: 0s - loss: 0.0709 - categorical_accuracy: 0.9879\n",
      "Epoch 00012: val_loss improved from 0.27868 to 0.17778, saving model to /content/drive/My Drive/Colab Notebooks/gesture/best_model/model_7_2021-12-1411_57_30.968173/model-00012-0.07094-0.98793-0.17778-0.92000.h5\n",
      "23/23 [==============================] - 36s 2s/step - loss: 0.0709 - categorical_accuracy: 0.9879 - val_loss: 0.1778 - val_categorical_accuracy: 0.9200 - lr: 5.0000e-04\n",
      "Epoch 13/30\n",
      "23/23 [==============================] - ETA: 0s - loss: 0.0425 - categorical_accuracy: 0.9955\n",
      "Epoch 00013: val_loss improved from 0.17778 to 0.15108, saving model to /content/drive/My Drive/Colab Notebooks/gesture/best_model/model_7_2021-12-1411_57_30.968173/model-00013-0.04247-0.99548-0.15108-0.94000.h5\n",
      "23/23 [==============================] - 36s 2s/step - loss: 0.0425 - categorical_accuracy: 0.9955 - val_loss: 0.1511 - val_categorical_accuracy: 0.9400 - lr: 5.0000e-04\n",
      "Epoch 14/30\n",
      "23/23 [==============================] - ETA: 0s - loss: 0.0639 - categorical_accuracy: 0.9849\n",
      "Epoch 00014: val_loss improved from 0.15108 to 0.11613, saving model to /content/drive/My Drive/Colab Notebooks/gesture/best_model/model_7_2021-12-1411_57_30.968173/model-00014-0.06394-0.98492-0.11613-0.94000.h5\n",
      "23/23 [==============================] - 36s 2s/step - loss: 0.0639 - categorical_accuracy: 0.9849 - val_loss: 0.1161 - val_categorical_accuracy: 0.9400 - lr: 5.0000e-04\n",
      "Epoch 15/30\n",
      "23/23 [==============================] - ETA: 0s - loss: 0.0268 - categorical_accuracy: 0.9970\n",
      "Epoch 00015: val_loss did not improve from 0.11613\n",
      "23/23 [==============================] - 36s 2s/step - loss: 0.0268 - categorical_accuracy: 0.9970 - val_loss: 0.3292 - val_categorical_accuracy: 0.9000 - lr: 5.0000e-04\n",
      "Epoch 16/30\n",
      "23/23 [==============================] - ETA: 0s - loss: 0.0221 - categorical_accuracy: 0.9985\n",
      "Epoch 00016: val_loss did not improve from 0.11613\n",
      "\n",
      "Epoch 00016: ReduceLROnPlateau reducing learning rate to 0.0002500000118743628.\n",
      "23/23 [==============================] - 35s 2s/step - loss: 0.0221 - categorical_accuracy: 0.9985 - val_loss: 0.2136 - val_categorical_accuracy: 0.9300 - lr: 5.0000e-04\n",
      "Epoch 17/30\n",
      "23/23 [==============================] - ETA: 0s - loss: 0.0228 - categorical_accuracy: 0.9970\n",
      "Epoch 00017: val_loss did not improve from 0.11613\n",
      "23/23 [==============================] - 36s 2s/step - loss: 0.0228 - categorical_accuracy: 0.9970 - val_loss: 0.1977 - val_categorical_accuracy: 0.9200 - lr: 2.5000e-04\n",
      "Epoch 18/30\n",
      "23/23 [==============================] - ETA: 0s - loss: 0.0331 - categorical_accuracy: 0.9925\n",
      "Epoch 00018: val_loss improved from 0.11613 to 0.07181, saving model to /content/drive/My Drive/Colab Notebooks/gesture/best_model/model_7_2021-12-1411_57_30.968173/model-00018-0.03314-0.99246-0.07181-0.97000.h5\n",
      "23/23 [==============================] - 36s 2s/step - loss: 0.0331 - categorical_accuracy: 0.9925 - val_loss: 0.0718 - val_categorical_accuracy: 0.9700 - lr: 2.5000e-04\n",
      "Epoch 19/30\n",
      "23/23 [==============================] - ETA: 0s - loss: 0.0148 - categorical_accuracy: 1.0000\n",
      "Epoch 00019: val_loss did not improve from 0.07181\n",
      "23/23 [==============================] - 36s 2s/step - loss: 0.0148 - categorical_accuracy: 1.0000 - val_loss: 0.1163 - val_categorical_accuracy: 0.9400 - lr: 2.5000e-04\n",
      "Epoch 20/30\n",
      "23/23 [==============================] - ETA: 0s - loss: 0.0137 - categorical_accuracy: 0.9985\n",
      "Epoch 00020: val_loss did not improve from 0.07181\n",
      "\n",
      "Epoch 00020: ReduceLROnPlateau reducing learning rate to 0.0001250000059371814.\n",
      "23/23 [==============================] - 35s 2s/step - loss: 0.0137 - categorical_accuracy: 0.9985 - val_loss: 0.0783 - val_categorical_accuracy: 0.9600 - lr: 2.5000e-04\n",
      "Epoch 21/30\n",
      "23/23 [==============================] - ETA: 0s - loss: 0.0167 - categorical_accuracy: 0.9970\n",
      "Epoch 00021: val_loss did not improve from 0.07181\n",
      "23/23 [==============================] - 36s 2s/step - loss: 0.0167 - categorical_accuracy: 0.9970 - val_loss: 0.0972 - val_categorical_accuracy: 0.9600 - lr: 1.2500e-04\n",
      "Epoch 22/30\n",
      "23/23 [==============================] - ETA: 0s - loss: 0.0184 - categorical_accuracy: 0.9970\n",
      "Epoch 00022: val_loss did not improve from 0.07181\n",
      "\n",
      "Epoch 00022: ReduceLROnPlateau reducing learning rate to 6.25000029685907e-05.\n",
      "23/23 [==============================] - 36s 2s/step - loss: 0.0184 - categorical_accuracy: 0.9970 - val_loss: 0.1177 - val_categorical_accuracy: 0.9700 - lr: 1.2500e-04\n",
      "Epoch 23/30\n",
      "23/23 [==============================] - ETA: 0s - loss: 0.0162 - categorical_accuracy: 0.9985\n",
      "Epoch 00023: val_loss did not improve from 0.07181\n",
      "23/23 [==============================] - 35s 2s/step - loss: 0.0162 - categorical_accuracy: 0.9985 - val_loss: 0.1193 - val_categorical_accuracy: 0.9700 - lr: 6.2500e-05\n",
      "Epoch 24/30\n",
      "23/23 [==============================] - ETA: 0s - loss: 0.0114 - categorical_accuracy: 1.0000\n",
      "Epoch 00024: val_loss did not improve from 0.07181\n",
      "\n",
      "Epoch 00024: ReduceLROnPlateau reducing learning rate to 3.125000148429535e-05.\n",
      "23/23 [==============================] - 34s 2s/step - loss: 0.0114 - categorical_accuracy: 1.0000 - val_loss: 0.1293 - val_categorical_accuracy: 0.9500 - lr: 6.2500e-05\n",
      "Epoch 25/30\n",
      "23/23 [==============================] - ETA: 0s - loss: 0.0121 - categorical_accuracy: 0.9985\n",
      "Epoch 00025: val_loss did not improve from 0.07181\n",
      "23/23 [==============================] - 35s 2s/step - loss: 0.0121 - categorical_accuracy: 0.9985 - val_loss: 0.1359 - val_categorical_accuracy: 0.9500 - lr: 3.1250e-05\n",
      "Epoch 26/30\n",
      "23/23 [==============================] - ETA: 0s - loss: 0.0124 - categorical_accuracy: 0.9985\n",
      "Epoch 00026: val_loss did not improve from 0.07181\n",
      "\n",
      "Epoch 00026: ReduceLROnPlateau reducing learning rate to 1.5625000742147677e-05.\n",
      "23/23 [==============================] - 36s 2s/step - loss: 0.0124 - categorical_accuracy: 0.9985 - val_loss: 0.2330 - val_categorical_accuracy: 0.9200 - lr: 3.1250e-05\n",
      "Epoch 27/30\n",
      "23/23 [==============================] - ETA: 0s - loss: 0.0103 - categorical_accuracy: 1.0000\n",
      "Epoch 00027: val_loss did not improve from 0.07181\n",
      "23/23 [==============================] - 36s 2s/step - loss: 0.0103 - categorical_accuracy: 1.0000 - val_loss: 0.1496 - val_categorical_accuracy: 0.9400 - lr: 1.5625e-05\n",
      "Epoch 28/30\n",
      "23/23 [==============================] - ETA: 0s - loss: 0.0187 - categorical_accuracy: 0.9955\n",
      "Epoch 00028: val_loss did not improve from 0.07181\n",
      "\n",
      "Epoch 00028: ReduceLROnPlateau reducing learning rate to 1e-05.\n",
      "23/23 [==============================] - 35s 2s/step - loss: 0.0187 - categorical_accuracy: 0.9955 - val_loss: 0.1358 - val_categorical_accuracy: 0.9600 - lr: 1.5625e-05\n",
      "Epoch 29/30\n",
      "23/23 [==============================] - ETA: 0s - loss: 0.0151 - categorical_accuracy: 0.9985\n",
      "Epoch 00029: val_loss did not improve from 0.07181\n",
      "23/23 [==============================] - 36s 2s/step - loss: 0.0151 - categorical_accuracy: 0.9985 - val_loss: 0.1399 - val_categorical_accuracy: 0.9600 - lr: 1.0000e-05\n",
      "Epoch 30/30\n",
      "23/23 [==============================] - ETA: 0s - loss: 0.0136 - categorical_accuracy: 0.9970\n",
      "Epoch 00030: val_loss did not improve from 0.07181\n",
      "23/23 [==============================] - 36s 2s/step - loss: 0.0136 - categorical_accuracy: 0.9970 - val_loss: 0.1177 - val_categorical_accuracy: 0.9700 - lr: 1.0000e-05\n"
     ]
    }
   ],
   "source": [
    "# Fit the model based on the parameters set\n",
    "history_7=model_7.fit(train_generator, steps_per_epoch=steps_per_epoch, epochs=num_epochs, verbose=1, \n",
    "                    callbacks=callbacks_list, validation_data=val_generator, \n",
    "                    validation_steps=validation_step_cnt, class_weight=None, workers=1, initial_epoch=0)"
   ]
  },
  {
   "cell_type": "code",
   "execution_count": null,
   "metadata": {
    "colab": {
     "base_uri": "https://localhost:8080/",
     "height": 283
    },
    "executionInfo": {
     "elapsed": 1088,
     "status": "ok",
     "timestamp": 1639484142438,
     "user": {
      "displayName": "Rajesh Kumar",
      "photoUrl": "https://lh3.googleusercontent.com/a-/AOh14Gj1g2_gr6swv8LrV37ZSsSVoMBTlC5xpstWf7djDA=s64",
      "userId": "08705855997000983605"
     },
     "user_tz": -330
    },
    "id": "eosrPxtqyKy0",
    "outputId": "d57920cc-bdf7-432d-cc85-0764ce07a61d"
   },
   "outputs": [
    {
     "data": {
      "text/plain": [
       "<matplotlib.legend.Legend at 0x7f9f46d9a5d0>"
      ]
     },
     "execution_count": 62,
     "metadata": {},
     "output_type": "execute_result"
    },
    {
     "data": {
      "image/png": "[encoded data removed]",
      "text/plain": [
       "<Figure size 1080x288 with 2 Axes>"
      ]
     },
     "metadata": {
      "needs_background": "light"
     },
     "output_type": "display_data"
    }
   ],
   "source": [
    "# Plot the graphs for loss, categorical_accuracy, val_loss, val_categorical_loss\n",
    "fig, axes = plt.subplots(nrows=1, ncols=2, figsize=(15,4))\n",
    "axes[0].plot(history_7.history['loss'])   \n",
    "axes[0].plot(history_7.history['val_loss'])\n",
    "axes[0].legend(['loss','val_loss'])\n",
    "axes[1].plot(history_7.history['categorical_accuracy'])   \n",
    "axes[1].plot(history_7.history['val_categorical_accuracy'])\n",
    "axes[1].legend(['categorical_accuracy','val_categorical_accuracy'])"
   ]
  },
  {
   "cell_type": "markdown",
   "metadata": {
    "id": "gp0KMpMjFEBf"
   },
   "source": [
    "#Model -8"
   ]
  },
  {
   "cell_type": "code",
   "execution_count": null,
   "metadata": {
    "id": "oqDlMcKBFB_W"
   },
   "outputs": [],
   "source": [
    "# Model 8 GRU with kernel_Optimizer (Model-5-GRU options used as-is)\n",
    "\n",
    "resize_ht = 100\n",
    "resize_wd = 100\n",
    "model_8 = Sequential()\n",
    "\n",
    "#Input layer\n",
    "model_8.add(TimeDistributed(Conv2D(16,(3,3),padding='same',activation='relu'),input_shape=(18,resize_ht,resize_wd,3)))\n",
    "model_8.add(TimeDistributed(BatchNormalization()))\n",
    "model_8.add(TimeDistributed(MaxPooling2D((2, 2))))\n",
    "\n",
    "#Hidden Layer with Kernel_regularizer to reduce overfitting problem on Model#5\n",
    "model_8.add(TimeDistributed(Conv2D(32,(3,3),padding='same',activation='relu',kernel_regularizer=l2(0.0001))))\n",
    "model_8.add(TimeDistributed(BatchNormalization()))\n",
    "model_8.add(TimeDistributed(MaxPooling2D((2, 2))))\n",
    "\n",
    "#Hidden Layer with Kernel_regularizer to reduce overfitting problem on Model#5\n",
    "model_8.add(TimeDistributed(Conv2D(64,(3,3),padding='same',activation='relu',kernel_regularizer=l2(0.0001))))\n",
    "model_8.add(TimeDistributed(BatchNormalization()))\n",
    "model_8.add(TimeDistributed(MaxPooling2D((2, 2))))\n",
    "\n",
    "#Hidden Layer with Kernel_regularizer to reduce overfitting problem on Model#5\n",
    "model_8.add(TimeDistributed(Conv2D(128,(3,3),padding='same',activation='relu',kernel_regularizer=l2(0.0001))))\n",
    "model_8.add(TimeDistributed(BatchNormalization()))\n",
    "model_8.add(TimeDistributed(MaxPooling2D((2, 2))))\n",
    "\n",
    "#Flatten\n",
    "model_8.add(TimeDistributed(Flatten()))\n",
    "\n",
    "#GRU\n",
    "model_8.add(GRU(64))\n",
    "model_8.add(Dropout(0.2))\n",
    "\n",
    "#Fully Connected layer with kernel_regularizer\n",
    "model_8.add(Dense(64,activation='relu',kernel_regularizer=l2(0.0001)))\n",
    "model_8.add(Dropout(0.2))\n",
    "\n",
    "#Output layer\n",
    "model_8.add(Dense(5,activation='softmax'))\n"
   ]
  },
  {
   "cell_type": "code",
   "execution_count": null,
   "metadata": {
    "colab": {
     "base_uri": "https://localhost:8080/"
    },
    "executionInfo": {
     "elapsed": 343,
     "status": "ok",
     "timestamp": 1639490039834,
     "user": {
      "displayName": "Rajesh Kumar",
      "photoUrl": "https://lh3.googleusercontent.com/a-/AOh14Gj1g2_gr6swv8LrV37ZSsSVoMBTlC5xpstWf7djDA=s64",
      "userId": "08705855997000983605"
     },
     "user_tz": -330
    },
    "id": "SeNuqP3hFann",
    "outputId": "372770fc-18e7-44dd-da20-7367fe6d23e2"
   },
   "outputs": [
    {
     "name": "stdout",
     "output_type": "stream",
     "text": [
      "Model: \"sequential_10\"\n",
      "_________________________________________________________________\n",
      " Layer (type)                Output Shape              Param #   \n",
      "=================================================================\n",
      " time_distributed_66 (TimeDi  (None, 18, 100, 100, 16)  448      \n",
      " stributed)                                                      \n",
      "                                                                 \n",
      " time_distributed_67 (TimeDi  (None, 18, 100, 100, 16)  64       \n",
      " stributed)                                                      \n",
      "                                                                 \n",
      " time_distributed_68 (TimeDi  (None, 18, 50, 50, 16)   0         \n",
      " stributed)                                                      \n",
      "                                                                 \n",
      " time_distributed_69 (TimeDi  (None, 18, 50, 50, 32)   4640      \n",
      " stributed)                                                      \n",
      "                                                                 \n",
      " time_distributed_70 (TimeDi  (None, 18, 50, 50, 32)   128       \n",
      " stributed)                                                      \n",
      "                                                                 \n",
      " time_distributed_71 (TimeDi  (None, 18, 25, 25, 32)   0         \n",
      " stributed)                                                      \n",
      "                                                                 \n",
      " time_distributed_72 (TimeDi  (None, 18, 25, 25, 64)   18496     \n",
      " stributed)                                                      \n",
      "                                                                 \n",
      " time_distributed_73 (TimeDi  (None, 18, 25, 25, 64)   256       \n",
      " stributed)                                                      \n",
      "                                                                 \n",
      " time_distributed_74 (TimeDi  (None, 18, 12, 12, 64)   0         \n",
      " stributed)                                                      \n",
      "                                                                 \n",
      " time_distributed_75 (TimeDi  (None, 18, 12, 12, 128)  73856     \n",
      " stributed)                                                      \n",
      "                                                                 \n",
      " time_distributed_76 (TimeDi  (None, 18, 12, 12, 128)  512       \n",
      " stributed)                                                      \n",
      "                                                                 \n",
      " time_distributed_77 (TimeDi  (None, 18, 6, 6, 128)    0         \n",
      " stributed)                                                      \n",
      "                                                                 \n",
      " time_distributed_78 (TimeDi  (None, 18, 4608)         0         \n",
      " stributed)                                                      \n",
      "                                                                 \n",
      " gru_4 (GRU)                 (None, 64)                897408    \n",
      "                                                                 \n",
      " dropout_18 (Dropout)        (None, 64)                0         \n",
      "                                                                 \n",
      " dense_18 (Dense)            (None, 64)                4160      \n",
      "                                                                 \n",
      " dropout_19 (Dropout)        (None, 64)                0         \n",
      "                                                                 \n",
      " dense_19 (Dense)            (None, 5)                 325       \n",
      "                                                                 \n",
      "=================================================================\n",
      "Total params: 1,000,293\n",
      "Trainable params: 999,813\n",
      "Non-trainable params: 480\n",
      "_________________________________________________________________\n",
      "None\n"
     ]
    }
   ],
   "source": [
    "# Adam optimizer with learning rate parameter\n",
    "optimiser = optimizers.Adam(learning_rate=0.001)\n",
    "\n",
    "#Compile the model\n",
    "model_8.compile(optimizer=optimiser, loss='categorical_crossentropy', metrics=['categorical_accuracy'])\n",
    "\n",
    "#Check the model summary\n",
    "print (model_8.summary())\n"
   ]
  },
  {
   "cell_type": "code",
   "execution_count": null,
   "metadata": {
    "id": "RGrGNnXpFa4k"
   },
   "outputs": [],
   "source": [
    "# Invoke the generator for train and validation directories\n",
    "batch_size=30\n",
    "train_generator = generator(train_path, train_doc, batch_size,resize_ht,resize_wd)\n",
    "val_generator = generator(val_path, val_doc, batch_size,resize_ht,resize_wd)\n"
   ]
  },
  {
   "cell_type": "code",
   "execution_count": null,
   "metadata": {
    "id": "WsK5YWx-Fa7x"
   },
   "outputs": [],
   "source": [
    "#Create path for saving the best model\n",
    "model_name = save_path + 'model_8' + '_' + str(datetime.datetime.now()).replace(' ','').replace(':','_') + '/'\n",
    "    \n",
    "if not os.path.exists(model_name):\n",
    "    os.mkdir(model_name)\n",
    "        \n",
    "filepath = model_name + 'model-{epoch:05d}-{loss:.5f}-{categorical_accuracy:.5f}-{val_loss:.5f}-{val_categorical_accuracy:.5f}.h5'\n",
    "\n",
    "# Set the checkpoint parameters for saving the best models during each run\n",
    "checkpoint = ModelCheckpoint(filepath, monitor='val_loss', verbose=1, save_best_only=True, save_weights_only=False, mode='auto', save_freq='epoch')\n",
    "\n",
    "#Reduce learning rate when a metric has stopped improving.\n",
    "LR = ReduceLROnPlateau(monitor='val_loss', factor=0.5, patience=2, verbose=1, mode='min', min_delta=0.0001, cooldown=0, min_lr=0.00001)\n",
    "\n",
    "#earlystop = EarlyStopping(monitor='val_loss',min_delta=0,patience=10,verbose=1)\n",
    "callbacks_list = [checkpoint, LR]\n"
   ]
  },
  {
   "cell_type": "code",
   "execution_count": null,
   "metadata": {
    "id": "XJ0LYqRIFbKR"
   },
   "outputs": [],
   "source": [
    "#The steps_per_epoch and validation_steps are used by fit_generator to decide the number of next() calls \n",
    "#it need to make.\n",
    "if (num_train_sequences%batch_size) == 0:\n",
    "    steps_per_epoch = int(num_train_sequences/batch_size)\n",
    "else:\n",
    "    steps_per_epoch = (num_train_sequences//batch_size) + 1\n",
    "\n",
    "if (num_val_sequences%batch_size) == 0:\n",
    "    validation_step_cnt = int(num_val_sequences/batch_size)\n",
    "else:\n",
    "    validation_step_cnt = (num_val_sequences//batch_size) + 1\n"
   ]
  },
  {
   "cell_type": "code",
   "execution_count": null,
   "metadata": {
    "colab": {
     "base_uri": "https://localhost:8080/"
    },
    "executionInfo": {
     "elapsed": 722734,
     "status": "ok",
     "timestamp": 1639490805758,
     "user": {
      "displayName": "Rajesh Kumar",
      "photoUrl": "https://lh3.googleusercontent.com/a-/AOh14Gj1g2_gr6swv8LrV37ZSsSVoMBTlC5xpstWf7djDA=s64",
      "userId": "08705855997000983605"
     },
     "user_tz": -330
    },
    "id": "83gfeDSJFlQy",
    "outputId": "ea1b2f31-9137-4ac6-8783-20b671c06513"
   },
   "outputs": [
    {
     "name": "stdout",
     "output_type": "stream",
     "text": [
      "Source path =  /content/sample_data/Project_data/train ; batch size = 30\n",
      "Epoch 1/30\n",
      "22/23 [===========================>..] - ETA: 0s - loss: 1.4878 - categorical_accuracy: 0.3773Source path =  /content/sample_data/Project_data/val ; batch size = 30\n",
      "\n",
      "Epoch 00001: val_loss improved from inf to 1.93016, saving model to /content/drive/My Drive/Colab Notebooks/gesture/best_model/model_8_2021-12-1413_54_09.160392/model-00001-1.48851-0.37557-1.93016-0.23000.h5\n",
      "23/23 [==============================] - 29s 1s/step - loss: 1.4885 - categorical_accuracy: 0.3756 - val_loss: 1.9302 - val_categorical_accuracy: 0.2300 - lr: 0.0010\n",
      "Epoch 2/30\n",
      "22/23 [===========================>..] - ETA: 0s - loss: 1.2203 - categorical_accuracy: 0.5197\n",
      "Epoch 00002: val_loss did not improve from 1.93016\n",
      "23/23 [==============================] - 26s 1s/step - loss: 1.2182 - categorical_accuracy: 0.5204 - val_loss: 2.0317 - val_categorical_accuracy: 0.2100 - lr: 0.0010\n",
      "Epoch 3/30\n",
      "22/23 [===========================>..] - ETA: 0s - loss: 1.0320 - categorical_accuracy: 0.6167\n",
      "Epoch 00003: val_loss did not improve from 1.93016\n",
      "\n",
      "Epoch 00003: ReduceLROnPlateau reducing learning rate to 0.0005000000237487257.\n",
      "23/23 [==============================] - 24s 1s/step - loss: 1.0302 - categorical_accuracy: 0.6169 - val_loss: 2.4718 - val_categorical_accuracy: 0.2700 - lr: 0.0010\n",
      "Epoch 4/30\n",
      "22/23 [===========================>..] - ETA: 0s - loss: 0.8884 - categorical_accuracy: 0.6773\n",
      "Epoch 00004: val_loss did not improve from 1.93016\n",
      "23/23 [==============================] - 23s 1s/step - loss: 0.8874 - categorical_accuracy: 0.6787 - val_loss: 2.2206 - val_categorical_accuracy: 0.2700 - lr: 5.0000e-04\n",
      "Epoch 5/30\n",
      "22/23 [===========================>..] - ETA: 0s - loss: 0.7393 - categorical_accuracy: 0.7621\n",
      "Epoch 00005: val_loss did not improve from 1.93016\n",
      "\n",
      "Epoch 00005: ReduceLROnPlateau reducing learning rate to 0.0002500000118743628.\n",
      "23/23 [==============================] - 24s 1s/step - loss: 0.7401 - categorical_accuracy: 0.7617 - val_loss: 2.0220 - val_categorical_accuracy: 0.3300 - lr: 5.0000e-04\n",
      "Epoch 6/30\n",
      "22/23 [===========================>..] - ETA: 0s - loss: 0.6196 - categorical_accuracy: 0.7970\n",
      "Epoch 00006: val_loss improved from 1.93016 to 1.65881, saving model to /content/drive/My Drive/Colab Notebooks/gesture/best_model/model_8_2021-12-1413_54_09.160392/model-00006-0.61877-0.79789-1.65881-0.45000.h5\n",
      "23/23 [==============================] - 24s 1s/step - loss: 0.6188 - categorical_accuracy: 0.7979 - val_loss: 1.6588 - val_categorical_accuracy: 0.4500 - lr: 2.5000e-04\n",
      "Epoch 7/30\n",
      "22/23 [===========================>..] - ETA: 0s - loss: 0.5717 - categorical_accuracy: 0.8288\n",
      "Epoch 00007: val_loss improved from 1.65881 to 1.64799, saving model to /content/drive/My Drive/Colab Notebooks/gesture/best_model/model_8_2021-12-1413_54_09.160392/model-00007-0.57419-0.82655-1.64799-0.46000.h5\n",
      "23/23 [==============================] - 24s 1s/step - loss: 0.5742 - categorical_accuracy: 0.8265 - val_loss: 1.6480 - val_categorical_accuracy: 0.4600 - lr: 2.5000e-04\n",
      "Epoch 8/30\n",
      "23/23 [==============================] - ETA: 0s - loss: 0.5109 - categorical_accuracy: 0.8688\n",
      "Epoch 00008: val_loss improved from 1.64799 to 1.05225, saving model to /content/drive/My Drive/Colab Notebooks/gesture/best_model/model_8_2021-12-1413_54_09.160392/model-00008-0.51093-0.86878-1.05225-0.59000.h5\n",
      "23/23 [==============================] - 24s 1s/step - loss: 0.5109 - categorical_accuracy: 0.8688 - val_loss: 1.0522 - val_categorical_accuracy: 0.5900 - lr: 2.5000e-04\n",
      "Epoch 9/30\n",
      "22/23 [===========================>..] - ETA: 0s - loss: 0.4386 - categorical_accuracy: 0.8894\n",
      "Epoch 00009: val_loss improved from 1.05225 to 0.86489, saving model to /content/drive/My Drive/Colab Notebooks/gesture/best_model/model_8_2021-12-1413_54_09.160392/model-00009-0.44257-0.88688-0.86489-0.70000.h5\n",
      "23/23 [==============================] - 24s 1s/step - loss: 0.4426 - categorical_accuracy: 0.8869 - val_loss: 0.8649 - val_categorical_accuracy: 0.7000 - lr: 2.5000e-04\n",
      "Epoch 10/30\n",
      "22/23 [===========================>..] - ETA: 0s - loss: 0.3771 - categorical_accuracy: 0.9212\n",
      "Epoch 00010: val_loss did not improve from 0.86489\n",
      "23/23 [==============================] - 24s 1s/step - loss: 0.3768 - categorical_accuracy: 0.9216 - val_loss: 0.9833 - val_categorical_accuracy: 0.6500 - lr: 2.5000e-04\n",
      "Epoch 11/30\n",
      "22/23 [===========================>..] - ETA: 0s - loss: 0.3501 - categorical_accuracy: 0.9106\n",
      "Epoch 00011: val_loss improved from 0.86489 to 0.64650, saving model to /content/drive/My Drive/Colab Notebooks/gesture/best_model/model_8_2021-12-1413_54_09.160392/model-00011-0.34960-0.91101-0.64650-0.74000.h5\n",
      "23/23 [==============================] - 24s 1s/step - loss: 0.3496 - categorical_accuracy: 0.9110 - val_loss: 0.6465 - val_categorical_accuracy: 0.7400 - lr: 2.5000e-04\n",
      "Epoch 12/30\n",
      "22/23 [===========================>..] - ETA: 0s - loss: 0.2994 - categorical_accuracy: 0.9288\n",
      "Epoch 00012: val_loss did not improve from 0.64650\n",
      "23/23 [==============================] - 23s 1s/step - loss: 0.3005 - categorical_accuracy: 0.9276 - val_loss: 0.7448 - val_categorical_accuracy: 0.7200 - lr: 2.5000e-04\n",
      "Epoch 13/30\n",
      "22/23 [===========================>..] - ETA: 0s - loss: 0.2780 - categorical_accuracy: 0.9470\n",
      "Epoch 00013: val_loss did not improve from 0.64650\n",
      "\n",
      "Epoch 00013: ReduceLROnPlateau reducing learning rate to 0.0001250000059371814.\n",
      "23/23 [==============================] - 24s 1s/step - loss: 0.2777 - categorical_accuracy: 0.9472 - val_loss: 0.7237 - val_categorical_accuracy: 0.7300 - lr: 2.5000e-04\n",
      "Epoch 14/30\n",
      "22/23 [===========================>..] - ETA: 0s - loss: 0.2386 - categorical_accuracy: 0.9485\n",
      "Epoch 00014: val_loss did not improve from 0.64650\n",
      "23/23 [==============================] - 24s 1s/step - loss: 0.2383 - categorical_accuracy: 0.9487 - val_loss: 0.7318 - val_categorical_accuracy: 0.7000 - lr: 1.2500e-04\n",
      "Epoch 15/30\n",
      "22/23 [===========================>..] - ETA: 0s - loss: 0.2143 - categorical_accuracy: 0.9621\n",
      "Epoch 00015: val_loss improved from 0.64650 to 0.64331, saving model to /content/drive/My Drive/Colab Notebooks/gesture/best_model/model_8_2021-12-1413_54_09.160392/model-00015-0.21414-0.96229-0.64331-0.79000.h5\n",
      "23/23 [==============================] - 24s 1s/step - loss: 0.2141 - categorical_accuracy: 0.9623 - val_loss: 0.6433 - val_categorical_accuracy: 0.7900 - lr: 1.2500e-04\n",
      "Epoch 16/30\n",
      "23/23 [==============================] - ETA: 0s - loss: 0.2145 - categorical_accuracy: 0.9578\n",
      "Epoch 00016: val_loss did not improve from 0.64331\n",
      "23/23 [==============================] - 23s 1s/step - loss: 0.2145 - categorical_accuracy: 0.9578 - val_loss: 0.7061 - val_categorical_accuracy: 0.7400 - lr: 1.2500e-04\n",
      "Epoch 17/30\n",
      "22/23 [===========================>..] - ETA: 0s - loss: 0.1819 - categorical_accuracy: 0.9758\n",
      "Epoch 00017: val_loss did not improve from 0.64331\n",
      "\n",
      "Epoch 00017: ReduceLROnPlateau reducing learning rate to 6.25000029685907e-05.\n",
      "23/23 [==============================] - 24s 1s/step - loss: 0.1852 - categorical_accuracy: 0.9744 - val_loss: 0.6862 - val_categorical_accuracy: 0.7900 - lr: 1.2500e-04\n",
      "Epoch 18/30\n",
      "22/23 [===========================>..] - ETA: 0s - loss: 0.1933 - categorical_accuracy: 0.9727\n",
      "Epoch 00018: val_loss did not improve from 0.64331\n",
      "23/23 [==============================] - 24s 1s/step - loss: 0.1928 - categorical_accuracy: 0.9729 - val_loss: 0.6848 - val_categorical_accuracy: 0.7800 - lr: 6.2500e-05\n",
      "Epoch 19/30\n",
      "22/23 [===========================>..] - ETA: 0s - loss: 0.1809 - categorical_accuracy: 0.9697\n",
      "Epoch 00019: val_loss did not improve from 0.64331\n",
      "\n",
      "Epoch 00019: ReduceLROnPlateau reducing learning rate to 3.125000148429535e-05.\n",
      "23/23 [==============================] - 24s 1s/step - loss: 0.1805 - categorical_accuracy: 0.9698 - val_loss: 0.7922 - val_categorical_accuracy: 0.7700 - lr: 6.2500e-05\n",
      "Epoch 20/30\n",
      "22/23 [===========================>..] - ETA: 0s - loss: 0.1675 - categorical_accuracy: 0.9788\n",
      "Epoch 00020: val_loss improved from 0.64331 to 0.58385, saving model to /content/drive/My Drive/Colab Notebooks/gesture/best_model/model_8_2021-12-1413_54_09.160392/model-00020-0.16774-0.97888-0.58385-0.84000.h5\n",
      "23/23 [==============================] - 24s 1s/step - loss: 0.1677 - categorical_accuracy: 0.9789 - val_loss: 0.5838 - val_categorical_accuracy: 0.8400 - lr: 3.1250e-05\n",
      "Epoch 21/30\n",
      "22/23 [===========================>..] - ETA: 0s - loss: 0.1669 - categorical_accuracy: 0.9758\n",
      "Epoch 00021: val_loss did not improve from 0.58385\n",
      "23/23 [==============================] - 24s 1s/step - loss: 0.1663 - categorical_accuracy: 0.9759 - val_loss: 0.6693 - val_categorical_accuracy: 0.8000 - lr: 3.1250e-05\n",
      "Epoch 22/30\n",
      "22/23 [===========================>..] - ETA: 0s - loss: 0.1607 - categorical_accuracy: 0.9818\n",
      "Epoch 00022: val_loss improved from 0.58385 to 0.54725, saving model to /content/drive/My Drive/Colab Notebooks/gesture/best_model/model_8_2021-12-1413_54_09.160392/model-00022-0.16038-0.98190-0.54725-0.86000.h5\n",
      "23/23 [==============================] - 24s 1s/step - loss: 0.1604 - categorical_accuracy: 0.9819 - val_loss: 0.5472 - val_categorical_accuracy: 0.8600 - lr: 3.1250e-05\n",
      "Epoch 23/30\n",
      "23/23 [==============================] - ETA: 0s - loss: 0.1562 - categorical_accuracy: 0.9729\n",
      "Epoch 00023: val_loss did not improve from 0.54725\n",
      "23/23 [==============================] - 24s 1s/step - loss: 0.1562 - categorical_accuracy: 0.9729 - val_loss: 0.6693 - val_categorical_accuracy: 0.7700 - lr: 3.1250e-05\n",
      "Epoch 24/30\n",
      "22/23 [===========================>..] - ETA: 0s - loss: 0.1599 - categorical_accuracy: 0.9803\n",
      "Epoch 00024: val_loss did not improve from 0.54725\n",
      "\n",
      "Epoch 00024: ReduceLROnPlateau reducing learning rate to 1.5625000742147677e-05.\n",
      "23/23 [==============================] - 23s 1s/step - loss: 0.1593 - categorical_accuracy: 0.9804 - val_loss: 0.6875 - val_categorical_accuracy: 0.8100 - lr: 3.1250e-05\n",
      "Epoch 25/30\n",
      "22/23 [===========================>..] - ETA: 0s - loss: 0.1589 - categorical_accuracy: 0.9742\n",
      "Epoch 00025: val_loss did not improve from 0.54725\n",
      "23/23 [==============================] - 24s 1s/step - loss: 0.1588 - categorical_accuracy: 0.9744 - val_loss: 0.6570 - val_categorical_accuracy: 0.8100 - lr: 1.5625e-05\n",
      "Epoch 26/30\n",
      "22/23 [===========================>..] - ETA: 0s - loss: 0.1593 - categorical_accuracy: 0.9758\n",
      "Epoch 00026: val_loss did not improve from 0.54725\n",
      "\n",
      "Epoch 00026: ReduceLROnPlateau reducing learning rate to 1e-05.\n",
      "23/23 [==============================] - 23s 1s/step - loss: 0.1592 - categorical_accuracy: 0.9759 - val_loss: 0.6236 - val_categorical_accuracy: 0.8200 - lr: 1.5625e-05\n",
      "Epoch 27/30\n",
      "22/23 [===========================>..] - ETA: 0s - loss: 0.1641 - categorical_accuracy: 0.9697\n",
      "Epoch 00027: val_loss did not improve from 0.54725\n",
      "23/23 [==============================] - 24s 1s/step - loss: 0.1637 - categorical_accuracy: 0.9698 - val_loss: 0.7121 - val_categorical_accuracy: 0.7800 - lr: 1.0000e-05\n",
      "Epoch 28/30\n",
      "22/23 [===========================>..] - ETA: 0s - loss: 0.1450 - categorical_accuracy: 0.9848\n",
      "Epoch 00028: val_loss did not improve from 0.54725\n",
      "23/23 [==============================] - 23s 1s/step - loss: 0.1453 - categorical_accuracy: 0.9849 - val_loss: 0.6047 - val_categorical_accuracy: 0.8100 - lr: 1.0000e-05\n",
      "Epoch 29/30\n",
      "22/23 [===========================>..] - ETA: 0s - loss: 0.1668 - categorical_accuracy: 0.9742\n",
      "Epoch 00029: val_loss did not improve from 0.54725\n",
      "23/23 [==============================] - 24s 1s/step - loss: 0.1663 - categorical_accuracy: 0.9744 - val_loss: 0.6435 - val_categorical_accuracy: 0.8100 - lr: 1.0000e-05\n",
      "Epoch 30/30\n",
      "22/23 [===========================>..] - ETA: 0s - loss: 0.1562 - categorical_accuracy: 0.9773\n",
      "Epoch 00030: val_loss did not improve from 0.54725\n",
      "23/23 [==============================] - 24s 1s/step - loss: 0.1580 - categorical_accuracy: 0.9759 - val_loss: 0.5728 - val_categorical_accuracy: 0.8400 - lr: 1.0000e-05\n"
     ]
    }
   ],
   "source": [
    "#Fit the model based on the parameters set\n",
    "history_8=model_8.fit(train_generator, steps_per_epoch=steps_per_epoch, epochs=num_epochs, verbose=1, \n",
    "                    callbacks=callbacks_list, validation_data=val_generator, \n",
    "                    validation_steps=validation_step_cnt, class_weight=None, workers=1, initial_epoch=0)\n"
   ]
  },
  {
   "cell_type": "code",
   "execution_count": null,
   "metadata": {
    "colab": {
     "base_uri": "https://localhost:8080/",
     "height": 283
    },
    "executionInfo": {
     "elapsed": 1338,
     "status": "ok",
     "timestamp": 1639490918610,
     "user": {
      "displayName": "Rajesh Kumar",
      "photoUrl": "https://lh3.googleusercontent.com/a-/AOh14Gj1g2_gr6swv8LrV37ZSsSVoMBTlC5xpstWf7djDA=s64",
      "userId": "08705855997000983605"
     },
     "user_tz": -330
    },
    "id": "gKBGxJh5FlTw",
    "outputId": "0e4ac4f0-d552-49bd-8288-ae3f6fbb578d"
   },
   "outputs": [
    {
     "data": {
      "text/plain": [
       "<matplotlib.legend.Legend at 0x7f9ff596f050>"
      ]
     },
     "execution_count": 126,
     "metadata": {},
     "output_type": "execute_result"
    },
    {
     "data": {
      "image/png": "[encoded data removed]",
      "text/plain": [
       "<Figure size 1080x288 with 2 Axes>"
      ]
     },
     "metadata": {
      "needs_background": "light"
     },
     "output_type": "display_data"
    }
   ],
   "source": [
    "# Plot the graphs for loss, categorical_accuracy, val_loss, val_categorical_loss\n",
    "fig, axes = plt.subplots(nrows=1, ncols=2, figsize=(15,4))\n",
    "axes[0].plot(history_8.history['loss'])   \n",
    "axes[0].plot(history_8.history['val_loss'])\n",
    "axes[0].legend(['loss','val_loss'])\n",
    "axes[1].plot(history_8.history['categorical_accuracy'])   \n",
    "axes[1].plot(history_8.history['val_categorical_accuracy'])\n",
    "axes[1].legend(['categorical_accuracy','val_categorical_accuracy'])"
   ]
  },
  {
   "cell_type": "code",
   "execution_count": null,
   "metadata": {
    "colab": {
     "base_uri": "https://localhost:8080/",
     "height": 300
    },
    "executionInfo": {
     "elapsed": 393,
     "status": "ok",
     "timestamp": 1639493789624,
     "user": {
      "displayName": "Rajesh Kumar",
      "photoUrl": "https://lh3.googleusercontent.com/a-/AOh14Gj1g2_gr6swv8LrV37ZSsSVoMBTlC5xpstWf7djDA=s64",
      "userId": "08705855997000983605"
     },
     "user_tz": -330
    },
    "id": "YiWKr-k65MgY",
    "outputId": "e95fc9f5-4c50-47c4-ec8f-853561a1fb36"
   },
   "outputs": [
    {
     "data": {
      "text/html": [
       "<style  type=\"text/css\" >\n",
       "</style><table id=\"T_05378960_5cee_11ec_8c4f_0242ac1c0002\" class=\"dataframe\"><thead>    <tr>        <th class=\"col_heading level0 col0\" >Model#</th>        <th class=\"col_heading level0 col1\" >No.of Parameters</th>        <th class=\"col_heading level0 col2\" >Training accuracy</th>        <th class=\"col_heading level0 col3\" >Best_val_accuracy</th>    </tr></thead><tbody>\n",
       "                <tr>\n",
       "                                <td id=\"T_05378960_5cee_11ec_8c4f_0242ac1c0002row0_col0\" class=\"data row0 col0\" >1</td>\n",
       "                        <td id=\"T_05378960_5cee_11ec_8c4f_0242ac1c0002row0_col1\" class=\"data row0 col1\" >11211525</td>\n",
       "                        <td id=\"T_05378960_5cee_11ec_8c4f_0242ac1c0002row0_col2\" class=\"data row0 col2\" >0.867270</td>\n",
       "                        <td id=\"T_05378960_5cee_11ec_8c4f_0242ac1c0002row0_col3\" class=\"data row0 col3\" >0.910000</td>\n",
       "            </tr>\n",
       "            <tr>\n",
       "                                <td id=\"T_05378960_5cee_11ec_8c4f_0242ac1c0002row1_col0\" class=\"data row1 col0\" >2</td>\n",
       "                        <td id=\"T_05378960_5cee_11ec_8c4f_0242ac1c0002row1_col1\" class=\"data row1 col1\" >5362053</td>\n",
       "                        <td id=\"T_05378960_5cee_11ec_8c4f_0242ac1c0002row1_col2\" class=\"data row1 col2\" >0.616893</td>\n",
       "                        <td id=\"T_05378960_5cee_11ec_8c4f_0242ac1c0002row1_col3\" class=\"data row1 col3\" >0.730000</td>\n",
       "            </tr>\n",
       "            <tr>\n",
       "                                <td id=\"T_05378960_5cee_11ec_8c4f_0242ac1c0002row2_col0\" class=\"data row2 col0\" >3</td>\n",
       "                        <td id=\"T_05378960_5cee_11ec_8c4f_0242ac1c0002row2_col1\" class=\"data row2 col1\" >3527045</td>\n",
       "                        <td id=\"T_05378960_5cee_11ec_8c4f_0242ac1c0002row2_col2\" class=\"data row2 col2\" >0.683258</td>\n",
       "                        <td id=\"T_05378960_5cee_11ec_8c4f_0242ac1c0002row2_col3\" class=\"data row2 col3\" >0.740000</td>\n",
       "            </tr>\n",
       "            <tr>\n",
       "                                <td id=\"T_05378960_5cee_11ec_8c4f_0242ac1c0002row3_col0\" class=\"data row3 col0\" >4</td>\n",
       "                        <td id=\"T_05378960_5cee_11ec_8c4f_0242ac1c0002row3_col1\" class=\"data row3 col1\" >1299173</td>\n",
       "                        <td id=\"T_05378960_5cee_11ec_8c4f_0242ac1c0002row3_col2\" class=\"data row3 col2\" >0.980392</td>\n",
       "                        <td id=\"T_05378960_5cee_11ec_8c4f_0242ac1c0002row3_col3\" class=\"data row3 col3\" >0.790000</td>\n",
       "            </tr>\n",
       "            <tr>\n",
       "                                <td id=\"T_05378960_5cee_11ec_8c4f_0242ac1c0002row4_col0\" class=\"data row4 col0\" >5</td>\n",
       "                        <td id=\"T_05378960_5cee_11ec_8c4f_0242ac1c0002row4_col1\" class=\"data row4 col1\" >1000293</td>\n",
       "                        <td id=\"T_05378960_5cee_11ec_8c4f_0242ac1c0002row4_col2\" class=\"data row4 col2\" >0.971342</td>\n",
       "                        <td id=\"T_05378960_5cee_11ec_8c4f_0242ac1c0002row4_col3\" class=\"data row4 col3\" >0.790000</td>\n",
       "            </tr>\n",
       "            <tr>\n",
       "                                <td id=\"T_05378960_5cee_11ec_8c4f_0242ac1c0002row5_col0\" class=\"data row5 col0\" >6</td>\n",
       "                        <td id=\"T_05378960_5cee_11ec_8c4f_0242ac1c0002row5_col1\" class=\"data row5 col1\" >3516229</td>\n",
       "                        <td id=\"T_05378960_5cee_11ec_8c4f_0242ac1c0002row5_col2\" class=\"data row5 col2\" >0.733032</td>\n",
       "                        <td id=\"T_05378960_5cee_11ec_8c4f_0242ac1c0002row5_col3\" class=\"data row5 col3\" >0.640000</td>\n",
       "            </tr>\n",
       "            <tr>\n",
       "                                <td id=\"T_05378960_5cee_11ec_8c4f_0242ac1c0002row6_col0\" class=\"data row6 col0\" >7</td>\n",
       "                        <td id=\"T_05378960_5cee_11ec_8c4f_0242ac1c0002row6_col1\" class=\"data row6 col1\" >4036549</td>\n",
       "                        <td id=\"T_05378960_5cee_11ec_8c4f_0242ac1c0002row6_col2\" class=\"data row6 col2\" >0.992459</td>\n",
       "                        <td id=\"T_05378960_5cee_11ec_8c4f_0242ac1c0002row6_col3\" class=\"data row6 col3\" >0.970000</td>\n",
       "            </tr>\n",
       "            <tr>\n",
       "                                <td id=\"T_05378960_5cee_11ec_8c4f_0242ac1c0002row7_col0\" class=\"data row7 col0\" >8</td>\n",
       "                        <td id=\"T_05378960_5cee_11ec_8c4f_0242ac1c0002row7_col1\" class=\"data row7 col1\" >1000293</td>\n",
       "                        <td id=\"T_05378960_5cee_11ec_8c4f_0242ac1c0002row7_col2\" class=\"data row7 col2\" >0.981900</td>\n",
       "                        <td id=\"T_05378960_5cee_11ec_8c4f_0242ac1c0002row7_col3\" class=\"data row7 col3\" >0.860000</td>\n",
       "            </tr>\n",
       "    </tbody></table>"
      ],
      "text/plain": [
       "<pandas.io.formats.style.Styler at 0x7f9ff5b2c6d0>"
      ]
     },
     "execution_count": 130,
     "metadata": {},
     "output_type": "execute_result"
    }
   ],
   "source": [
    "# Summarize the models and their accuracy values\n",
    "import pandas as pd\n",
    "\n",
    "data=[\n",
    "      ['1',model_1.count_params(),history_1.history['categorical_accuracy'][history_1.history['val_categorical_accuracy'].index(max(history_1.history['val_categorical_accuracy']))],max(history_1.history['val_categorical_accuracy'])],\n",
    "      ['2',model_2.count_params(),history_2.history['categorical_accuracy'][history_2.history['val_categorical_accuracy'].index(max(history_2.history['val_categorical_accuracy']))],max(history_2.history['val_categorical_accuracy'])],\n",
    "      ['3',model_3.count_params(),history_3.history['categorical_accuracy'][history_3.history['val_categorical_accuracy'].index(max(history_3.history['val_categorical_accuracy']))],max(history_3.history['val_categorical_accuracy'])],\n",
    "      ['4',model_4.count_params(),history_4.history['categorical_accuracy'][history_4.history['val_categorical_accuracy'].index(max(history_4.history['val_categorical_accuracy']))],max(history_4.history['val_categorical_accuracy'])],\n",
    "      ['5',model_5.count_params(),history_5.history['categorical_accuracy'][history_5.history['val_categorical_accuracy'].index(max(history_5.history['val_categorical_accuracy']))],max(history_5.history['val_categorical_accuracy'])],\n",
    "      ['6',model_6.count_params(),history_6.history['categorical_accuracy'][history_6.history['val_categorical_accuracy'].index(max(history_6.history['val_categorical_accuracy']))],max(history_6.history['val_categorical_accuracy'])],\n",
    "      ['7',model_7.count_params(),history_7.history['categorical_accuracy'][history_7.history['val_categorical_accuracy'].index(max(history_7.history['val_categorical_accuracy']))],max(history_7.history['val_categorical_accuracy'])],\n",
    "      ['8',model_8.count_params(),history_8.history['categorical_accuracy'][history_8.history['val_categorical_accuracy'].index(max(history_8.history['val_categorical_accuracy']))],max(history_8.history['val_categorical_accuracy'])]\n",
    "      ]\n",
    "\n",
    "summary_df = pd.DataFrame(data,columns=['Model#','No.of Parameters','Training accuracy','Best_val_accuracy'])\n",
    "\n",
    "summary_df.style.hide_index()"
   ]
  },
  {
   "cell_type": "code",
   "execution_count": null,
   "metadata": {
    "id": "3UYjrhReEW8f"
   },
   "outputs": [],
   "source": []
  },
  {
   "cell_type": "code",
   "execution_count": null,
   "metadata": {
    "id": "okY_WD985cw4"
   },
   "outputs": [],
   "source": [
    "from keras.models import load_model"
   ]
  },
  {
   "cell_type": "code",
   "execution_count": null,
   "metadata": {
    "id": "VFlgaTvx5oXj"
   },
   "outputs": [],
   "source": [
    "# Load the best model based on the metrics other than the model -\n",
    "# generated using transfer learning - i.e., model#8 - epoch 022 run.\n",
    "final_model = load_model('/content/drive/My Drive/Colab Notebooks/gesture/best_model/model_8_2021-12-1413_54_09.160392/model-00022-0.16038-0.98190-0.54725-0.86000.h5')"
   ]
  },
  {
   "cell_type": "code",
   "execution_count": null,
   "metadata": {
    "colab": {
     "base_uri": "https://localhost:8080/"
    },
    "executionInfo": {
     "elapsed": 351,
     "status": "ok",
     "timestamp": 1639494349332,
     "user": {
      "displayName": "Rajesh Kumar",
      "photoUrl": "https://lh3.googleusercontent.com/a-/AOh14Gj1g2_gr6swv8LrV37ZSsSVoMBTlC5xpstWf7djDA=s64",
      "userId": "08705855997000983605"
     },
     "user_tz": -330
    },
    "id": "4gSkTw2Q5oZs",
    "outputId": "9651ee97-407f-4a18-9ba5-c36c99d182f7"
   },
   "outputs": [
    {
     "name": "stdout",
     "output_type": "stream",
     "text": [
      "Model: \"sequential_10\"\n",
      "_________________________________________________________________\n",
      " Layer (type)                Output Shape              Param #   \n",
      "=================================================================\n",
      " time_distributed_66 (TimeDi  (None, 18, 100, 100, 16)  448      \n",
      " stributed)                                                      \n",
      "                                                                 \n",
      " time_distributed_67 (TimeDi  (None, 18, 100, 100, 16)  64       \n",
      " stributed)                                                      \n",
      "                                                                 \n",
      " time_distributed_68 (TimeDi  (None, 18, 50, 50, 16)   0         \n",
      " stributed)                                                      \n",
      "                                                                 \n",
      " time_distributed_69 (TimeDi  (None, 18, 50, 50, 32)   4640      \n",
      " stributed)                                                      \n",
      "                                                                 \n",
      " time_distributed_70 (TimeDi  (None, 18, 50, 50, 32)   128       \n",
      " stributed)                                                      \n",
      "                                                                 \n",
      " time_distributed_71 (TimeDi  (None, 18, 25, 25, 32)   0         \n",
      " stributed)                                                      \n",
      "                                                                 \n",
      " time_distributed_72 (TimeDi  (None, 18, 25, 25, 64)   18496     \n",
      " stributed)                                                      \n",
      "                                                                 \n",
      " time_distributed_73 (TimeDi  (None, 18, 25, 25, 64)   256       \n",
      " stributed)                                                      \n",
      "                                                                 \n",
      " time_distributed_74 (TimeDi  (None, 18, 12, 12, 64)   0         \n",
      " stributed)                                                      \n",
      "                                                                 \n",
      " time_distributed_75 (TimeDi  (None, 18, 12, 12, 128)  73856     \n",
      " stributed)                                                      \n",
      "                                                                 \n",
      " time_distributed_76 (TimeDi  (None, 18, 12, 12, 128)  512       \n",
      " stributed)                                                      \n",
      "                                                                 \n",
      " time_distributed_77 (TimeDi  (None, 18, 6, 6, 128)    0         \n",
      " stributed)                                                      \n",
      "                                                                 \n",
      " time_distributed_78 (TimeDi  (None, 18, 4608)         0         \n",
      " stributed)                                                      \n",
      "                                                                 \n",
      " gru_4 (GRU)                 (None, 64)                897408    \n",
      "                                                                 \n",
      " dropout_18 (Dropout)        (None, 64)                0         \n",
      "                                                                 \n",
      " dense_18 (Dense)            (None, 64)                4160      \n",
      "                                                                 \n",
      " dropout_19 (Dropout)        (None, 64)                0         \n",
      "                                                                 \n",
      " dense_19 (Dense)            (None, 5)                 325       \n",
      "                                                                 \n",
      "=================================================================\n",
      "Total params: 1,000,293\n",
      "Trainable params: 999,813\n",
      "Non-trainable params: 480\n",
      "_________________________________________________________________\n"
     ]
    }
   ],
   "source": [
    "final_model.summary()"
   ]
  }
 ],
 "metadata": {
  "colab": {
   "collapsed_sections": [],
   "name": "Neural_Nets_Project_Pranoy_Rajesh.ipynb",
   "provenance": []
  },
  "kernelspec": {
   "display_name": "Python 3",
   "language": "python",
   "name": "python3"
  },
  "language_info": {
   "codemirror_mode": {
    "name": "ipython",
    "version": 3
   },
   "file_extension": ".py",
   "mimetype": "text/x-python",
   "name": "python",
   "nbconvert_exporter": "python",
   "pygments_lexer": "ipython3",
   "version": "3.8.5"
  }
 },
 "nbformat": 4,
 "nbformat_minor": 1
}
